{
 "cells": [
  {
   "cell_type": "markdown",
   "metadata": {},
   "source": [
    "## Testing APIs called/used by the MPO FD Rollover App"
   ]
  },
  {
   "cell_type": "markdown",
   "metadata": {},
   "source": [
    "<a id=\"sectionx\"></a>\n",
    "# MPO FD Rollover Testing - Notebook\n",
    "* [Get FDs Maturing today](#section1)\n",
    "\n",
    "\n",
    "\n",
    "GitHub: https://github.com/MkershMambu/MambuAPINotebook.git\n",
    "\n",
    "Viewer: [https://nbviewer.jupyter.org/github/MkershMambu/MambuAPINotebook/blob/master/MambuAPINotebook.ipynb](https://nbviewer.jupyter.org/github/MkershMambu/MambuAPINotebook/blob/master/MambuAPINotebook.ipynb?flush_cache=true)\n",
    "\n"
   ]
  },
  {
   "cell_type": "code",
   "execution_count": 10,
   "metadata": {},
   "outputs": [],
   "source": [
    "%run API.py\n",
    "%run ENV.py\n",
    "from IPython.core.display import HTML\n",
    "setENV(ENV)"
   ]
  },
  {
   "cell_type": "markdown",
   "metadata": {},
   "source": [
    "<a id=\"section1\"></a>\n",
    "[back](#sectionx)\n",
    "### API call to determine FD's maturing today"
   ]
  },
  {
   "cell_type": "code",
   "execution_count": 13,
   "metadata": {},
   "outputs": [
    {
     "name": "stdout",
     "output_type": "stream",
     "text": [
      "Overwriting JSONBODY\n"
     ]
    }
   ],
   "source": [
    "%%writefile JSONBODY\n",
    "{\n",
    "  \"filterConstraints\": [\n",
    "      {\n",
    "          \"filterSelection\": \"MATURITY_DATE\",\n",
    "          \"filterElement\": \"TODAY\"\n",
    "      }\n",
    "  ]\n",
    "}"
   ]
  },
  {
   "cell_type": "code",
   "execution_count": 14,
   "metadata": {},
   "outputs": [
    {
     "name": "stdout",
     "output_type": "stream",
     "text": [
      "API status: 200\n",
      "JSON Response:\n",
      "[\n",
      "    {\n",
      "        \"accountHolderKey\": \"8a8186016a73c831016a788d7fa32d2e\",\n",
      "        \"accountHolderType\": \"CLIENT\",\n",
      "        \"accountState\": \"ACTIVE\",\n",
      "        \"accountType\": \"FIXED_DEPOSIT\",\n",
      "        \"accruedInterest\": \"0\",\n",
      "        \"activationDate\": \"2018-05-03T00:00:00+0000\",\n",
      "        \"allowOverdraft\": false,\n",
      "        \"approvedDate\": \"2019-05-03T12:29:57+0000\",\n",
      "        \"assignedBranchKey\": \"8a8186016a73c831016a77fe7fcf2b21\",\n",
      "        \"balance\": \"5128.49\",\n",
      "        \"creationDate\": \"2019-05-03T10:29:49+0000\",\n",
      "        \"currency\": {\n",
      "            \"code\": \"EUR\",\n",
      "            \"creationDate\": \"2018-12-05T14:25:48+0000\",\n",
      "            \"currencySymbolPosition\": \"BEFORE_NUMBER\",\n",
      "            \"digitsAfterDecimal\": 2,\n",
      "            \"isBaseCurrency\": true,\n",
      "            \"lastModifiedDate\": \"2018-12-05T14:25:48+0000\",\n",
      "            \"name\": \"Euro\",\n",
      "            \"symbol\": \"\\u20ac\"\n",
      "        },\n",
      "        \"currencyCode\": \"EUR\",\n",
      "        \"encodedKey\": \"8a8186016a7a9872016a7d3e347e0a05\",\n",
      "        \"feesDue\": \"0\",\n",
      "        \"holdBalance\": \"0\",\n",
      "        \"id\": \"HPJY987\",\n",
      "        \"interestDue\": \"0\",\n",
      "        \"interestPaymentPoint\": \"EVERY_MONTH\",\n",
      "        \"interestSettings\": {\n",
      "            \"accrueInterestAfterMaturity\": false,\n",
      "            \"encodedKey\": \"8a8186016a7a9872016a7d3e347e0a06\",\n",
      "            \"interestChargeFrequency\": \"ANNUALIZED\",\n",
      "            \"interestChargeFrequencyCount\": 1,\n",
      "            \"interestRate\": \"2.54\",\n",
      "            \"interestRateSource\": \"FIXED_INTEREST_RATE\",\n",
      "            \"interestRateTerms\": \"FIXED\",\n",
      "            \"interestRateTiers\": []\n",
      "        },\n",
      "        \"lastInterestCalculationDate\": \"2019-05-03T00:00:00+0000\",\n",
      "        \"lastInterestStoredDate\": \"2019-05-03T00:00:00+0000\",\n",
      "        \"lastModifiedDate\": \"2019-05-03T10:30:50+0000\",\n",
      "        \"lockedBalance\": \"0\",\n",
      "        \"maturityDate\": \"2019-05-03T00:00:00+0000\",\n",
      "        \"name\": \"Rollover Term Deposit - Monthly\",\n",
      "        \"notes\": \"\",\n",
      "        \"overdraftAmount\": \"0\",\n",
      "        \"overdraftInterestAccrued\": \"0\",\n",
      "        \"overdraftLimit\": \"0\",\n",
      "        \"productTypeKey\": \"8a8186016a73c831016a7807c0bb2b2a\",\n",
      "        \"technicalInterestDue\": \"0\",\n",
      "        \"technicalOverdraftAmount\": \"0\",\n",
      "        \"technicalOverdraftInterestAccrued\": \"0\"\n",
      "    }\n",
      "]\n"
     ]
    }
   ],
   "source": [
    "HEADERS = {'Content-Type': 'application/json'}\n",
    "PARAMS = {}\n",
    "r = POST('{{env1}}/savings/search', headers=HEADERS, params=PARAMS, body=\"JSONBODY\")\n",
    "PRINT(r)"
   ]
  },
  {
   "cell_type": "code",
   "execution_count": null,
   "metadata": {},
   "outputs": [],
   "source": []
  }
 ],
 "metadata": {
  "kernelspec": {
   "display_name": "Python 3",
   "language": "python",
   "name": "python3"
  },
  "language_info": {
   "codemirror_mode": {
    "name": "ipython",
    "version": 3
   },
   "file_extension": ".py",
   "mimetype": "text/x-python",
   "name": "python",
   "nbconvert_exporter": "python",
   "pygments_lexer": "ipython3",
   "version": "3.7.1"
  }
 },
 "nbformat": 4,
 "nbformat_minor": 2
}
