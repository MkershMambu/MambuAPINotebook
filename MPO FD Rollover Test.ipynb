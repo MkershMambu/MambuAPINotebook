{
 "cells": [
  {
   "cell_type": "markdown",
   "metadata": {},
   "source": [
    "<a id=\"sectionx\"></a>\n",
    "# MPO FD Rollover Testing - Notebook\n",
    "* [Get FDs Maturing today](#section1)\n",
    "* [Create new Rollover Term Deposit - Monthly](#section2)\n",
    "\n",
    "\n",
    "\n",
    "GitHub: https://github.com/MkershMambu/MambuAPINotebook/blob/master/MPO%20FD%20Rollover%20Test.ipynb\n",
    "\n",
    "Viewer: [https://nbviewer.jupyter.org/github/MkershMambu/MambuAPINotebook/blob/master/MPO%20FD%20Rollover%20Test.ipynb](https://nbviewer.jupyter.org/github/MkershMambu/MambuAPINotebook/blob/master/MPO%20FD%20Rollover%20Test.ipynb?flush_cache=true)\n",
    "\n"
   ]
  },
  {
   "cell_type": "code",
   "execution_count": 10,
   "metadata": {},
   "outputs": [],
   "source": [
    "%run API.py\n",
    "%run ENV.py\n",
    "from IPython.core.display import HTML\n",
    "setENV(ENV)"
   ]
  },
  {
   "cell_type": "markdown",
   "metadata": {},
   "source": [
    "<a id=\"section1\"></a>\n",
    "[back](#sectionx)\n",
    "### API call to determine FD's maturing today\n",
    "* This was in the original spec doc but isn't the call that is being made\n",
    "* For demo purposes though it may make sense to use this filter"
   ]
  },
  {
   "cell_type": "code",
   "execution_count": 163,
   "metadata": {},
   "outputs": [
    {
     "name": "stdout",
     "output_type": "stream",
     "text": [
      "Overwriting JSONBODY\n"
     ]
    }
   ],
   "source": [
    "%%writefile JSONBODY\n",
    "{\n",
    "  \"filterConstraints\": [\n",
    "      {\n",
    "          \"filterSelection\": \"MATURITY_DATE\",\n",
    "          \"filterElement\": \"TODAY\"\n",
    "      },\n",
    "        {\n",
    "            \"filterElement\": \"IN\",\n",
    "            \"filterSelection\": \"ACCOUNT_STATE\",\n",
    "            \"values\": [\n",
    "                \"ACTIVE\"\n",
    "            ]\n",
    "        }\n",
    "  ]\n",
    "}"
   ]
  },
  {
   "cell_type": "code",
   "execution_count": 164,
   "metadata": {},
   "outputs": [
    {
     "name": "stdout",
     "output_type": "stream",
     "text": [
      "0\n",
      "API status: 200\n",
      "JSON Response:\n",
      "[]\n"
     ]
    }
   ],
   "source": [
    "HEADERS = {'Content-Type': 'application/json'}\n",
    "PARAMS = {}\n",
    "r = POST('{{env1}}/savings/search', headers=HEADERS, params=PARAMS, body=\"JSONBODY\")\n",
    "print(len(r.json()))\n",
    "PRINT(r)"
   ]
  },
  {
   "cell_type": "markdown",
   "metadata": {},
   "source": [
    "### The API that the Rollover App was using\n",
    "* NOTE: Need EOD to run before FD(s) moved into MATURED state\n",
    "    * So not great for demos\n",
    "* Best option in a live PROD enviornment though"
   ]
  },
  {
   "cell_type": "code",
   "execution_count": 28,
   "metadata": {},
   "outputs": [
    {
     "name": "stdout",
     "output_type": "stream",
     "text": [
      "Overwriting JSONBODY\n"
     ]
    }
   ],
   "source": [
    "%%writefile JSONBODY\n",
    "{\n",
    "  \"filterConstraints\": [\n",
    "      {\n",
    "          \"filterElement\": \"IN\",\n",
    "          \"filterSelection\": \"ACCOUNT_STATE\",\n",
    "          \"values\": [\n",
    "              \"MATURED\"\n",
    "          ]\n",
    "          \n",
    "      }\n",
    "  ]\n",
    "}"
   ]
  },
  {
   "cell_type": "code",
   "execution_count": 29,
   "metadata": {},
   "outputs": [
    {
     "name": "stdout",
     "output_type": "stream",
     "text": [
      "0\n",
      "API status: 200\n",
      "JSON Response:\n",
      "[]\n"
     ]
    }
   ],
   "source": [
    "HEADERS = {'Content-Type': 'application/json'}\n",
    "PARAMS = {}\n",
    "r = POST('{{env1}}/savings/search', headers=HEADERS, params=PARAMS, body=\"JSONBODY\")\n",
    "print(len(r.json()))\n",
    "PRINT(r)"
   ]
  },
  {
   "cell_type": "markdown",
   "metadata": {},
   "source": [
    "<a id=\"section2\"></a>\n",
    "[back](#sectionx)\n",
    "### Create new Rollover Term Deposit - Monthly\n",
    "* With maturity of today so that it triggers the Rollover App"
   ]
  },
  {
   "cell_type": "code",
   "execution_count": 148,
   "metadata": {},
   "outputs": [
    {
     "name": "stdout",
     "output_type": "stream",
     "text": [
      "Overwriting JSONBODY\n"
     ]
    }
   ],
   "source": [
    "%%writefile JSONBODY\n",
    "{\n",
    "  \"accountType\": \"FIXED_DEPOSIT\",\n",
    "  \"name\": \"XXXFD Rollover - Monthly\",\n",
    "  \"accountHolderKey\": \"8a8186016a73c831016a788d7fa32d2e\",\n",
    "  \"productTypeKey\": \"8a8186016a73c831016a7807c0bb2b2a\",\n",
    "  \"currencyCode\": \"EUR\",\n",
    "  \"accountHolderType\": \"CLIENT\",\n",
    "  \"interestSettings\": {\n",
    "      \"interestRateSettings\": {\n",
    "            \"encodedKey\": \"8a8186016a7a9872016a7e8d7e7e179e\",\n",
    "            \"interestChargeFrequency\": \"ANNUALIZED\",\n",
    "            \"interestChargeFrequencyCount\": 1,\n",
    "            \"interestRate\": 2.54,\n",
    "            \"interestRateTerms\": \"FIXED\",\n",
    "            \"interestRateTiers\": []\n",
    "        }\n",
    "    }\n",
    "}\n"
   ]
  },
  {
   "cell_type": "code",
   "execution_count": 149,
   "metadata": {},
   "outputs": [
    {
     "name": "stdout",
     "output_type": "stream",
     "text": [
      "API status:\n",
      "201\n",
      "Now the JSON:\n",
      "{\"encodedKey\":\"8a8186016a7a9872016a82108a3828c5\",\"creationDate\":\"2019-05-04T10:58:48+02:00\",\"lastModifiedDate\":\"2019-05-04T10:58:48+02:00\",\"id\":\"ZHUG429\",\"name\":\"XXXFD Rollover - Monthly\",\"accountHolderType\":\"CLIENT\",\"accountHolderKey\":\"8a8186016a73c831016a788d7fa32d2e\",\"accountState\":\"PENDING_APPROVAL\",\"productTypeKey\":\"8a8186016a73c831016a7807c0bb2b2a\",\"accountType\":\"FIXED_DEPOSIT\",\"currencyCode\":\"EUR\",\"assignedBranchKey\":\"8a8186016a73c831016a77fe7fcf2b21\",\"internalControls\":{},\"overdraftSettings\":{\"allowOverdraft\":false,\"overdraftLimit\":0},\"interestSettings\":{\"interestRateSettings\":{\"encodedKey\":\"8a8186016a7a9872016a82108a3828c6\",\"interestRate\":2.54,\"interestChargeFrequency\":\"ANNUALIZED\",\"interestChargeFrequencyCount\":1,\"interestRateTiers\":[],\"interestRateTerms\":\"FIXED\"},\"interestPaymentSettings\":{\"interestPaymentPoint\":\"EVERY_MONTH\",\"interestPaymentDates\":[]}},\"overdraftInterestSettings\":{},\"balances\":{\"overdraftAmount\":0,\"technicalOverdraftAmount\":0,\"lockedBalance\":0,\"availableBalance\":0,\"holdBalance\":0,\"overdraftInterestDue\":0,\"technicalOverdraftInterestDue\":0,\"feesDue\":0},\"accruedAmounts\":{\"interestAccrued\":0,\"overdraftInterestAccrued\":0,\"technicalOverdraftInterestAccrued\":0}}\n"
     ]
    }
   ],
   "source": [
    "HEADERS = {'Accept': 'application/vnd.mambu.v2+json','Content-Type': 'application/json'}\n",
    "PARAMS = {}\n",
    "r = POST('{{env1}}/deposits', headers=HEADERS, params=PARAMS, body=\"JSONBODY\")\n",
    "print (\"API status:\")\n",
    "print(r.status_code)\n",
    "print(\"Now the JSON:\")\n",
    "print(r.text)\n",
    "encodedKey = r.json()[\"encodedKey\"]"
   ]
  },
  {
   "cell_type": "markdown",
   "metadata": {},
   "source": [
    "### Aprove the account"
   ]
  },
  {
   "cell_type": "code",
   "execution_count": 150,
   "metadata": {},
   "outputs": [
    {
     "name": "stdout",
     "output_type": "stream",
     "text": [
      "Overwriting JSONBODY\n"
     ]
    }
   ],
   "source": [
    "%%writefile JSONBODY\n",
    "{\n",
    "  \"action\": \"APPROVE\",\n",
    "  \"notes\": \"more notes\"\n",
    "}"
   ]
  },
  {
   "cell_type": "code",
   "execution_count": 151,
   "metadata": {},
   "outputs": [
    {
     "name": "stdout",
     "output_type": "stream",
     "text": [
      "API status:\n",
      "200\n",
      "Now the JSON:\n",
      "{\"encodedKey\":\"8a8186016a7a9872016a82108a3828c5\",\"creationDate\":\"2019-05-04T10:58:48+02:00\",\"lastModifiedDate\":\"2019-05-04T10:58:56+02:00\",\"id\":\"ZHUG429\",\"name\":\"XXXFD Rollover - Monthly\",\"accountHolderType\":\"CLIENT\",\"accountHolderKey\":\"8a8186016a73c831016a788d7fa32d2e\",\"accountState\":\"APPROVED\",\"productTypeKey\":\"8a8186016a73c831016a7807c0bb2b2a\",\"accountType\":\"FIXED_DEPOSIT\",\"approvedDate\":\"2019-05-04T10:58:56+02:00\",\"currencyCode\":\"EUR\",\"assignedBranchKey\":\"8a8186016a73c831016a77fe7fcf2b21\",\"internalControls\":{},\"overdraftSettings\":{\"allowOverdraft\":false,\"overdraftLimit\":0E-10},\"interestSettings\":{\"interestRateSettings\":{\"encodedKey\":\"8a8186016a7a9872016a82108a3828c6\",\"interestRate\":2.54000000000000000000,\"interestChargeFrequency\":\"ANNUALIZED\",\"interestChargeFrequencyCount\":1,\"interestRateTiers\":[],\"interestRateTerms\":\"FIXED\"},\"interestPaymentSettings\":{\"interestPaymentPoint\":\"EVERY_MONTH\",\"interestPaymentDates\":[]}},\"overdraftInterestSettings\":{},\"balances\":{\"overdraftAmount\":0E-10,\"technicalOverdraftAmount\":0E-10,\"lockedBalance\":0E-10,\"availableBalance\":0E-10,\"holdBalance\":0E-10,\"overdraftInterestDue\":0E-10,\"technicalOverdraftInterestDue\":0E-10,\"feesDue\":0E-10},\"accruedAmounts\":{\"interestAccrued\":0E-10,\"overdraftInterestAccrued\":0E-10,\"technicalOverdraftInterestAccrued\":0E-10}}\n"
     ]
    }
   ],
   "source": [
    "HEADERS = {'Accept': 'application/vnd.mambu.v2+json','Content-Type': 'application/json'}\n",
    "PARAMS = {}\n",
    "url = \"{{env1}}\" + \"/deposits/{0}:changeState\".format(encodedKey)\n",
    "r = POST(url, headers=HEADERS, params=PARAMS, body=\"JSONBODY\")\n",
    "print (\"API status:\")\n",
    "print(r.status_code)\n",
    "print(\"Now the JSON:\")\n",
    "print(r.text)"
   ]
  },
  {
   "cell_type": "markdown",
   "metadata": {},
   "source": [
    "### Deposit into account"
   ]
  },
  {
   "cell_type": "code",
   "execution_count": 152,
   "metadata": {},
   "outputs": [
    {
     "name": "stdout",
     "output_type": "stream",
     "text": [
      "Overwriting JSONBODY\n"
     ]
    }
   ],
   "source": [
    "%%writefile JSONBODY\n",
    "{\n",
    "  \"transactionDetails\": {\n",
    "    \"transactionChannelId\": \"8a818e74677a2e9201677ec2b4c336a6\"\n",
    "  },\n",
    "  \"amount\": 5432,\n",
    "  \"notes\": \"some notes\",\n",
    "  \"paymentOrderId\": \"{{UniqueID}}\",\n",
    "  \"externalId\": \"{{UniqueID}}\",\n",
    "  \"valueDate\": \"2018-05-04T00:00:00+02:00\"\n",
    "}"
   ]
  },
  {
   "cell_type": "code",
   "execution_count": 153,
   "metadata": {},
   "outputs": [
    {
     "name": "stdout",
     "output_type": "stream",
     "text": [
      "API status:\n",
      "201\n",
      "Now the JSON:\n",
      "{\"encodedKey\":\"8a8186b56a796b5c016a820fe7ed2e11\",\"id\":\"201\",\"externalId\":\"6d83db5f-1843-477e-aa30-9f7dbf0f795d\",\"paymentOrderId\":\"6d83db5f-1843-477e-aa30-9f7dbf0f795d\",\"creationDate\":\"2019-05-04T10:59:10+02:00\",\"valueDate\":\"2018-05-04T00:00:00+02:00\",\"notes\":\"some notes\",\"parentAccountKey\":\"8a8186016a7a9872016a82108a3828c5\",\"type\":\"DEPOSIT\",\"amount\":5432,\"currencyCode\":\"EUR\",\"affectedAmounts\":{\"fundsAmount\":5432.0000000000,\"interestAmount\":0,\"feesAmount\":0,\"overdraftAmount\":0E-10,\"overdraftFeesAmount\":0E-10,\"overdraftInterestAmount\":0E-10,\"technicalOverdraftAmount\":0E-10,\"technicalOverdraftInterestAmount\":0E-10,\"fractionAmount\":0},\"taxes\":{},\"accountBalances\":{\"totalBalance\":5432.0000000000},\"userKey\":\"8a8186ac69267891016928db604e0735\",\"branchKey\":\"8a8186016a73c831016a77fe7fcf2b21\",\"terms\":{\"interestSettings\":{\"interestRate\":2.54000000000000000000},\"overdraftInterestSettings\":{},\"overdraftSettings\":{}},\"transactionDetails\":{\"transactionChannelKey\":\"8a818e74677a2e9201677ec2b4c336a6\",\"transactionChannelId\":\"cash\"},\"transferDetails\":{},\"fees\":[]}\n"
     ]
    }
   ],
   "source": [
    "HEADERS = {'Accept': 'application/vnd.mambu.v2+json','Content-Type': 'application/json'}\n",
    "PARAMS = {}\n",
    "BODYPARTS = {'UniqueID': getUUID()}\n",
    "url = \"{{env1}}\" + \"/deposits/{0}/deposit-transactions\".format(encodedKey)\n",
    "r = POST(url, headers=HEADERS, params=PARAMS, body=\"JSONBODY\", bodyparts=BODYPARTS)\n",
    "print (\"API status:\")\n",
    "print(r.status_code)\n",
    "print(\"Now the JSON:\")\n",
    "print(r.text)"
   ]
  },
  {
   "cell_type": "markdown",
   "metadata": {},
   "source": [
    "### Start the maturity"
   ]
  },
  {
   "cell_type": "code",
   "execution_count": 154,
   "metadata": {},
   "outputs": [
    {
     "name": "stdout",
     "output_type": "stream",
     "text": [
      "Overwriting JSONBODY\n"
     ]
    }
   ],
   "source": [
    "%%writefile JSONBODY\n",
    "{\n",
    "  \"type\": \"START_MATURITY\",\n",
    "  \"notes\": \"start maturity for FD\"\n",
    "}"
   ]
  },
  {
   "cell_type": "code",
   "execution_count": 156,
   "metadata": {},
   "outputs": [
    {
     "name": "stdout",
     "output_type": "stream",
     "text": [
      "API status:\n",
      "200\n",
      "Now the JSON:\n",
      "{\"encodedKey\":\"8a8186016a7a9872016a82108a3828c5\",\"id\":\"ZHUG429\",\"accountHolderKey\":\"8a8186016a73c831016a788d7fa32d2e\",\"accountHolderType\":\"CLIENT\",\"name\":\"XXXFD Rollover - Monthly\",\"creationDate\":\"2019-05-04T08:58:48+0000\",\"approvedDate\":\"2019-05-04T10:58:56+0000\",\"activationDate\":\"2018-05-04T00:00:00+0000\",\"lastModifiedDate\":\"2019-05-04T09:00:20+0000\",\"lastInterestCalculationDate\":\"2019-05-04T00:00:00+0000\",\"lastInterestStoredDate\":\"2019-05-04T00:00:00+0000\",\"productTypeKey\":\"8a8186016a73c831016a7807c0bb2b2a\",\"accountType\":\"FIXED_DEPOSIT\",\"accountState\":\"ACTIVE\",\"maturityDate\":\"2019-05-04T00:00:00+0000\",\"balance\":\"5571.59\",\"accruedInterest\":\"0\",\"overdraftInterestAccrued\":\"0\",\"technicalOverdraftInterestAccrued\":\"0\",\"overdraftAmount\":\"0\",\"technicalOverdraftAmount\":\"0\",\"interestSettings\":{\"interestRate\":\"2.54\",\"encodedKey\":\"8a8186016a7a9872016a82108a3828c6\",\"interestChargeFrequency\":\"ANNUALIZED\",\"interestChargeFrequencyCount\":1,\"interestRateSource\":\"FIXED_INTEREST_RATE\",\"interestRateTerms\":\"FIXED\",\"accrueInterestAfterMaturity\":false},\"interestDue\":\"0\",\"technicalInterestDue\":\"0\",\"feesDue\":\"0\",\"overdraftLimit\":\"0\",\"allowOverdraft\":false,\"assignedBranchKey\":\"8a8186016a73c831016a77fe7fcf2b21\",\"lockedBalance\":\"0\",\"holdBalance\":\"0\",\"interestPaymentPoint\":\"EVERY_MONTH\",\"currencyCode\":\"EUR\",\"currency\":{\"code\":\"EUR\",\"name\":\"Euro\",\"symbol\":\"€\",\"digitsAfterDecimal\":2,\"currencySymbolPosition\":\"BEFORE_NUMBER\",\"isBaseCurrency\":true,\"creationDate\":\"2018-12-05T14:25:48+0000\",\"lastModifiedDate\":\"2018-12-05T14:25:48+0000\"}}\n"
     ]
    }
   ],
   "source": [
    "HEADERS = {'Content-Type': 'application/json'}\n",
    "PARAMS = {}\n",
    "url = \"{{env1}}\" + \"/savings/{0}/transactions\".format(encodedKey)\n",
    "\n",
    "r = POST(url, headers=HEADERS, params=PARAMS, body=\"JSONBODY\")\n",
    "print (\"API status:\")\n",
    "print(r.status_code)\n",
    "print(\"Now the JSON:\")\n",
    "print(r.text)"
   ]
  },
  {
   "cell_type": "markdown",
   "metadata": {},
   "source": [
    "### Delete Account"
   ]
  },
  {
   "cell_type": "code",
   "execution_count": 88,
   "metadata": {},
   "outputs": [
    {
     "name": "stdout",
     "output_type": "stream",
     "text": [
      "API status:\n",
      "400\n",
      "Now the JSON:\n",
      "{\"errors\":[{\"errorCode\":105,\"errorReason\":\"INVALID_ACCOUNT_STATE\"}]}\n"
     ]
    }
   ],
   "source": [
    "HEADERS = {'Accept': 'application/vnd.mambu.v2+json','Content-Type': 'application/json'}\n",
    "PARAMS = {}\n",
    "url = \"{{env1}}\" + \"/deposits/{0}\".format(encodedKey)\n",
    "r = DELETE(url, headers=HEADERS, params=PARAMS)\n",
    "print (\"API status:\")\n",
    "print(r.status_code)\n",
    "print(\"Now the JSON:\")\n",
    "print(r.text)"
   ]
  },
  {
   "cell_type": "markdown",
   "metadata": {},
   "source": [
    "### Get account details"
   ]
  },
  {
   "cell_type": "code",
   "execution_count": 68,
   "metadata": {},
   "outputs": [
    {
     "name": "stdout",
     "output_type": "stream",
     "text": [
      "API status: 200\n",
      "JSON Response:\n",
      "{\n",
      "    \"accountHolderKey\": \"8a8186016a73c831016a788d7fa32d2e\",\n",
      "    \"accountHolderType\": \"CLIENT\",\n",
      "    \"accountState\": \"ACTIVE\",\n",
      "    \"accountType\": \"FIXED_DEPOSIT\",\n",
      "    \"accruedAmounts\": {\n",
      "        \"interestAccrued\": 0.4996416603,\n",
      "        \"overdraftInterestAccrued\": 0.0,\n",
      "        \"technicalOverdraftInterestAccrued\": 0.0\n",
      "    },\n",
      "    \"activationDate\": \"2018-05-02T00:00:00+02:00\",\n",
      "    \"approvedDate\": \"2019-05-03T16:30:36+02:00\",\n",
      "    \"assignedBranchKey\": \"8a8186016a73c831016a77fe7fcf2b21\",\n",
      "    \"balances\": {\n",
      "        \"availableBalance\": 7179.89,\n",
      "        \"feesDue\": 0.0,\n",
      "        \"holdBalance\": 0.0,\n",
      "        \"lockedBalance\": 0.0,\n",
      "        \"overdraftAmount\": 0.0,\n",
      "        \"overdraftInterestDue\": 0.0,\n",
      "        \"technicalOverdraftAmount\": 0.0,\n",
      "        \"technicalOverdraftInterestDue\": 0.0,\n",
      "        \"totalBalance\": 7179.89\n",
      "    },\n",
      "    \"creationDate\": \"2019-05-03T16:30:21+02:00\",\n",
      "    \"currencyCode\": \"EUR\",\n",
      "    \"encodedKey\": \"8a8186016a7a9872016a7e19680c0ec5\",\n",
      "    \"id\": \"APIS515\",\n",
      "    \"interestSettings\": {\n",
      "        \"interestPaymentSettings\": {\n",
      "            \"interestPaymentDates\": [],\n",
      "            \"interestPaymentPoint\": \"EVERY_MONTH\"\n",
      "        },\n",
      "        \"interestRateSettings\": {\n",
      "            \"encodedKey\": \"8a8186016a7a9872016a7e19680c0ec6\",\n",
      "            \"interestChargeFrequency\": \"ANNUALIZED\",\n",
      "            \"interestChargeFrequencyCount\": 1,\n",
      "            \"interestRate\": 2.54,\n",
      "            \"interestRateTerms\": \"FIXED\",\n",
      "            \"interestRateTiers\": []\n",
      "        }\n",
      "    },\n",
      "    \"internalControls\": {},\n",
      "    \"lastInterestCalculationDate\": \"2019-05-03T00:00:00+02:00\",\n",
      "    \"lastInterestStoredDate\": \"2019-05-02T00:00:00+02:00\",\n",
      "    \"lastModifiedDate\": \"2019-05-03T16:31:31+02:00\",\n",
      "    \"maturityDate\": \"2019-05-02T00:00:00+02:00\",\n",
      "    \"name\": \"Rollover Term Deposit - Monthly\",\n",
      "    \"notes\": \"\",\n",
      "    \"overdraftInterestSettings\": {},\n",
      "    \"overdraftSettings\": {\n",
      "        \"allowOverdraft\": false,\n",
      "        \"overdraftLimit\": 0.0\n",
      "    },\n",
      "    \"productTypeKey\": \"8a8186016a73c831016a7807c0bb2b2a\"\n",
      "}\n"
     ]
    }
   ],
   "source": [
    "HEADERS = {'Accept': 'application/vnd.mambu.v2+json'}\n",
    "# Parameters below set up pagination and only returns max 20\n",
    "PARAMS = {'detailsLevel': 'FULL', 'paginationDetails': 'ON','limit': 20}\n",
    "r = GET('{{env1}}/deposits/APIS515', headers=HEADERS, params=PARAMS)\n",
    "PRINT(r)"
   ]
  },
  {
   "cell_type": "code",
   "execution_count": null,
   "metadata": {},
   "outputs": [],
   "source": []
  }
 ],
 "metadata": {
  "kernelspec": {
   "display_name": "Python 3",
   "language": "python",
   "name": "python3"
  },
  "language_info": {
   "codemirror_mode": {
    "name": "ipython",
    "version": 3
   },
   "file_extension": ".py",
   "mimetype": "text/x-python",
   "name": "python",
   "nbconvert_exporter": "python",
   "pygments_lexer": "ipython3",
   "version": "3.7.1"
  }
 },
 "nbformat": 4,
 "nbformat_minor": 2
}
