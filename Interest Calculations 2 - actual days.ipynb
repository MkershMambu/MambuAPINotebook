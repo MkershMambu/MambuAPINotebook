{
 "cells": [
  {
   "cell_type": "markdown",
   "metadata": {},
   "source": [
    "## Calculate a Loan Instalment Schedule 2\n",
    "Given start-date, principle, number of instalment and interest rate (per year):\n",
    "\n",
    "* Calculates the EMI (equal monthly instalment) amount \n",
    "* Calculates the instalment amortisation schedule\n",
    "* Maps to a DBEI (optimised) loan in Mambu with Days-in-year: actual/365\n",
    "* Also supports calculating Mambu's DBEI (non-optimised) with Days-in-year: actual/365\n",
    "    * NOTE: This uses an excel PMT calculation to work out EMI and adds extras on the last instalment\n",
    "\n"
   ]
  },
  {
   "cell_type": "code",
   "execution_count": 274,
   "metadata": {},
   "outputs": [],
   "source": [
    "import sympy as sp\n",
    "import sys\n",
    "import datetime\n",
    "from dateutil import parser\n",
    "import calendar\n",
    "# Need to increase the recusion limit (else .subs fails for 300 instalments)\n",
    "sys.setrecursionlimit(5000)"
   ]
  },
  {
   "cell_type": "code",
   "execution_count": 325,
   "metadata": {},
   "outputs": [],
   "source": [
    "def add_months(sourcedate, months):\n",
    "    month = sourcedate.month - 1 + months\n",
    "    year = sourcedate.year + month // 12\n",
    "    month = month % 12 + 1\n",
    "    day = min(sourcedate.day, calendar.monthrange(year,month)[1])\n",
    "    return datetime.date(year, month, day)\n",
    "\n",
    "def daysInPeriod(startDate):\n",
    "    if isinstance(startDate,datetime.date):\n",
    "        dt = startDate\n",
    "    else:\n",
    "        dt = parser.parse(startDate).date()\n",
    "    dt2 = add_months(dt, 1)\n",
    "    daysInPeriod = 0\n",
    "    daysInPeriod = dt2 - dt\n",
    "    return (dt,dt2,daysInPeriod.days)\n",
    "\n",
    "def monthlyPeriodInterest(days, interestPerYearPercent, daysCalcMethod):\n",
    "    if daysCalcMethod == \"30/360\":\n",
    "        periodInterest = interestPerYearPercent / 1200\n",
    "    elif daysCalcMethod == \"actual/365\":\n",
    "        periodInterest = days * (interestPerYearPercent / 36500)\n",
    "    else:\n",
    "        assert True == False, \"Unknown daysCalcMethod: {0}\".format(daysCalcMethod)\n",
    "        \n",
    "    return periodInterest\n",
    "\n",
    "def daysInPeriod2(startDate, interestPerYearPercent, daysCalcMethod):\n",
    "    dateStuff = daysInPeriod(startDate)\n",
    "    periodInterest = monthlyPeriodInterest(dateStuff[2], interestPerYearPercent, daysCalcMethod)\n",
    "    # classic python trick here if tuple only has 1 element - add ,\n",
    "    dateStuff = dateStuff + (periodInterest,)\n",
    "    return dateStuff\n",
    "        \n"
   ]
  },
  {
   "cell_type": "code",
   "execution_count": 328,
   "metadata": {},
   "outputs": [
    {
     "data": {
      "text/plain": [
       "(datetime.date(2019, 2, 1),\n",
       " datetime.date(2019, 3, 1),\n",
       " 28,\n",
       " 0.009205479452054795)"
      ]
     },
     "execution_count": 328,
     "metadata": {},
     "output_type": "execute_result"
    }
   ],
   "source": [
    "daysInPeriod2(\"01 Feb 2019\",12,'actual/365')"
   ]
  },
  {
   "cell_type": "code",
   "execution_count": 329,
   "metadata": {},
   "outputs": [],
   "source": [
    "def schedule(startDate, numInstalments, annualInterest, daysCalcMethod):\n",
    "    DAYS_CALC_METHOD = daysCalcMethod # See monthlyPeriodInterest above for supported daysCalcMethod\n",
    "    P, r, n, E = sp.symbols('P r n E')\n",
    "    dateStuff = daysInPeriod2(startDate, annualInterest, DAYS_CALC_METHOD)\n",
    "    instalmentList = [{'num':1,'from_date':dateStuff[0], 'days_in_period': dateStuff[2],\n",
    "                       'interest_expected':P*dateStuff[3],'principle_remaining':P*(1+dateStuff[3])-E}]\n",
    "    dateStuff = daysInPeriod2(dateStuff[1], annualInterest, DAYS_CALC_METHOD)\n",
    "    monthlyPeriodInterest(dateStuff[2],annualInterest,'30/360')\n",
    "    for i in range(1,numInstalments):\n",
    "        instObj = {}\n",
    "        instObj[\"num\"] = i+1\n",
    "        instObj[\"interest_expected\"] = instalmentList[i-1]['principle_remaining'] * dateStuff[3]\n",
    "        instObj[\"principle_remaining\"] = instalmentList[i-1]['principle_remaining']*(1+dateStuff[3])-E\n",
    "        instObj[\"from_date\"] = dateStuff[0]\n",
    "        instObj[\"days_in_period\"] = dateStuff[2]\n",
    "        instalmentList.append(instObj)\n",
    "        dateStuff = daysInPeriod2(dateStuff[1], annualInterest, DAYS_CALC_METHOD)\n",
    "    return instalmentList"
   ]
  },
  {
   "cell_type": "code",
   "execution_count": 363,
   "metadata": {},
   "outputs": [],
   "source": [
    "def expandSchedule(startDate, OrigPrinciple, annualInterest, numInstalments, daysCalcMethod, daysCalcMethodEMI=None):\n",
    "    ROUND_NUMDIGITS = 10\n",
    "    shList = schedule(startDate, numInstalments, annualInterest, daysCalcMethod)\n",
    "    \n",
    "    # Solve the Equation for E - for the last instalment\n",
    "    if daysCalcMethodEMI is None:\n",
    "        prin = shList[numInstalments-1]['principle_remaining']\n",
    "        expandedPrin = prin.subs(P,OrigPrinciple)\n",
    "        equalMonthlyInstalment = sp.solve(expandedPrin, E)[0]\n",
    "    else:\n",
    "        # This is to simulate Mambu's standard DBEI (i.e. without optimised setting)\n",
    "        # Mambu calculates the EMI using standard excel PMT style equation - i.e. daysCalcMethodEMI==\"30/360\"\n",
    "        shList2 = schedule(startDate, numInstalments, annualInterest, daysCalcMethodEMI)\n",
    "        prin = shList2[numInstalments-1]['principle_remaining']\n",
    "        expandedPrin = prin.subs(P,OrigPrinciple)\n",
    "        equalMonthlyInstalment = sp.solve(expandedPrin, E)[0]\n",
    "    \n",
    "    # Now gothrough the complete shList and plug in values for all the variables\n",
    "    for i in range(numInstalments):\n",
    "        instObj = shList[i]\n",
    "        instObj[\"interest_expected\"] = round(instObj[\"interest_expected\"].subs(\n",
    "            {\n",
    "                P:OrigPrinciple,\n",
    "                E:equalMonthlyInstalment\n",
    "            }), ROUND_NUMDIGITS)\n",
    "        instObj[\"principle_remaining\"] = round(instObj[\"principle_remaining\"].subs(\n",
    "            {\n",
    "                P:OrigPrinciple,\n",
    "                E:equalMonthlyInstalment\n",
    "            }), ROUND_NUMDIGITS)\n",
    "        \n",
    "        if i == 0:\n",
    "            previousPrinciple = OrigPrinciple\n",
    "        else:\n",
    "            previousPrinciple = shList[i-1][\"principle_remaining\"]\n",
    "        instObj[\"principle_expected\"] = previousPrinciple - instObj[\"principle_remaining\"]\n",
    "        \n",
    "        instObj[\"total_expected\"] = instObj[\"principle_expected\"] + instObj[\"interest_expected\"]\n",
    "\n",
    "    # Make sure we have fully paid off the loan in the last instalment   \n",
    "    # There may be some extras to pay when using Mambu's standard DBEI calc\n",
    "    lastInstalmentObj = shList[numInstalments-1]\n",
    "    lastInstalmentObj['principle_expected'] = lastInstalmentObj['principle_expected'] + lastInstalmentObj['principle_remaining']\n",
    "    lastInstalmentObj[\"total_expected\"] = lastInstalmentObj[\"principle_expected\"] + lastInstalmentObj[\"interest_expected\"]\n",
    "    return (equalMonthlyInstalment,shList)"
   ]
  },
  {
   "cell_type": "code",
   "execution_count": 365,
   "metadata": {},
   "outputs": [
    {
     "data": {
      "text/plain": [
       "(1030.31769900205,\n",
       " [{'num': 1,\n",
       "   'from_date': datetime.date(2019, 12, 16),\n",
       "   'days_in_period': 31,\n",
       "   'interest_expected': 50.9589041096,\n",
       "   'principle_remaining': 4020.6412051075,\n",
       "   'principle_expected': 979.35879489250,\n",
       "   'total_expected': 1030.3176990021},\n",
       "  {'num': 2,\n",
       "   'interest_expected': 40.9774939260,\n",
       "   'principle_remaining': 3031.3010000315,\n",
       "   'from_date': datetime.date(2020, 1, 16),\n",
       "   'days_in_period': 31,\n",
       "   'principle_expected': 989.34020507600,\n",
       "   'total_expected': 1030.3176990020},\n",
       "  {'num': 3,\n",
       "   'interest_expected': 28.9011711784,\n",
       "   'principle_remaining': 2029.8844722078,\n",
       "   'from_date': datetime.date(2020, 2, 16),\n",
       "   'days_in_period': 29,\n",
       "   'principle_expected': 1001.4165278237,\n",
       "   'total_expected': 1030.3176990021},\n",
       "  {'num': 4,\n",
       "   'interest_expected': 20.6881376346,\n",
       "   'principle_remaining': 1020.2549108403,\n",
       "   'from_date': datetime.date(2020, 3, 16),\n",
       "   'days_in_period': 31,\n",
       "   'principle_expected': 1009.6295613675,\n",
       "   'total_expected': 1030.3176990021},\n",
       "  {'num': 5,\n",
       "   'interest_expected': 10.0627881617,\n",
       "   'principle_remaining': 0.0,\n",
       "   'from_date': datetime.date(2020, 4, 16),\n",
       "   'days_in_period': 30,\n",
       "   'principle_expected': 1020.25491084030,\n",
       "   'total_expected': 1030.31769900200}])"
      ]
     },
     "execution_count": 365,
     "metadata": {},
     "output_type": "execute_result"
    }
   ],
   "source": [
    "#expandSchedule(\"16 Dec 2019\", OrigPrinciple=5000, annualInterest=12, numInstalments=5, daysCalcMethod=\"actual/365\", daysCalcMethodEMI=\"30/360\" )\n",
    "expandSchedule(\"16 Dec 2019\", OrigPrinciple=5000, annualInterest=12, numInstalments=5, daysCalcMethod=\"actual/365\")\n",
    "#expandSchedule(\"01 Dec 2019\", OrigPrinciple=5000, annualInterest=12, numInstalments=5, daysCalcMethod=\"30/360\" )"
   ]
  },
  {
   "cell_type": "code",
   "execution_count": null,
   "metadata": {},
   "outputs": [],
   "source": []
  }
 ],
 "metadata": {
  "kernelspec": {
   "display_name": "Python 3",
   "language": "python",
   "name": "python3"
  },
  "language_info": {
   "codemirror_mode": {
    "name": "ipython",
    "version": 3
   },
   "file_extension": ".py",
   "mimetype": "text/x-python",
   "name": "python",
   "nbconvert_exporter": "python",
   "pygments_lexer": "ipython3",
   "version": "3.7.1"
  }
 },
 "nbformat": 4,
 "nbformat_minor": 2
}
