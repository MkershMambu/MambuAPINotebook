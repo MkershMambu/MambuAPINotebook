{
 "cells": [
  {
   "cell_type": "markdown",
   "metadata": {},
   "source": [
    "## Calculate a Loan Instalment Schedule\n",
    "Given principle, number of instalment and interest rate (per instalment):\n",
    "\n",
    "* Calculates the EMI (equal monthly instalment) amount \n",
    "* Calculates the instalment amortisation schedule\n",
    "* Maps to a DBEI loan in Mambu with Days-in-year: 30/360\n",
    "* In terms of calculating EMI performs same calculation as Excel PMT function\n",
    "\n"
   ]
  },
  {
   "cell_type": "code",
   "execution_count": 145,
   "metadata": {},
   "outputs": [],
   "source": [
    "import sympy as sp\n",
    "import sys\n",
    "# Need to increase the recusion limit (else .subs fails for 300 instalments)\n",
    "sys.setrecursionlimit(5000)"
   ]
  },
  {
   "cell_type": "code",
   "execution_count": 198,
   "metadata": {},
   "outputs": [],
   "source": [
    "def schedule(numInstalments):\n",
    "    P, r, n, E = sp.symbols('P r n E')\n",
    "    instalmentList = [{'num':1,'interest_expected':P*r,'principle_remaining':P*(1+r)-E}]\n",
    "    for i in range(1,numInstalments):\n",
    "        instObj = {}\n",
    "        instObj[\"num\"] = i+1\n",
    "        instObj[\"interest_expected\"] = instalmentList[i-1]['principle_remaining'] * r\n",
    "        instObj[\"principle_remaining\"] = instalmentList[i-1]['principle_remaining']*(1+r)-E\n",
    "        instalmentList.append(instObj)\n",
    "    return instalmentList"
   ]
  },
  {
   "cell_type": "code",
   "execution_count": 199,
   "metadata": {},
   "outputs": [],
   "source": [
    "def expandSchedule(OrigPrinciple, interestRatePerInstalment, numInstalments):\n",
    "    ROUND_NUMDIGITS = 10\n",
    "    shList = schedule(numInstalments)\n",
    "    \n",
    "    # Solve the Equation for E - for the last instalment\n",
    "    prin = shList[numInstalments-1]['principle_remaining']\n",
    "    expandedPrin = prin.subs(r,interestRatePerInstalment)\n",
    "    expandedPrin = expandedPrin.subs(P,OrigPrinciple)\n",
    "    equalMonthlyInstalment = sp.solve(expandedPrin, E)[0]\n",
    "    \n",
    "    shList2 = schedule(numInstalments)\n",
    "    \n",
    "    # Now gothrough the complete shList and plug in values for all the variables\n",
    "    for i in range(numInstalments):\n",
    "        instObj = shList2[i]\n",
    "        instObj[\"interest_expected\"] = round(instObj[\"interest_expected\"].subs(\n",
    "            {\n",
    "                r:interestRatePerInstalment,\n",
    "                P:OrigPrinciple,\n",
    "                E:equalMonthlyInstalment\n",
    "            }), ROUND_NUMDIGITS)\n",
    "        instObj[\"principle_remaining\"] = round(instObj[\"principle_remaining\"].subs(\n",
    "            {\n",
    "                r:interestRatePerInstalment,\n",
    "                P:OrigPrinciple,\n",
    "                E:equalMonthlyInstalment\n",
    "            }), ROUND_NUMDIGITS)\n",
    "        \n",
    "        if i == 0:\n",
    "            previousPrinciple = OrigPrinciple\n",
    "        else:\n",
    "            previousPrinciple = shList2[i-1][\"principle_remaining\"]\n",
    "        instObj[\"principle_expected\"] = previousPrinciple - instObj[\"principle_remaining\"]\n",
    "        \n",
    "        instObj[\"total_expected\"] = instObj[\"principle_expected\"] + instObj[\"interest_expected\"]\n",
    "    \n",
    "    return (equalMonthlyInstalment,shList2)"
   ]
  },
  {
   "cell_type": "code",
   "execution_count": 202,
   "metadata": {},
   "outputs": [
    {
     "data": {
      "text/plain": [
       "(1030.19899807940,\n",
       " [{'num': 1,\n",
       "   'interest_expected': 50.0000000000000,\n",
       "   'principle_remaining': 4019.8010019206,\n",
       "   'principle_expected': 980.19899807940,\n",
       "   'total_expected': 1030.19899807940},\n",
       "  {'num': 2,\n",
       "   'interest_expected': 40.1980100192,\n",
       "   'principle_remaining': 3029.8000138604,\n",
       "   'principle_expected': 990.00098806020,\n",
       "   'total_expected': 1030.1989980794},\n",
       "  {'num': 3,\n",
       "   'interest_expected': 30.2980001386,\n",
       "   'principle_remaining': 2029.8990159196,\n",
       "   'principle_expected': 999.90099794080,\n",
       "   'total_expected': 1030.1989980794},\n",
       "  {'num': 4,\n",
       "   'interest_expected': 20.2989901592,\n",
       "   'principle_remaining': 1019.9990079994,\n",
       "   'principle_expected': 1009.9000079202,\n",
       "   'total_expected': 1030.1989980794},\n",
       "  {'num': 5,\n",
       "   'interest_expected': 10.1999900800,\n",
       "   'principle_remaining': 0.0,\n",
       "   'principle_expected': 1019.99900799940,\n",
       "   'total_expected': 1030.19899807940}])"
      ]
     },
     "execution_count": 202,
     "metadata": {},
     "output_type": "execute_result"
    }
   ],
   "source": [
    "expandSchedule(OrigPrinciple=5000, interestRatePerInstalment=0.01, numInstalments=5 )"
   ]
  },
  {
   "cell_type": "code",
   "execution_count": null,
   "metadata": {},
   "outputs": [],
   "source": []
  }
 ],
 "metadata": {
  "kernelspec": {
   "display_name": "Python 3",
   "language": "python",
   "name": "python3"
  },
  "language_info": {
   "codemirror_mode": {
    "name": "ipython",
    "version": 3
   },
   "file_extension": ".py",
   "mimetype": "text/x-python",
   "name": "python",
   "nbconvert_exporter": "python",
   "pygments_lexer": "ipython3",
   "version": "3.7.1"
  }
 },
 "nbformat": 4,
 "nbformat_minor": 2
}
