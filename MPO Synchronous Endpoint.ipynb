{
 "cells": [
  {
   "cell_type": "markdown",
   "metadata": {},
   "source": [
    "## Experimental MPO Synchronous Endpoint"
   ]
  },
  {
   "cell_type": "code",
   "execution_count": 5,
   "metadata": {},
   "outputs": [],
   "source": [
    "%run API.py\n",
    "%run ENV.py\n",
    "from IPython.core.display import HTML\n",
    "import time\n",
    "setENV(ENV)"
   ]
  },
  {
   "cell_type": "markdown",
   "metadata": {},
   "source": [
    "### SyncEndpoint\n",
    "Call an asynchronous MPO process and wait for it to respond.\n",
    "\n",
    "To do this I am using a [SyncEndpoint microservice](https://github.com/MkershMambu/SyncEndpoint) hosted on AWS eu-west-2\n",
    "\n",
    "It works but unfortunately may be too slow for most Usecases. Takes ~ 3 secs to call an MPO process to return /clients"
   ]
  },
  {
   "cell_type": "code",
   "execution_count": 88,
   "metadata": {},
   "outputs": [
    {
     "name": "stdout",
     "output_type": "stream",
     "text": [
      "Overwriting JSONBODY\n"
     ]
    }
   ],
   "source": [
    "%%writefile JSONBODY\n",
    "{\n",
    "\t\"methodToCall\": \"https://mpo-sandbox.mambucloud.com/api/1/json/public/15984/84f19977fd92ff84f48185f15f2ebc00158ae6f4\",\n",
    "\t\"params\": {\n",
    "\t\t\"f1\": 1,\n",
    "\t\t\"f2\": 2\n",
    "\t}\n",
    "\t\n",
    "}"
   ]
  },
  {
   "cell_type": "code",
   "execution_count": 90,
   "metadata": {},
   "outputs": [
    {
     "name": "stdout",
     "output_type": "stream",
     "text": [
      "Time Taken (secs) to Execute: 2.2044019809982274\n",
      "API status: 200\n",
      "JSON Response:\n",
      "{\n",
      "    \"body\": {\n",
      "        \"__conveyor_api_array__\": [\n",
      "            {\n",
      "                \"approvedDate\": \"2019-04-12T06:17:24+0000\",\n",
      "                \"clientRole\": {\n",
      "                    \"encodedKey\": \"8a8186a267df5bec0167df5becc90001\"\n",
      "                },\n",
      "                \"creationDate\": \"2019-04-12T06:17:23+0000\",\n",
      "                \"encodedKey\": \"8a8187a06a101429016a102f3180001f\",\n",
      "                \"firstName\": \"NewSME\",\n",
      "                \"groupLoanCycle\": 0,\n",
      "                \"id\": \"728939220\",\n",
      "                \"lastModifiedDate\": \"2019-04-12T06:30:44+0000\",\n",
      "                \"lastName\": \"Business\",\n",
      "                \"loanCycle\": 0,\n",
      "                \"notes\": \"<ul><li>Created this customer to test Beneficiaries Field Set</li><li>Activity feed not updated when notes added</li><li style=\\\"text-align: left;\\\">Or is it only when editing from summary</li><li style=\\\"text-align: left;\\\">Yes that appears to be the case</li><li style=\\\"text-align: left;\\\">This from summary does not update activity</li></ul>\",\n",
      "                \"preferredLanguage\": \"ENGLISH\",\n",
      "                \"state\": \"INACTIVE\"\n",
      "            },\n",
      "            {\n",
      "                \"approvedDate\": \"2019-04-10T19:15:00+0000\",\n",
      "                \"assignedBranchKey\": \"8a81867d6a01398b016a01a0552b006a\",\n",
      "                \"clientRole\": {\n",
      "                    \"encodedKey\": \"8a818e74677a2e9201677ec2b4c336aa\"\n",
      "                },\n",
      "                \"creationDate\": \"2019-04-10T19:14:59+0000\",\n",
      "                \"encodedKey\": \"8a8186ca6a023000016a08acbd7b45af\",\n",
      "                \"firstName\": \"Alex\",\n",
      "                \"groupLoanCycle\": 0,\n",
      "                \"id\": \"443651965\",\n",
      "                \"lastModifiedDate\": \"2019-04-10T19:14:59+0000\",\n",
      "                \"lastName\": \"Yen\",\n",
      "                \"loanCycle\": 0,\n",
      "                \"notes\": \"\",\n",
      "                \"preferredLanguage\": \"ENGLISH\",\n",
      "                \"state\": \"INACTIVE\"\n",
      "            },\n",
      "            {\n",
      "                \"activationDate\": \"2019-04-09T10:28:42+0000\",\n",
      "                \"approvedDate\": \"2019-04-09T10:27:18+0000\",\n",
      "                \"assignedBranchKey\": \"8a81867d6a01398b016a01a0552b006a\",\n",
      "                \"clientRole\": {\n",
      "                    \"encodedKey\": \"8a818e74677a2e9201677ec2b4c336aa\"\n",
      "                },\n",
      "                \"creationDate\": \"2019-04-09T10:27:17+0000\",\n",
      "                \"encodedKey\": \"8a81867d6a01398b016a01a2d2df0076\",\n",
      "                \"firstName\": \"Currency\",\n",
      "                \"groupLoanCycle\": 0,\n",
      "                \"id\": \"758073830\",\n",
      "                \"lastModifiedDate\": \"2019-04-09T10:52:54+0000\",\n",
      "                \"lastName\": \"Tester\",\n",
      "                \"loanCycle\": 0,\n",
      "                \"notes\": \"\",\n",
      "                \"preferredLanguage\": \"ENGLISH\",\n",
      "                \"state\": \"ACTIVE\"\n",
      "            },\n",
      "            {\n",
      "                \"approvedDate\": \"2019-04-03T15:43:32+0000\",\n",
      "                \"assignedBranchKey\": \"8a8186ac692678910169287cf43606af\",\n",
      "                \"clientRole\": {\n",
      "                    \"encodedKey\": \"8a818e74677a2e9201677ec2b4c336aa\"\n",
      "                },\n",
      "                \"creationDate\": \"2019-04-03T15:43:32+0000\",\n",
      "                \"encodedKey\": \"8a81871669e33c3c0169e3d985024d24\",\n",
      "                \"firstName\": \"Dominic\",\n",
      "                \"gender\": \"MALE\",\n",
      "                \"groupLoanCycle\": 0,\n",
      "                \"id\": \"291403999\",\n",
      "                \"lastModifiedDate\": \"2019-04-03T15:43:32+0000\",\n",
      "                \"lastName\": \"Smith\",\n",
      "                \"loanCycle\": 0,\n",
      "                \"notes\": \"Some Notes on this person\",\n",
      "                \"preferredLanguage\": \"ENGLISH\",\n",
      "                \"state\": \"INACTIVE\"\n",
      "            },\n",
      "            {\n",
      "                \"approvedDate\": \"2019-04-03T11:11:13+0000\",\n",
      "                \"assignedBranchKey\": \"8a8186ac692678910169287cf43606af\",\n",
      "                \"clientRole\": {\n",
      "                    \"encodedKey\": \"8a818e74677a2e9201677ec2b4c336aa\"\n",
      "                },\n",
      "                \"creationDate\": \"2019-04-03T11:11:13+0000\",\n",
      "                \"encodedKey\": \"8a81872069e269240169e2e553a30069\",\n",
      "                \"firstName\": \"Dominic\",\n",
      "                \"gender\": \"MALE\",\n",
      "                \"groupLoanCycle\": 0,\n",
      "                \"id\": \"697019153\",\n",
      "                \"lastModifiedDate\": \"2019-04-03T11:11:13+0000\",\n",
      "                \"lastName\": \"Giles22\",\n",
      "                \"loanCycle\": 0,\n",
      "                \"notes\": \"Some Notes on this person\",\n",
      "                \"preferredLanguage\": \"ENGLISH\",\n",
      "                \"state\": \"INACTIVE\"\n",
      "            },\n",
      "            {\n",
      "                \"activationDate\": \"2019-04-02T06:14:09+0000\",\n",
      "                \"approvedDate\": \"2019-04-02T06:10:18+0000\",\n",
      "                \"assignedBranchKey\": \"8a81874769d943930169dca6303d22e8\",\n",
      "                \"clientRole\": {\n",
      "                    \"encodedKey\": \"8a818e74677a2e9201677ec2b4c336aa\"\n",
      "                },\n",
      "                \"creationDate\": \"2019-04-02T06:10:18+0000\",\n",
      "                \"encodedKey\": \"8a81874769d943930169dca9022f22f5\",\n",
      "                \"firstName\": \"Harry\",\n",
      "                \"groupLoanCycle\": 0,\n",
      "                \"id\": \"277343439\",\n",
      "                \"lastModifiedDate\": \"2019-04-02T06:14:09+0000\",\n",
      "                \"lastName\": \"Styles\",\n",
      "                \"loanCycle\": 0,\n",
      "                \"notes\": \"\",\n",
      "                \"preferredLanguage\": \"ENGLISH\",\n",
      "                \"state\": \"ACTIVE\"\n",
      "            },\n",
      "            {\n",
      "                \"activationDate\": \"2019-02-26T06:54:45+0000\",\n",
      "                \"approvedDate\": \"2019-02-26T06:40:54+0000\",\n",
      "                \"assignedBranchKey\": \"8a8186ac692678910169287cf43606af\",\n",
      "                \"clientRole\": {\n",
      "                    \"encodedKey\": \"8a818e74677a2e9201677ec2b4c336aa\"\n",
      "                },\n",
      "                \"creationDate\": \"2019-02-26T06:40:54+0000\",\n",
      "                \"encodedKey\": \"8a8186ac692678910169288509c606bc\",\n",
      "                \"firstName\": \"Jim\",\n",
      "                \"groupLoanCycle\": 0,\n",
      "                \"id\": \"121693087\",\n",
      "                \"lastModifiedDate\": \"2019-03-28T16:43:25+0000\",\n",
      "                \"lastName\": \"Smith\",\n",
      "                \"loanCycle\": 0,\n",
      "                \"middleName\": \"ttteegg\",\n",
      "                \"notes\": \"\",\n",
      "                \"preferredLanguage\": \"ENGLISH\",\n",
      "                \"profilePictureKey\": \"8a81872869349860016934f018710a5d\",\n",
      "                \"state\": \"ACTIVE\"\n",
      "            },\n",
      "            {\n",
      "                \"activationDate\": \"2018-12-21T09:02:48+0000\",\n",
      "                \"approvedDate\": \"2018-12-21T09:00:34+0000\",\n",
      "                \"assignedBranchKey\": \"8a81872d6787e9f30167a344a74e4e1c\",\n",
      "                \"clientRole\": {\n",
      "                    \"encodedKey\": \"8a818e74677a2e9201677ec2b4c336aa\"\n",
      "                },\n",
      "                \"creationDate\": \"2018-12-21T09:00:33+0000\",\n",
      "                \"emailAddress\": \"gsgs@shs.com\",\n",
      "                \"encodedKey\": \"8a81866d67cfe3f20167cffd9fc50024\",\n",
      "                \"firstName\": \"MK1\",\n",
      "                \"groupLoanCycle\": 0,\n",
      "                \"id\": \"556464151\",\n",
      "                \"lastModifiedDate\": \"2019-03-28T16:40:55+0000\",\n",
      "                \"lastName\": \"Kershaw\",\n",
      "                \"loanCycle\": 0,\n",
      "                \"middleName\": \"Harryg\",\n",
      "                \"mobilePhone1\": \"132132312\",\n",
      "                \"notes\": \"Here are some notes about this profile:<div><br></div><div><ul><li>item 1</li><li>item 2</li><li>...</li></ul></div>\",\n",
      "                \"preferredLanguage\": \"ENGLISH\",\n",
      "                \"state\": \"ACTIVE\"\n",
      "            },\n",
      "            {\n",
      "                \"approvedDate\": \"2019-01-30T14:16:16+0000\",\n",
      "                \"assignedBranchKey\": \"8a8187cc689e66fc01689f1c452000d8\",\n",
      "                \"clientRole\": {\n",
      "                    \"encodedKey\": \"8a818e74677a2e9201677ec2b4c336aa\"\n",
      "                },\n",
      "                \"creationDate\": \"2019-01-30T14:16:15+0000\",\n",
      "                \"encodedKey\": \"8a8187cc689e66fc01689f1c452000da\",\n",
      "                \"firstName\": \"MPO Test Cust1\",\n",
      "                \"groupLoanCycle\": 0,\n",
      "                \"id\": \"349353166\",\n",
      "                \"lastModifiedDate\": \"2019-03-01T09:49:57+0000\",\n",
      "                \"lastName\": \"Tester3334455\",\n",
      "                \"loanCycle\": 0,\n",
      "                \"middleName\": \"John1rrr\",\n",
      "                \"notes\": \"\",\n",
      "                \"preferredLanguage\": \"ENGLISH\",\n",
      "                \"state\": \"INACTIVE\"\n",
      "            },\n",
      "            {\n",
      "                \"approvedDate\": \"2019-02-28T15:42:26+0000\",\n",
      "                \"assignedBranchKey\": \"8a8186ac692678910169287cf43606af\",\n",
      "                \"assignedCentreKey\": \"8a81861469342a71016934b7719303b0\",\n",
      "                \"clientRole\": {\n",
      "                    \"encodedKey\": \"8a818e74677a2e9201677ec2b4c336aa\"\n",
      "                },\n",
      "                \"creationDate\": \"2019-02-28T15:42:26+0000\",\n",
      "                \"encodedKey\": \"8a81861469342a71016934c4c97103fd\",\n",
      "                \"firstName\": \"Bob\",\n",
      "                \"groupLoanCycle\": 0,\n",
      "                \"id\": \"752974891\",\n",
      "                \"lastModifiedDate\": \"2019-02-28T16:29:03+0000\",\n",
      "                \"lastName\": \"Diamond\",\n",
      "                \"loanCycle\": 0,\n",
      "                \"notes\": \"\",\n",
      "                \"preferredLanguage\": \"ENGLISH\",\n",
      "                \"state\": \"INACTIVE\"\n",
      "            },\n",
      "            {\n",
      "                \"approvedDate\": \"2018-12-12T16:44:05+0000\",\n",
      "                \"assignedBranchKey\": \"8a81872d6787e9f30167a344a74e4e1e\",\n",
      "                \"birthDate\": \"1970-12-31T00:00:00+0000\",\n",
      "                \"clientRole\": {\n",
      "                    \"encodedKey\": \"8a818e74677a2e9201677ec2b4c336aa\"\n",
      "                },\n",
      "                \"creationDate\": \"2018-12-12T16:44:05+0000\",\n",
      "                \"encodedKey\": \"8a81872d6787e9f30167a34dd00a4e2f\",\n",
      "                \"firstName\": \"Sharon\",\n",
      "                \"gender\": \"FEMALE\",\n",
      "                \"groupLoanCycle\": 0,\n",
      "                \"id\": \"458863079\",\n",
      "                \"lastModifiedDate\": \"2019-02-28T16:06:51+0000\",\n",
      "                \"lastName\": \"Kershaw\",\n",
      "                \"loanCycle\": 0,\n",
      "                \"notes\": \"\",\n",
      "                \"preferredLanguage\": \"ENGLISH\",\n",
      "                \"state\": \"INACTIVE\"\n",
      "            },\n",
      "            {\n",
      "                \"approvedDate\": \"2019-01-31T15:02:21+0000\",\n",
      "                \"assignedBranchKey\": \"8a8187fd68a4569e0168a46ac4ed0038\",\n",
      "                \"clientRole\": {\n",
      "                    \"encodedKey\": \"8a818e74677a2e9201677ec2b4c336aa\"\n",
      "                },\n",
      "                \"creationDate\": \"2019-01-31T15:02:20+0000\",\n",
      "                \"encodedKey\": \"8a8187fd68a4569e0168a46ac4ed003a\",\n",
      "                \"firstName\": \"MPO Test\",\n",
      "                \"groupLoanCycle\": 0,\n",
      "                \"id\": \"261794452\",\n",
      "                \"lastModifiedDate\": \"2019-01-31T15:22:08+0000\",\n",
      "                \"lastName\": \"James\",\n",
      "                \"loanCycle\": 0,\n",
      "                \"middleName\": \"john\",\n",
      "                \"notes\": \"\",\n",
      "                \"preferredLanguage\": \"ENGLISH\",\n",
      "                \"state\": \"INACTIVE\"\n",
      "            },\n",
      "            {\n",
      "                \"activationDate\": \"2018-12-18T09:03:52+0000\",\n",
      "                \"approvedDate\": \"2018-12-12T16:43:31+0000\",\n",
      "                \"birthDate\": \"1965-12-15T00:00:00+0000\",\n",
      "                \"clientRole\": {\n",
      "                    \"encodedKey\": \"8a818e74677a2e9201677ec2b4c336aa\"\n",
      "                },\n",
      "                \"creationDate\": \"2018-12-12T16:43:30+0000\",\n",
      "                \"emailAddress\": \"mark.kershaw@mambu.com\",\n",
      "                \"encodedKey\": \"8a81872d6787e9f30167a348cc214e28\",\n",
      "                \"firstName\": \"Mark\",\n",
      "                \"gender\": \"MALE\",\n",
      "                \"groupLoanCycle\": 0,\n",
      "                \"id\": \"322589208\",\n",
      "                \"lastModifiedDate\": \"2018-12-18T09:25:59+0000\",\n",
      "                \"lastName\": \"Kershaw\",\n",
      "                \"loanCycle\": 0,\n",
      "                \"mobilePhone1\": \"+44 775 3771129\",\n",
      "                \"notes\": \"\",\n",
      "                \"preferredLanguage\": \"ENGLISH\",\n",
      "                \"state\": \"ACTIVE\"\n",
      "            }\n",
      "        ]\n",
      "    },\n",
      "    \"callbackResponseID\": \"2991be24-4bdc-42c1-8822-bece27360756\",\n",
      "    \"msg\": \"This is the MPO process ToSyncProcess\",\n",
      "    \"obj\": {\n",
      "        \"f1\": 1,\n",
      "        \"f2\": 2,\n",
      "        \"f3\": 3\n",
      "    }\n",
      "}\n"
     ]
    }
   ],
   "source": [
    "HEADERS = {}\n",
    "PARAMS = {}\n",
    "s = time.perf_counter()\n",
    "r = POST('http://ec2-52-56-214-201.eu-west-2.compute.amazonaws.com:8001', headers=HEADERS, params=PARAMS, body=\"JSONBODY\")\n",
    "elapsed = time.perf_counter() - s\n",
    "print(f\"Time Taken (secs) to Execute: {elapsed}\")\n",
    "PRINT(r)"
   ]
  },
  {
   "cell_type": "markdown",
   "metadata": {},
   "source": [
    "### Call clients directly to see how much time we are losing"
   ]
  },
  {
   "cell_type": "code",
   "execution_count": 87,
   "metadata": {},
   "outputs": [
    {
     "name": "stdout",
     "output_type": "stream",
     "text": [
      "Time Taken (secs) to Execute: 0.6331887090000237\n",
      " [1] NewSME Business\n",
      " [2] Alex Yen\n",
      " [3] Currency Tester\n",
      " [4] Dominic Smith\n",
      " [5] Dominic Giles22\n",
      " [6] Harry Styles\n",
      " [7] Jim Smith\n",
      " [8] MK1 Kershaw\n",
      " [9] MPO Test Cust1 Tester3334455\n",
      " [10] Bob Diamond\n",
      " [11] Sharon Kershaw\n",
      " [12] MPO Test James\n",
      " [13] Mark Kershaw\n",
      "\n"
     ]
    }
   ],
   "source": [
    "HEADERS = {'Accept': 'application/vnd.mambu.v2+json'}\n",
    "PARAMS = {'detailsLevel': 'FULL'}\n",
    "s = time.perf_counter()\n",
    "r = GET('{{env1}}/clients', headers=HEADERS, params=PARAMS)\n",
    "elapsed = time.perf_counter() - s\n",
    "print(f\"Time Taken (secs) to Execute: {elapsed}\")\n",
    "# PRINT(r)\n",
    "printCustomers(r)"
   ]
  },
  {
   "cell_type": "markdown",
   "metadata": {},
   "source": [
    "### Run test cases (on eu-west-2)\n",
    "Simulate the calling of the MPO process\n",
    "Takes ~ 100ms"
   ]
  },
  {
   "cell_type": "code",
   "execution_count": 60,
   "metadata": {},
   "outputs": [
    {
     "name": "stdout",
     "output_type": "stream",
     "text": [
      "Overwriting JSONBODY\n"
     ]
    }
   ],
   "source": [
    "%%writefile JSONBODY\n",
    "{\n",
    "\t\"methodToCall\": \"http://ec2-52-56-214-201.eu-west-2.compute.amazonaws.com:8001/dummyMPOEndpoint\",\n",
    "\t\"params\": {\n",
    "\t\t\"f1\": 1,\n",
    "\t\t\"f2\": 2\n",
    "\t}\n",
    "\t\n",
    "}"
   ]
  },
  {
   "cell_type": "code",
   "execution_count": 65,
   "metadata": {},
   "outputs": [
    {
     "name": "stdout",
     "output_type": "stream",
     "text": [
      "Time Taken (secs) to Execute: 0.09923969900046359\n",
      "API status: 200\n",
      "JSON Response:\n",
      "{\n",
      "    \"callbackResponseID\": \"b4d9a6f2-835a-4f82-8c35-61c60f6833f1\",\n",
      "    \"msg\": \"Response from the MPO process called\"\n",
      "}\n"
     ]
    }
   ],
   "source": [
    "HEADERS = {}\n",
    "PARAMS = {}\n",
    "s = time.perf_counter()\n",
    "r = POST('http://ec2-52-56-214-201.eu-west-2.compute.amazonaws.com:8001', headers=HEADERS, params=PARAMS, body=\"JSONBODY\")\n",
    "elapsed = time.perf_counter() - s\n",
    "print(f\"Time Taken (secs) to Execute: {elapsed}\")\n",
    "PRINT(r)"
   ]
  },
  {
   "cell_type": "markdown",
   "metadata": {},
   "source": [
    "### Run test cases (on 127.0.0.1)\n",
    "Simulate the calling of the MPO process\n",
    "Takes ~ 8ms"
   ]
  },
  {
   "cell_type": "code",
   "execution_count": 66,
   "metadata": {},
   "outputs": [
    {
     "name": "stdout",
     "output_type": "stream",
     "text": [
      "Overwriting JSONBODY\n"
     ]
    }
   ],
   "source": [
    "%%writefile JSONBODY\n",
    "{\n",
    "\t\"methodToCall\": \"http://127.0.0.1:8001/dummyMPOEndpoint\",\n",
    "\t\"params\": {\n",
    "\t\t\"f1\": 1,\n",
    "\t\t\"f2\": 2\n",
    "\t}\n",
    "\t\n",
    "}"
   ]
  },
  {
   "cell_type": "code",
   "execution_count": 71,
   "metadata": {},
   "outputs": [
    {
     "name": "stdout",
     "output_type": "stream",
     "text": [
      "Time Taken (secs) to Execute: 0.0074465289999352535\n",
      "API status: 200\n",
      "JSON Response:\n",
      "{\n",
      "    \"callbackResponseID\": \"60328285-0f1e-4d87-a0d6-382998672404\",\n",
      "    \"msg\": \"Response from the MPO process called\"\n",
      "}\n"
     ]
    }
   ],
   "source": [
    "HEADERS = {}\n",
    "PARAMS = {}\n",
    "s = time.perf_counter()\n",
    "r = POST('http://127.0.0.1:8001/', headers=HEADERS, params=PARAMS, body=\"JSONBODY\")\n",
    "elapsed = time.perf_counter() - s\n",
    "print(f\"Time Taken (secs) to Execute: {elapsed}\")\n",
    "PRINT(r)"
   ]
  },
  {
   "cell_type": "markdown",
   "metadata": {},
   "source": [
    "### Run test to see how long MPO process takes to trigger"
   ]
  },
  {
   "cell_type": "code",
   "execution_count": 100,
   "metadata": {},
   "outputs": [
    {
     "name": "stdout",
     "output_type": "stream",
     "text": [
      "Overwriting JSONBODY\n"
     ]
    }
   ],
   "source": [
    "%%writefile JSONBODY\n",
    "{\n",
    "\t\"msg\": \"Send This as a Test to MPO\"\n",
    "\t\n",
    "}"
   ]
  },
  {
   "cell_type": "code",
   "execution_count": 109,
   "metadata": {},
   "outputs": [
    {
     "name": "stdout",
     "output_type": "stream",
     "text": [
      "Time Taken (secs) to Execute: 1.4680328609974822\n",
      "API status: 200\n",
      "JSON Response:\n",
      "{\n",
      "    \"ops\": {\n",
      "        \"obj\": \"task\",\n",
      "        \"obj_id\": \"5cc042c109a8af151302374f\",\n",
      "        \"proc\": \"ok\",\n",
      "        \"ref\": null\n",
      "    },\n",
      "    \"request_proc\": \"ok\"\n",
      "}\n"
     ]
    }
   ],
   "source": [
    "\n",
    "HEADERS = {}\n",
    "PARAMS = {}\n",
    "s = time.perf_counter()\n",
    "r = POST('https://mpo-sandbox.mambucloud.com/api/1/json/public/15985/1601d70dfa3bcde94d8a51d593940bb83047668e', headers=HEADERS, params=PARAMS, body=\"JSONBODY\")\n",
    "elapsed = time.perf_counter() - s\n",
    "print(f\"Time Taken (secs) to Execute: {elapsed}\")\n",
    "PRINT(r)"
   ]
  },
  {
   "cell_type": "code",
   "execution_count": null,
   "metadata": {},
   "outputs": [],
   "source": []
  }
 ],
 "metadata": {
  "kernelspec": {
   "display_name": "Python 3",
   "language": "python",
   "name": "python3"
  },
  "language_info": {
   "codemirror_mode": {
    "name": "ipython",
    "version": 3
   },
   "file_extension": ".py",
   "mimetype": "text/x-python",
   "name": "python",
   "nbconvert_exporter": "python",
   "pygments_lexer": "ipython3",
   "version": "3.7.1"
  }
 },
 "nbformat": 4,
 "nbformat_minor": 2
}
