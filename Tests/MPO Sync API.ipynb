{
 "cells": [
  {
   "cell_type": "code",
   "execution_count": 5,
   "metadata": {},
   "outputs": [],
   "source": [
    "%run ../API.py\n",
    "%run ../ENV.py\n",
    "from IPython.core.display import HTML\n",
    "setENV(ENV)"
   ]
  },
  {
   "cell_type": "code",
   "execution_count": null,
   "metadata": {},
   "outputs": [],
   "source": [
    "HEADERS = {'Content-Type': 'application/json'}\n",
    "PARAMS = {}\n",
    "ENVPARAMS = {\n",
    "    'sync-server-url': '',\n",
    "    'apiLogin': '',\n",
    "    'unixtime': '',\n",
    "    'SIGNATURE': ''\n",
    "}\n",
    "url = \"https://{{sync-server-url}}/api/1/json/{{apiLogin}}/{{unixtime}}/{{SIGNATURE}}\"\n",
    "url = pystache.render(url, ENVPARAMS)\n",
    "r = POST(url, headers=HEADERS, params=PARAMS, body=\"JSONBODY\")\n",
    "print (\"API status:\")\n",
    "print(r.status_code)\n",
    "print(\"Now the JSON:\")\n",
    "print(r.json())"
   ]
  },
  {
   "cell_type": "code",
   "execution_count": 6,
   "metadata": {},
   "outputs": [],
   "source": [
    "import json\n",
    "from corezoid import Corezoid\n",
    "\n",
    "MPO_ENV    = 'https://mpo-multitenant-syncapi.mambuonline.com'\n",
    "API_KEY    = '46' \n",
    "API_SECRET = 'WN0bdXPjiegV0xNIT0rHnZn1wF9yFXvJTnEkAxjeNUaVOo0nxB'\n",
    "PROCESS_ID = '1443'\n",
    "\n",
    "# Initialize Corezoid SDK\n",
    "c = Corezoid(MPO_ENV, API_KEY, API_SECRET, PROCESS_ID)\n",
    "\n",
    "# Send a new task to Corezoid process\n",
    "def send_task(data):\n",
    "    return c.create_task(data)"
   ]
  },
  {
   "cell_type": "code",
   "execution_count": 7,
   "metadata": {},
   "outputs": [
    {
     "data": {
      "text/plain": [
       "'{\"status_code\": 200, \"response\": \"{\\\\\"request_proc\\\\\":\\\\\"ok\\\\\",\\\\\"ops\\\\\":[{\\\\\"proc\\\\\":\\\\\"ok\\\\\",\\\\\"data\\\\\":{\\\\\"info\\\\\":\\\\\"Hello World - hello there 22334455555\\\\\"}}]}\"}'"
      ]
     },
     "execution_count": 7,
     "metadata": {},
     "output_type": "execute_result"
    }
   ],
   "source": [
    "data = {\n",
    "    'msg': 'hello there 22334455555'\n",
    "}\n",
    "send_task(data)"
   ]
  },
  {
   "cell_type": "code",
   "execution_count": null,
   "metadata": {},
   "outputs": [],
   "source": []
  }
 ],
 "metadata": {
  "kernelspec": {
   "display_name": "Python 3",
   "language": "python",
   "name": "python3"
  },
  "language_info": {
   "codemirror_mode": {
    "name": "ipython",
    "version": 3
   },
   "file_extension": ".py",
   "mimetype": "text/x-python",
   "name": "python",
   "nbconvert_exporter": "python",
   "pygments_lexer": "ipython3",
   "version": "3.7.1"
  }
 },
 "nbformat": 4,
 "nbformat_minor": 2
}
