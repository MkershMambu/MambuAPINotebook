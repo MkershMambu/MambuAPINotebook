{
 "cells": [
  {
   "cell_type": "markdown",
   "metadata": {},
   "source": [
    "## POC for calculating and wavering interest for credit-card account\n",
    "\n",
    "GitHub: https://github.com/MkershMambu/MambuAPINotebook.git\n",
    "\n",
    "Viewer: https://nbviewer.jupyter.org/github/MkershMambu/MambuAPINotebook/blob/master/MambuAPINotebook.ipynb"
   ]
  },
  {
   "cell_type": "code",
   "execution_count": 1,
   "metadata": {},
   "outputs": [],
   "source": [
    "from IPython.display import HTML, display\n",
    "import tabulate\n",
    "import datetime\n"
   ]
  },
  {
   "cell_type": "code",
   "execution_count": 95,
   "metadata": {},
   "outputs": [],
   "source": [
    "def resetBalances():\n",
    "    global cc_balances\n",
    "    cc_balances = {\n",
    "        \"currentPeriod\" : {\n",
    "            \"interest\":0,\n",
    "            \"principal\":0,\n",
    "        },\n",
    "        \"currentBillPeriod\" : {\n",
    "            \"fullGraceEnabled\": True,\n",
    "            \"isActive\": False,\n",
    "            \"interest\":0,\n",
    "            \"interestBilled\":0,\n",
    "            \"principal\":0,\n",
    "            \"principalBilled\":0,\n",
    "            \"paymentDueDate\": None\n",
    "        },\n",
    "        \"historicPeriods\" : {\n",
    "            \"interest\":0,\n",
    "            \"principal\":0\n",
    "        },\n",
    "        'event_history':[],\n",
    "        \"extraCreditBalance\": 0\n",
    "    }"
   ]
  },
  {
   "cell_type": "code",
   "execution_count": 120,
   "metadata": {},
   "outputs": [],
   "source": [
    "def accrueInterest(obj,numDays, interestRate):\n",
    "    # print(\"number days to accrue interest\", numDays)\n",
    "    interest = obj[\"interest\"]\n",
    "    principal = obj[\"principal\"]\n",
    "    interest += (principal * interestRate) * numDays\n",
    "    obj[\"interest\"] = interest\n",
    "\n",
    "def repaymentTop(amount):\n",
    "    global cc_balances\n",
    "    # Balance left over from previous repayment\n",
    "    extraCreditBalance = cc_balances[\"extraCreditBalance\"]\n",
    "    amount += extraCreditBalance\n",
    "    \n",
    "    if cc_balances[\"currentBillPeriod\"][\"isActive\"] == True:\n",
    "        leftOverAmount = repayment(cc_balances[\"currentBillPeriod\"],amount, True)\n",
    "        # print(\"leftOverAmount Bill\", leftOverAmount)\n",
    "    else:\n",
    "        leftOverAmount = repayment(cc_balances[\"historicPeriods\"],amount, False, isHistoric=True)\n",
    "        # print(\"leftOverAmount historic\", leftOverAmount)\n",
    "            \n",
    "    if leftOverAmount > 0:\n",
    "        leftOverAmount = repayment(cc_balances[\"currentPeriod\"],leftOverAmount, False) \n",
    "        # print(\"leftOverAmount current\", leftOverAmount)\n",
    "        \n",
    "    if leftOverAmount > 0:\n",
    "        extraCreditBalance = cc_balances[\"extraCreditBalance\"]\n",
    "        extraCreditBalance += leftOverAmount\n",
    "        cc_balances[\"extraCreditBalance\"] = extraCreditBalance\n",
    "    else:\n",
    "        cc_balances[\"extraCreditBalance\"] = 0\n",
    "            \n",
    "def repayment(obj,amount, isBill, isHistoric=False):\n",
    "    principal = obj[\"principal\"]\n",
    "    interestAccrued = obj[\"interest\"]\n",
    "    interestBilled = obj.get(\"interestBilled\", interestAccrued)\n",
    "    interestPaid = obj.get(\"interestPaid\", 0)\n",
    "    interestRemain = interestBilled - interestPaid\n",
    "    \n",
    "    leftOver = interestRemain - amount\n",
    "    if leftOver < 0:\n",
    "        interestPaid = interestBilled\n",
    "        leftOver = principal + leftOver\n",
    "        if leftOver < 0:\n",
    "            principal = 0\n",
    "        else:\n",
    "            principal = leftOver\n",
    "            leftOver = 0\n",
    "    else:\n",
    "        interestPaid = leftOver\n",
    "        leftOver = 0\n",
    "    obj[\"principal\"] = principal\n",
    "    if isHistoric == False:\n",
    "        obj[\"interestPaid\"] = interestPaid\n",
    "    else:\n",
    "        print(\"Historic interest paid\", interestPaid)\n",
    "        obj[\"interest\"] -= interestPaid\n",
    "    return -leftOver\n",
    "\n",
    "def endBillPeriod():\n",
    "    global cc_balances\n",
    "    # print(\"EndBill\")\n",
    "    \n",
    "    fullGraceEnabled = cc_balances[\"currentBillPeriod\"][\"fullGraceEnabled\"]\n",
    "    billInterest = cc_balances[\"currentBillPeriod\"][\"interest\"]\n",
    "    billInterestBilled = cc_balances[\"currentBillPeriod\"][\"interestBilled\"]\n",
    "    billPrincipal = cc_balances[\"currentBillPeriod\"][\"principal\"]\n",
    "    billPrincipalBilled = cc_balances[\"currentBillPeriod\"][\"principalBilled\"]\n",
    "    billInterestPaid = cc_balances[\"currentBillPeriod\"].get(\"interestPaid\",0)\n",
    "    amountPaid = (billPrincipalBilled - billPrincipal + billInterestPaid)\n",
    "    \n",
    "    # determine whether to waver interest\n",
    "    if fullGraceEnabled and (amountPaid >= billPrincipalBilled):\n",
    "        # Full Waver applies\n",
    "        # print(\"Full Waver applied\", amountPaid, billPrincipalBilled)\n",
    "        newHistoricInterest = 0\n",
    "        newHistoricPrincipal = 0\n",
    "        extraCredit = -(billPrincipal-billInterestPaid)\n",
    "    else:\n",
    "        # 1) calculate %bill paid:\n",
    "        #    percentageBillPaid = amount_paid / (principleBilled+InterestBilled)\n",
    "        percentageBillPaid =  amountPaid / (billPrincipalBilled + billInterestBilled)\n",
    "        # print(\"Percentage of Bill Paid = \", amountPaid, percentageBillPaid)\n",
    "        # 3) If percentageBillPaid = 100% then marked Bill and Historic as paid\n",
    "        if (percentageBillPaid >= 1):\n",
    "            # print(\"100% Bill paid\")\n",
    "            cc_balances[\"currentBillPeriod\"][\"fullGraceEnabled\"] = True\n",
    "            newHistoricInterest = 0\n",
    "            newHistoricPrincipal = 0 \n",
    "        else:\n",
    "            # 4) If <100% then Interest_owed = Interest_accrued_Billed + (Interest_accrued * Bill_percentage_paid)\n",
    "            cc_balances[\"currentBillPeriod\"][\"fullGraceEnabled\"] = False\n",
    "            newHistoricInterest = (1 - percentageBillPaid)*(billInterest-billInterestPaid)\n",
    "            newHistoricPrincipal = billPrincipal\n",
    "    \n",
    "    cc_balances[\"historicPeriods\"][\"interest\"] = newHistoricInterest \n",
    "    cc_balances[\"historicPeriods\"][\"principal\"] = newHistoricPrincipal \n",
    "    cc_balances[\"currentBillPeriod\"][\"interest\"] = 0\n",
    "    cc_balances[\"currentBillPeriod\"][\"interestBilled\"] = 0\n",
    "    cc_balances[\"currentBillPeriod\"][\"interestPaid\"] = 0\n",
    "    cc_balances[\"currentBillPeriod\"][\"principal\"] = 0\n",
    "    cc_balances[\"currentBillPeriod\"][\"principalBilled\"] = 0\n",
    "    cc_balances[\"currentBillPeriod\"][\"isActive\"] = False\n",
    "    cc_balances[\"currentBillPeriod\"][\"paymentDueDate\"] = None\n",
    "\n",
    "def applyInterest(event, fromDate, toDate, date=\"\", desc=\"\"):\n",
    "    date_time_str = fromDate\n",
    "    date_time_str2 = toDate\n",
    "    date_time_obj = datetime.datetime.strptime(date_time_str, '%Y-%m-%d')\n",
    "    date_time_obj2 = datetime.datetime.strptime(date_time_str2, '%Y-%m-%d')\n",
    "    delta = (date_time_obj2 - date_time_obj).days \n",
    "    applyEvent(event, date=date, desc=desc, numDays=delta)\n",
    "\n",
    "def applyEvent(event, date=\"\", desc=\"\", amount=0, numDays=0):\n",
    "    global cc_balances\n",
    "    \n",
    "    if amount==0:\n",
    "        amount = event.get(\"amount\",0)\n",
    "    if desc==\"\":\n",
    "        desc = event.get(\"desc\",\"\")\n",
    "    if desc==\"\":\n",
    "        if amount > 0:\n",
    "            desc = \"amount=\"+str(amount)\n",
    "    if numDays==0:\n",
    "        numDays = event.get(\"numDays\",0)\n",
    "    if numDays>0:\n",
    "        desc = \"days=\"+str(numDays)\n",
    "        \n",
    "    if (event[\"type\"] == \"bill\"):\n",
    "        cc_balances[\"currentBillPeriod\"][\"isActive\"] = True\n",
    "        cc_balances[\"currentBillPeriod\"][\"paymentDueDate\"] = event[\"paymentDueDate\"]\n",
    "        historic_interest = cc_balances[\"historicPeriods\"][\"interest\"]\n",
    "        historic_principal = cc_balances[\"historicPeriods\"][\"principal\"]\n",
    "        current_interest = cc_balances[\"currentPeriod\"][\"interest\"]\n",
    "        current_interestPaid = cc_balances[\"currentPeriod\"].get(\"interestPaid\",0)\n",
    "        current_principal = cc_balances[\"currentPeriod\"][\"principal\"]\n",
    "        if (historic_principal+historic_interest) > 0:\n",
    "            cc_balances[\"currentBillPeriod\"][\"fullInterestGrace\"] = False\n",
    "        else:\n",
    "            cc_balances[\"currentBillPeriod\"][\"fullInterestGrace\"] = True\n",
    "        cc_balances[\"currentBillPeriod\"][\"interestBilled\"] = historic_interest + current_interest\n",
    "        cc_balances[\"currentBillPeriod\"][\"interest\"] = historic_interest + current_interest\n",
    "        cc_balances[\"currentBillPeriod\"][\"interestPaid\"] = current_interestPaid\n",
    "        cc_balances[\"currentBillPeriod\"][\"principal\"] = historic_principal + current_principal\n",
    "        cc_balances[\"currentBillPeriod\"][\"principalBilled\"] = cc_balances[\"currentBillPeriod\"][\"principal\"]\n",
    "        cc_balances[\"currentPeriod\"][\"interest\"] = 0\n",
    "        cc_balances[\"currentPeriod\"][\"interestPaid\"] = 0\n",
    "        cc_balances[\"currentPeriod\"][\"principal\"] = 0\n",
    "    elif (event[\"type\"] == \"purchase\"):\n",
    "        principal = cc_balances['currentPeriod'][\"principal\"]\n",
    "        principal += amount\n",
    "        cc_balances['currentPeriod'][\"principal\"] = principal\n",
    "    elif (event[\"type\"] == \"interestAccrue\"):\n",
    "        # print(\"interestAccrue\")\n",
    "        num_days = numDays\n",
    "        interestRatePerDay = event[\"interestPerDay\"]\n",
    "        accrueInterest(cc_balances['currentPeriod'], num_days, interestRatePerDay)\n",
    "        if cc_balances[\"currentBillPeriod\"][\"isActive\"] == True:\n",
    "            accrueInterest(cc_balances['currentBillPeriod'], num_days, interestRatePerDay)\n",
    "        else:\n",
    "            accrueInterest(cc_balances['historicPeriods'], num_days, interestRatePerDay)\n",
    "    elif (event[\"type\"] == \"endBill\"):\n",
    "        endBillPeriod()\n",
    "    elif (event[\"type\"] == \"repayment\"):\n",
    "        repaymentTop(amount)\n",
    "            \n",
    "    logEvent = {\n",
    "        \"date\": date,\n",
    "        \"desc\": desc,\n",
    "        \"event\": event,\n",
    "        \"currentPeriod\" : {\n",
    "            \"interest\": cc_balances['currentPeriod'][\"interest\"],\n",
    "            \"interestPaid\": cc_balances['currentPeriod'].get(\"interestPaid\",0),\n",
    "            \"principal\": cc_balances['currentPeriod'][\"principal\"],\n",
    "        },\n",
    "        \"currentBillPeriod\" : {\n",
    "            \"isActive\": cc_balances['currentBillPeriod'][\"isActive\"],\n",
    "            \"interest\": cc_balances['currentBillPeriod'][\"interest\"],\n",
    "            \"interestBilled\": cc_balances['currentBillPeriod'][\"interestBilled\"],\n",
    "            \"interestPaid\": cc_balances['currentBillPeriod'].get(\"interestPaid\",0),\n",
    "            \"principal\": cc_balances['currentBillPeriod'][\"principal\"],\n",
    "            \"principalBilled\": cc_balances['currentBillPeriod'][\"principalBilled\"],\n",
    "            \"paymentDueDate\": cc_balances['currentBillPeriod'][\"paymentDueDate\"]\n",
    "        },\n",
    "        \"historicPeriods\" : {\n",
    "            \"interest\": cc_balances['historicPeriods'][\"interest\"],\n",
    "            \"principal\":cc_balances['historicPeriods'][\"principal\"]\n",
    "        },\n",
    "        \n",
    "    }        \n",
    "    cc_balances[\"event_history\"].append(logEvent)\n",
    "        \n",
    "    \n",
    "    "
   ]
  },
  {
   "cell_type": "code",
   "execution_count": 4,
   "metadata": {},
   "outputs": [],
   "source": [
    "event1 = {\n",
    "    \"type\": \"bill\",\n",
    "    \"paymentDueDate\": \"01/01/2020\"\n",
    "}"
   ]
  },
  {
   "cell_type": "code",
   "execution_count": 5,
   "metadata": {},
   "outputs": [],
   "source": [
    "event2 = {\n",
    "    \"type\": \"purchase\",\n",
    "    \"description\": \"Waitrose bill\",\n",
    "    \"amount\": 100.00\n",
    "}"
   ]
  },
  {
   "cell_type": "code",
   "execution_count": 6,
   "metadata": {},
   "outputs": [],
   "source": [
    "event3 = {\n",
    "    \"type\": \"interestAccrue\",\n",
    "    \"numDays\": 1,\n",
    "    \"interestPerDay\": 0.01\n",
    "}"
   ]
  },
  {
   "cell_type": "code",
   "execution_count": 7,
   "metadata": {},
   "outputs": [],
   "source": [
    "event4 = {\n",
    "    \"type\": \"endBill\",\n",
    "}"
   ]
  },
  {
   "cell_type": "code",
   "execution_count": 8,
   "metadata": {},
   "outputs": [],
   "source": [
    "event5 = {\n",
    "    \"type\": \"repayment\",\n",
    "    \"amount\": 100.00\n",
    "}"
   ]
  },
  {
   "cell_type": "code",
   "execution_count": 9,
   "metadata": {},
   "outputs": [],
   "source": [
    "def showHistory():\n",
    "    global cc_balances\n",
    "    evCount = 1\n",
    "    historyTable = [[\"#\", \"Date\", \"Type\", \"Description\", \"Principal(Curr)\",\"Interest Paid(Current)\", \"Interest(Current)\", \"Principal(Bill)\", \"Principle Billed\", \"Interest Billed\",\"Interest Paid(Bill)\", \"Interest(Bill)\", \"Principal(Hist)\",\"Interest(Hist)\"]]\n",
    "    for eventItem in cc_balances[\"event_history\"]:\n",
    "        evDate = eventItem[\"date\"]\n",
    "        evType = eventItem[\"event\"][\"type\"]\n",
    "        evDesc = eventItem[\"desc\"]\n",
    "        prinCurr = round(eventItem[\"currentPeriod\"][\"principal\"],2)\n",
    "        intCurr = round(eventItem[\"currentPeriod\"][\"interest\"],2)\n",
    "        intPaidCurr = round(eventItem[\"currentPeriod\"].get(\"interestPaid\",0),2)\n",
    "        prinBill = round(eventItem[\"currentBillPeriod\"][\"principal\"],2)\n",
    "        prinBilled = round(eventItem[\"currentBillPeriod\"][\"principalBilled\"],2)\n",
    "        intBill = round(eventItem[\"currentBillPeriod\"][\"interest\"],2)\n",
    "        intBilled = round(eventItem[\"currentBillPeriod\"][\"interestBilled\"],2)\n",
    "        intPaidBill = round(eventItem[\"currentBillPeriod\"].get(\"interestPaid\",0),2)\n",
    "        prinHist = round(eventItem[\"historicPeriods\"][\"principal\"],2)\n",
    "        intHist = round(eventItem[\"historicPeriods\"][\"interest\"],2)\n",
    "        historyItem = []\n",
    "        historyItem.extend([evCount,evDate, evType,evDesc,prinCurr, intPaidCurr, intCurr,prinBill, prinBilled, intBilled, intPaidBill, intBill,prinHist,intHist])\n",
    "        historyTable.append(historyItem)\n",
    "        evCount +=1\n",
    "    display(HTML(tabulate.tabulate(historyTable, tablefmt='html')))\n",
    "    print(\"Extra Credit Balance:\", cc_balances[\"extraCreditBalance\"])"
   ]
  },
  {
   "cell_type": "code",
   "execution_count": 123,
   "metadata": {},
   "outputs": [
    {
     "data": {
      "text/html": [
       "<table>\n",
       "<tbody>\n",
       "<tr><td>#</td><td>Date</td><td>Type          </td><td>Description </td><td>Principal(Curr)</td><td>Interest Paid(Current)</td><td>Interest(Current)</td><td>Principal(Bill)</td><td>Principle Billed</td><td>Interest Billed</td><td>Interest Paid(Bill)</td><td>Interest(Bill)</td><td>Principal(Hist)</td><td>Interest(Hist)</td></tr>\n",
       "<tr><td>1</td><td>    </td><td>purchase      </td><td>amount=100.0</td><td>100.0          </td><td>0                     </td><td>0                </td><td>0              </td><td>0               </td><td>0              </td><td>0                  </td><td>0             </td><td>0              </td><td>0             </td></tr>\n",
       "<tr><td>2</td><td>    </td><td>interestAccrue</td><td>days=2      </td><td>100.0          </td><td>0                     </td><td>2.0              </td><td>0              </td><td>0               </td><td>0              </td><td>0                  </td><td>0             </td><td>0              </td><td>0.0           </td></tr>\n",
       "<tr><td>3</td><td>    </td><td>bill          </td><td>            </td><td>0              </td><td>0                     </td><td>0                </td><td>100.0          </td><td>100.0           </td><td>2.0            </td><td>0                  </td><td>2.0           </td><td>0              </td><td>0.0           </td></tr>\n",
       "<tr><td>4</td><td>    </td><td>repayment     </td><td>amount=100  </td><td>0              </td><td>0                     </td><td>0                </td><td>2.0            </td><td>100.0           </td><td>2.0            </td><td>2.0                </td><td>2.0           </td><td>0              </td><td>0.0           </td></tr>\n",
       "<tr><td>5</td><td>    </td><td>endBill       </td><td>            </td><td>0              </td><td>0                     </td><td>0                </td><td>0              </td><td>0               </td><td>0              </td><td>0                  </td><td>0             </td><td>0              </td><td>0             </td></tr>\n",
       "</tbody>\n",
       "</table>"
      ],
      "text/plain": [
       "<IPython.core.display.HTML object>"
      ]
     },
     "metadata": {},
     "output_type": "display_data"
    },
    {
     "name": "stdout",
     "output_type": "stream",
     "text": [
      "Extra Credit Balance: 0\n"
     ]
    }
   ],
   "source": [
    "# Test Full waver\n",
    "resetBalances()\n",
    "applyEvent(event2,date=\"\") #purchase\n",
    "applyEvent(event3, numDays=2) #accrue\n",
    "applyEvent(event1) #bill\n",
    "applyEvent(event5,amount=100) # repayment\n",
    "applyEvent(event4) #endBill\n",
    "\n",
    "showHistory()"
   ]
  },
  {
   "cell_type": "code",
   "execution_count": 108,
   "metadata": {},
   "outputs": [
    {
     "data": {
      "text/html": [
       "<table>\n",
       "<tbody>\n",
       "<tr><td># </td><td>Date</td><td>Type          </td><td>Description </td><td>Principal(Curr)</td><td>Interest Paid(Current)</td><td>Interest(Current)</td><td>Principal(Bill)</td><td>Principle Billed</td><td>Interest Billed</td><td>Interest Paid(Bill)</td><td>Interest(Bill)</td><td>Principal(Hist)</td><td>Interest(Hist)</td></tr>\n",
       "<tr><td>1 </td><td>    </td><td>purchase      </td><td>amount=100.0</td><td>100.0          </td><td>0                     </td><td>0                </td><td>0              </td><td>0               </td><td>0              </td><td>0                  </td><td>0             </td><td>0              </td><td>0             </td></tr>\n",
       "<tr><td>2 </td><td>    </td><td>bill          </td><td>            </td><td>0              </td><td>0                     </td><td>0                </td><td>100.0          </td><td>100.0           </td><td>0              </td><td>0                  </td><td>0             </td><td>0              </td><td>0             </td></tr>\n",
       "<tr><td>3 </td><td>    </td><td>endBill       </td><td>            </td><td>0              </td><td>0                     </td><td>0                </td><td>0              </td><td>0               </td><td>0              </td><td>0                  </td><td>0             </td><td>100.0          </td><td>0.0           </td></tr>\n",
       "<tr><td>4 </td><td>    </td><td>purchase      </td><td>amount=100.0</td><td>100.0          </td><td>0                     </td><td>0                </td><td>0              </td><td>0               </td><td>0              </td><td>0                  </td><td>0             </td><td>100.0          </td><td>0.0           </td></tr>\n",
       "<tr><td>5 </td><td>    </td><td>interestAccrue</td><td>days=2      </td><td>100.0          </td><td>0                     </td><td>2.0              </td><td>0              </td><td>0               </td><td>0              </td><td>0                  </td><td>0             </td><td>100.0          </td><td>2.0           </td></tr>\n",
       "<tr><td>6 </td><td>    </td><td>bill          </td><td>            </td><td>0              </td><td>0                     </td><td>0                </td><td>200.0          </td><td>200.0           </td><td>4.0            </td><td>0                  </td><td>4.0           </td><td>100.0          </td><td>2.0           </td></tr>\n",
       "<tr><td>7 </td><td>    </td><td>repayment     </td><td>amount=204  </td><td>0              </td><td>0                     </td><td>0                </td><td>0.0            </td><td>200.0           </td><td>4.0            </td><td>4.0                </td><td>4.0           </td><td>100.0          </td><td>2.0           </td></tr>\n",
       "<tr><td>8 </td><td>    </td><td>endBill       </td><td>            </td><td>0              </td><td>0                     </td><td>0                </td><td>0              </td><td>0               </td><td>0              </td><td>0                  </td><td>0             </td><td>0              </td><td>0             </td></tr>\n",
       "<tr><td>9 </td><td>    </td><td>purchase      </td><td>amount=100.0</td><td>100.0          </td><td>0                     </td><td>0                </td><td>0              </td><td>0               </td><td>0              </td><td>0                  </td><td>0             </td><td>0              </td><td>0             </td></tr>\n",
       "<tr><td>10</td><td>    </td><td>interestAccrue</td><td>days=2      </td><td>100.0          </td><td>0                     </td><td>2.0              </td><td>0              </td><td>0               </td><td>0              </td><td>0                  </td><td>0             </td><td>0              </td><td>0.0           </td></tr>\n",
       "<tr><td>11</td><td>    </td><td>bill          </td><td>            </td><td>0              </td><td>0                     </td><td>0                </td><td>100.0          </td><td>100.0           </td><td>2.0            </td><td>0                  </td><td>2.0           </td><td>0              </td><td>0.0           </td></tr>\n",
       "<tr><td>12</td><td>    </td><td>repayment     </td><td>amount=100  </td><td>0              </td><td>0                     </td><td>0                </td><td>2.0            </td><td>100.0           </td><td>2.0            </td><td>2.0                </td><td>2.0           </td><td>0              </td><td>0.0           </td></tr>\n",
       "<tr><td>13</td><td>    </td><td>endBill       </td><td>            </td><td>0              </td><td>0                     </td><td>0                </td><td>0              </td><td>0               </td><td>0              </td><td>0                  </td><td>0             </td><td>0              </td><td>0             </td></tr>\n",
       "</tbody>\n",
       "</table>"
      ],
      "text/plain": [
       "<IPython.core.display.HTML object>"
      ]
     },
     "metadata": {},
     "output_type": "display_data"
    },
    {
     "name": "stdout",
     "output_type": "stream",
     "text": [
      "Extra Credit Balance: 0\n"
     ]
    }
   ],
   "source": [
    "# Test Not fullgrace waver - when outstanding Historic balances\n",
    "resetBalances()\n",
    "# Create some historic dept\n",
    "applyEvent(event2,date=\"\") #purchase\n",
    "applyEvent(event1) #bill\n",
    "applyEvent(event4) #endBill\n",
    "# Show that for the next bill fullgrace is not available\n",
    "applyEvent(event2,date=\"\") #purchase\n",
    "applyEvent(event3, numDays=2) #accrue\n",
    "applyEvent(event1) #bill\n",
    "# Pay the bill+Interest in full so that fullgrace applies next bill \n",
    "applyEvent(event5,amount=204) # repayment\n",
    "applyEvent(event4) #endBill\n",
    "# Show that for next period fullgrace works\n",
    "applyEvent(event2,date=\"\") #purchase\n",
    "applyEvent(event3, numDays=2) #accrue\n",
    "applyEvent(event1) #bill\n",
    "applyEvent(event5,amount=100)\n",
    "applyEvent(event4) #endBill\n",
    "showHistory()"
   ]
  },
  {
   "cell_type": "code",
   "execution_count": 124,
   "metadata": {},
   "outputs": [
    {
     "data": {
      "text/html": [
       "<table>\n",
       "<tbody>\n",
       "<tr><td>#</td><td>Date    </td><td>Type          </td><td>Description</td><td>Principal(Curr)</td><td>Interest Paid(Current)</td><td>Interest(Current)</td><td>Principal(Bill)</td><td>Principle Billed</td><td>Interest Billed</td><td>Interest Paid(Bill)</td><td>Interest(Bill)</td><td>Principal(Hist)</td><td>Interest(Hist)</td></tr>\n",
       "<tr><td>1</td><td>01/01/20</td><td>purchase      </td><td>£100       </td><td>100.0          </td><td>0                     </td><td>0                </td><td>0              </td><td>0               </td><td>0              </td><td>0                  </td><td>0             </td><td>0              </td><td>0             </td></tr>\n",
       "<tr><td>2</td><td>        </td><td>interestAccrue</td><td>days=1     </td><td>100.0          </td><td>0                     </td><td>1.0              </td><td>0              </td><td>0               </td><td>0              </td><td>0                  </td><td>0             </td><td>0              </td><td>0.0           </td></tr>\n",
       "<tr><td>3</td><td>        </td><td>bill          </td><td>           </td><td>0              </td><td>0                     </td><td>0                </td><td>100.0          </td><td>100.0           </td><td>1.0            </td><td>0                  </td><td>1.0           </td><td>0              </td><td>0.0           </td></tr>\n",
       "<tr><td>4</td><td>        </td><td>repayment     </td><td>amount=99  </td><td>0              </td><td>0                     </td><td>0                </td><td>2.0            </td><td>100.0           </td><td>1.0            </td><td>1.0                </td><td>1.0           </td><td>0              </td><td>0.0           </td></tr>\n",
       "<tr><td>5</td><td>        </td><td>endBill       </td><td>           </td><td>0              </td><td>0                     </td><td>0                </td><td>0              </td><td>0               </td><td>0              </td><td>0                  </td><td>0             </td><td>2.0            </td><td>0.0           </td></tr>\n",
       "</tbody>\n",
       "</table>"
      ],
      "text/plain": [
       "<IPython.core.display.HTML object>"
      ]
     },
     "metadata": {},
     "output_type": "display_data"
    },
    {
     "name": "stdout",
     "output_type": "stream",
     "text": [
      "Extra Credit Balance: 0\n"
     ]
    }
   ],
   "source": [
    "# Test Partial waver\n",
    "resetBalances()\n",
    "applyEvent(event2,date=\"01/01/20\", desc=\"£100\") #purchase\n",
    "applyEvent(event3) #accrue\n",
    "applyEvent(event1) #bill\n",
    "applyEvent(event5,amount=99) # repayment\n",
    "applyEvent(event4) #endBill\n",
    "\n",
    "showHistory()"
   ]
  },
  {
   "cell_type": "code",
   "execution_count": 125,
   "metadata": {},
   "outputs": [
    {
     "data": {
      "text/html": [
       "<table>\n",
       "<tbody>\n",
       "<tr><td>#</td><td>Date    </td><td>Type          </td><td>Description </td><td>Principal(Curr)</td><td>Interest Paid(Current)</td><td>Interest(Current)</td><td>Principal(Bill)</td><td>Principle Billed</td><td>Interest Billed</td><td>Interest Paid(Bill)</td><td>Interest(Bill)</td><td>Principal(Hist)</td><td>Interest(Hist)</td></tr>\n",
       "<tr><td>1</td><td>01/01/20</td><td>purchase      </td><td>amount=100.0</td><td>100.0          </td><td>0                     </td><td>0                </td><td>0              </td><td>0               </td><td>0              </td><td>0                  </td><td>0             </td><td>0              </td><td>0             </td></tr>\n",
       "<tr><td>2</td><td>        </td><td>interestAccrue</td><td>days=1      </td><td>100.0          </td><td>0                     </td><td>1.0              </td><td>0              </td><td>0               </td><td>0              </td><td>0                  </td><td>0             </td><td>0              </td><td>0.0           </td></tr>\n",
       "<tr><td>3</td><td>        </td><td>bill          </td><td>            </td><td>0              </td><td>0                     </td><td>0                </td><td>100.0          </td><td>100.0           </td><td>1.0            </td><td>0                  </td><td>1.0           </td><td>0              </td><td>0.0           </td></tr>\n",
       "<tr><td>4</td><td>        </td><td>interestAccrue</td><td>days=1      </td><td>0              </td><td>0                     </td><td>0.0              </td><td>100.0          </td><td>100.0           </td><td>1.0            </td><td>0                  </td><td>2.0           </td><td>0              </td><td>0.0           </td></tr>\n",
       "<tr><td>5</td><td>        </td><td>repayment     </td><td>amount=99   </td><td>0              </td><td>0                     </td><td>0.0              </td><td>2.0            </td><td>100.0           </td><td>1.0            </td><td>1.0                </td><td>2.0           </td><td>0              </td><td>0.0           </td></tr>\n",
       "<tr><td>6</td><td>        </td><td>endBill       </td><td>            </td><td>0              </td><td>0                     </td><td>0.0              </td><td>0              </td><td>0               </td><td>0              </td><td>0                  </td><td>0             </td><td>2.0            </td><td>0.02          </td></tr>\n",
       "</tbody>\n",
       "</table>"
      ],
      "text/plain": [
       "<IPython.core.display.HTML object>"
      ]
     },
     "metadata": {},
     "output_type": "display_data"
    },
    {
     "name": "stdout",
     "output_type": "stream",
     "text": [
      "Extra Credit Balance: 0\n"
     ]
    }
   ],
   "source": [
    "# Test Partial waver - With accrual of Bill interest\n",
    "resetBalances()\n",
    "applyEvent(event2,date=\"01/01/20\") #purchase\n",
    "applyEvent(event3) #accrue\n",
    "applyEvent(event1) #bill\n",
    "applyEvent(event3) #accrue\n",
    "applyEvent(event5,amount=99) # repayment\n",
    "applyEvent(event4) #endBill\n",
    "\n",
    "showHistory()"
   ]
  },
  {
   "cell_type": "code",
   "execution_count": 126,
   "metadata": {},
   "outputs": [
    {
     "data": {
      "text/html": [
       "<table>\n",
       "<tbody>\n",
       "<tr><td>#</td><td>Date    </td><td>Type          </td><td>Description </td><td>Principal(Curr)</td><td>Interest Paid(Current)</td><td>Interest(Current)</td><td>Principal(Bill)</td><td>Principle Billed</td><td>Interest Billed</td><td>Interest Paid(Bill)</td><td>Interest(Bill)</td><td>Principal(Hist)</td><td>Interest(Hist)</td></tr>\n",
       "<tr><td>1</td><td>01/01/20</td><td>purchase      </td><td>amount=100.0</td><td>100.0          </td><td>0                     </td><td>0                </td><td>0              </td><td>0               </td><td>0              </td><td>0                  </td><td>0             </td><td>0              </td><td>0             </td></tr>\n",
       "<tr><td>2</td><td>        </td><td>interestAccrue</td><td>days=1      </td><td>100.0          </td><td>0                     </td><td>1.0              </td><td>0              </td><td>0               </td><td>0              </td><td>0                  </td><td>0             </td><td>0              </td><td>0.0           </td></tr>\n",
       "<tr><td>3</td><td>        </td><td>bill          </td><td>            </td><td>0              </td><td>0                     </td><td>0                </td><td>100.0          </td><td>100.0           </td><td>1.0            </td><td>0                  </td><td>1.0           </td><td>0              </td><td>0.0           </td></tr>\n",
       "<tr><td>4</td><td>05/01/20</td><td>purchase      </td><td>amount=100.0</td><td>100.0          </td><td>0                     </td><td>0                </td><td>100.0          </td><td>100.0           </td><td>1.0            </td><td>0                  </td><td>1.0           </td><td>0              </td><td>0.0           </td></tr>\n",
       "<tr><td>5</td><td>        </td><td>repayment     </td><td>amount=100  </td><td>100.0          </td><td>0                     </td><td>0                </td><td>1.0            </td><td>100.0           </td><td>1.0            </td><td>1.0                </td><td>1.0           </td><td>0              </td><td>0.0           </td></tr>\n",
       "<tr><td>6</td><td>        </td><td>endBill       </td><td>            </td><td>100.0          </td><td>0                     </td><td>0                </td><td>0              </td><td>0               </td><td>0              </td><td>0                  </td><td>0             </td><td>0              </td><td>0             </td></tr>\n",
       "</tbody>\n",
       "</table>"
      ],
      "text/plain": [
       "<IPython.core.display.HTML object>"
      ]
     },
     "metadata": {},
     "output_type": "display_data"
    },
    {
     "name": "stdout",
     "output_type": "stream",
     "text": [
      "Extra Credit Balance: 0\n"
     ]
    }
   ],
   "source": [
    "# Test Full waver - With extra current transactions\n",
    "resetBalances()\n",
    "applyEvent(event2,date=\"01/01/20\") #purchase\n",
    "applyEvent(event3) #accrue\n",
    "applyEvent(event1) #bill\n",
    "applyEvent(event2,date=\"05/01/20\")\n",
    "applyEvent(event5,amount=100) # repayment\n",
    "applyEvent(event4) #endBill\n",
    "showHistory()"
   ]
  },
  {
   "cell_type": "code",
   "execution_count": 65,
   "metadata": {},
   "outputs": [
    {
     "data": {
      "text/html": [
       "<table>\n",
       "<tbody>\n",
       "<tr><td>#</td><td>Date    </td><td>Type          </td><td>Description </td><td>Principal(Curr)</td><td>Interest Paid(Current)</td><td>Interest(Current)</td><td>Principal(Bill)</td><td>Principle Billed</td><td>Interest Billed</td><td>Interest Paid(Bill)</td><td>Interest(Bill)</td><td>Principal(Hist)</td><td>Interest(Hist)</td></tr>\n",
       "<tr><td>1</td><td>01/01/20</td><td>purchase      </td><td>amount=100.0</td><td>100.0          </td><td>0                     </td><td>0                </td><td>0              </td><td>0               </td><td>0              </td><td>0                  </td><td>0             </td><td>0              </td><td>0             </td></tr>\n",
       "<tr><td>2</td><td>        </td><td>interestAccrue</td><td>days=1      </td><td>100.0          </td><td>0                     </td><td>1.0              </td><td>0              </td><td>0               </td><td>0              </td><td>0                  </td><td>0             </td><td>0              </td><td>0.0           </td></tr>\n",
       "<tr><td>3</td><td>        </td><td>repayment     </td><td>amount=100  </td><td>1.0            </td><td>1.0                   </td><td>1.0              </td><td>0              </td><td>0               </td><td>0              </td><td>0                  </td><td>0             </td><td>0              </td><td>0.0           </td></tr>\n",
       "<tr><td>4</td><td>        </td><td>interestAccrue</td><td>days=1      </td><td>1.0            </td><td>1.0                   </td><td>1.01             </td><td>0              </td><td>0               </td><td>0              </td><td>0                  </td><td>0             </td><td>0              </td><td>0.0           </td></tr>\n",
       "<tr><td>5</td><td>        </td><td>repayment     </td><td>amount=1    </td><td>0.01           </td><td>1.01                  </td><td>1.01             </td><td>0              </td><td>0               </td><td>0              </td><td>0                  </td><td>0             </td><td>0              </td><td>0.0           </td></tr>\n",
       "<tr><td>6</td><td>        </td><td>interestAccrue</td><td>days=1      </td><td>0.01           </td><td>1.01                  </td><td>1.01             </td><td>0              </td><td>0               </td><td>0              </td><td>0                  </td><td>0             </td><td>0              </td><td>0.0           </td></tr>\n",
       "<tr><td>7</td><td>        </td><td>bill          </td><td>            </td><td>0              </td><td>0                     </td><td>0                </td><td>0.01           </td><td>0.01            </td><td>1.01           </td><td>1.01               </td><td>1.01          </td><td>0              </td><td>0.0           </td></tr>\n",
       "<tr><td>8</td><td>        </td><td>endBill       </td><td>            </td><td>0              </td><td>0                     </td><td>0                </td><td>0              </td><td>0               </td><td>0              </td><td>0                  </td><td>0             </td><td>0              </td><td>0             </td></tr>\n",
       "<tr><td>9</td><td>01/01/20</td><td>purchase      </td><td>amount=33.5 </td><td>33.5           </td><td>0                     </td><td>0                </td><td>0              </td><td>0               </td><td>0              </td><td>0                  </td><td>0             </td><td>0              </td><td>0             </td></tr>\n",
       "</tbody>\n",
       "</table>"
      ],
      "text/plain": [
       "<IPython.core.display.HTML object>"
      ]
     },
     "metadata": {},
     "output_type": "display_data"
    },
    {
     "name": "stdout",
     "output_type": "stream",
     "text": [
      "Extra Credit Balance: 0\n"
     ]
    }
   ],
   "source": [
    "# Test Interest Paid against current transactions\n",
    "resetBalances()\n",
    "applyEvent(event2,date=\"01/01/20\") #purchase\n",
    "applyEvent(event3) #accrue\n",
    "applyEvent(event5,amount=100) # repayment\n",
    "applyEvent(event3) #accrue\n",
    "applyEvent(event5,amount=1)\n",
    "applyEvent(event3) #accrue\n",
    "applyEvent(event1) # Bill\n",
    "applyEvent(event4) #endBill\n",
    "showHistory()"
   ]
  },
  {
   "cell_type": "code",
   "execution_count": 121,
   "metadata": {},
   "outputs": [
    {
     "name": "stdout",
     "output_type": "stream",
     "text": [
      "Historic interest paid 282.0\n"
     ]
    },
    {
     "data": {
      "text/html": [
       "<table>\n",
       "<tbody>\n",
       "<tr><td># </td><td>Date    </td><td>Type          </td><td>Description </td><td>Principal(Curr)</td><td>Interest Paid(Current)</td><td>Interest(Current)</td><td>Principal(Bill)</td><td>Principle Billed</td><td>Interest Billed</td><td>Interest Paid(Bill)</td><td>Interest(Bill)</td><td>Principal(Hist)</td><td>Interest(Hist)</td></tr>\n",
       "<tr><td>1 </td><td>11/12/19</td><td>purchase      </td><td>amount=100.0</td><td>100.0          </td><td>0                     </td><td>0                </td><td>0              </td><td>0               </td><td>0              </td><td>0                  </td><td>0             </td><td>0              </td><td>0             </td></tr>\n",
       "<tr><td>2 </td><td>        </td><td>interestAccrue</td><td>days=2      </td><td>100.0          </td><td>0                     </td><td>2.0              </td><td>0              </td><td>0               </td><td>0              </td><td>0                  </td><td>0             </td><td>0              </td><td>0.0           </td></tr>\n",
       "<tr><td>3 </td><td>13/12/19</td><td>purchase      </td><td>amount=100.0</td><td>200.0          </td><td>0                     </td><td>2.0              </td><td>0              </td><td>0               </td><td>0              </td><td>0                  </td><td>0             </td><td>0              </td><td>0.0           </td></tr>\n",
       "<tr><td>4 </td><td>        </td><td>interestAccrue</td><td>days=19     </td><td>200.0          </td><td>0                     </td><td>40.0             </td><td>0              </td><td>0               </td><td>0              </td><td>0                  </td><td>0             </td><td>0              </td><td>0.0           </td></tr>\n",
       "<tr><td>5 </td><td>01/01/20</td><td>endBill       </td><td>            </td><td>200.0          </td><td>0                     </td><td>40.0             </td><td>0              </td><td>0               </td><td>0              </td><td>0                  </td><td>0             </td><td>0              </td><td>0             </td></tr>\n",
       "<tr><td>6 </td><td>        </td><td>interestAccrue</td><td>days=9      </td><td>200.0          </td><td>0                     </td><td>58.0             </td><td>0              </td><td>0               </td><td>0              </td><td>0                  </td><td>0             </td><td>0              </td><td>0.0           </td></tr>\n",
       "<tr><td>7 </td><td>10/01/20</td><td>bill          </td><td>            </td><td>0              </td><td>0                     </td><td>0                </td><td>200.0          </td><td>200.0           </td><td>58.0           </td><td>0                  </td><td>58.0          </td><td>0              </td><td>0.0           </td></tr>\n",
       "<tr><td>8 </td><td>        </td><td>interestAccrue</td><td>days=22     </td><td>0              </td><td>0                     </td><td>0.0              </td><td>200.0          </td><td>200.0           </td><td>58.0           </td><td>0                  </td><td>102.0         </td><td>0              </td><td>0.0           </td></tr>\n",
       "<tr><td>9 </td><td>01/02/20</td><td>endBill       </td><td>            </td><td>0              </td><td>0                     </td><td>0.0              </td><td>0              </td><td>0               </td><td>0              </td><td>0                  </td><td>0             </td><td>200.0          </td><td>102.0         </td></tr>\n",
       "<tr><td>10</td><td>        </td><td>interestAccrue</td><td>days=9      </td><td>0              </td><td>0                     </td><td>0.0              </td><td>0              </td><td>0               </td><td>0              </td><td>0                  </td><td>0             </td><td>200.0          </td><td>120.0         </td></tr>\n",
       "<tr><td>11</td><td>10/02/20</td><td>bill          </td><td>            </td><td>0              </td><td>0                     </td><td>0                </td><td>200.0          </td><td>200.0           </td><td>120.0          </td><td>0                  </td><td>120.0         </td><td>200.0          </td><td>120.0         </td></tr>\n",
       "<tr><td>12</td><td>        </td><td>interestAccrue</td><td>days=20     </td><td>0              </td><td>0                     </td><td>0.0              </td><td>200.0          </td><td>200.0           </td><td>120.0          </td><td>0                  </td><td>160.0         </td><td>200.0          </td><td>120.0         </td></tr>\n",
       "<tr><td>13</td><td>01/03/20</td><td>endBill       </td><td>            </td><td>0              </td><td>0                     </td><td>0.0              </td><td>0              </td><td>0               </td><td>0              </td><td>0                  </td><td>0             </td><td>200.0          </td><td>160.0         </td></tr>\n",
       "<tr><td>14</td><td>        </td><td>interestAccrue</td><td>days=9      </td><td>0              </td><td>0                     </td><td>0.0              </td><td>0              </td><td>0               </td><td>0              </td><td>0                  </td><td>0             </td><td>200.0          </td><td>178.0         </td></tr>\n",
       "<tr><td>15</td><td>10/03/20</td><td>bill          </td><td>            </td><td>0              </td><td>0                     </td><td>0                </td><td>200.0          </td><td>200.0           </td><td>178.0          </td><td>0                  </td><td>178.0         </td><td>200.0          </td><td>178.0         </td></tr>\n",
       "<tr><td>16</td><td>        </td><td>interestAccrue</td><td>days=22     </td><td>0              </td><td>0                     </td><td>0.0              </td><td>200.0          </td><td>200.0           </td><td>178.0          </td><td>0                  </td><td>222.0         </td><td>200.0          </td><td>178.0         </td></tr>\n",
       "<tr><td>17</td><td>01/04/20</td><td>endBill       </td><td>            </td><td>0              </td><td>0                     </td><td>0.0              </td><td>0              </td><td>0               </td><td>0              </td><td>0                  </td><td>0             </td><td>200.0          </td><td>222.0         </td></tr>\n",
       "<tr><td>18</td><td>        </td><td>interestAccrue</td><td>days=9      </td><td>0              </td><td>0                     </td><td>0.0              </td><td>0              </td><td>0               </td><td>0              </td><td>0                  </td><td>0             </td><td>200.0          </td><td>240.0         </td></tr>\n",
       "<tr><td>19</td><td>10/04/20</td><td>bill          </td><td>            </td><td>0              </td><td>0                     </td><td>0                </td><td>200.0          </td><td>200.0           </td><td>240.0          </td><td>0                  </td><td>240.0         </td><td>200.0          </td><td>240.0         </td></tr>\n",
       "<tr><td>20</td><td>        </td><td>interestAccrue</td><td>days=21     </td><td>0              </td><td>0                     </td><td>0.0              </td><td>200.0          </td><td>200.0           </td><td>240.0          </td><td>0                  </td><td>282.0         </td><td>200.0          </td><td>240.0         </td></tr>\n",
       "<tr><td>21</td><td>01/05/20</td><td>endBill       </td><td>            </td><td>0              </td><td>0                     </td><td>0.0              </td><td>0              </td><td>0               </td><td>0              </td><td>0                  </td><td>0             </td><td>200.0          </td><td>282.0         </td></tr>\n",
       "<tr><td>22</td><td>        </td><td>repayment     </td><td>amount=500  </td><td>0              </td><td>0.0                   </td><td>0.0              </td><td>0              </td><td>0               </td><td>0              </td><td>0                  </td><td>0             </td><td>0              </td><td>0.0           </td></tr>\n",
       "<tr><td>23</td><td>03/05/20</td><td>bill          </td><td>            </td><td>0              </td><td>0                     </td><td>0                </td><td>0              </td><td>0               </td><td>0.0            </td><td>0.0                </td><td>0.0           </td><td>0              </td><td>0.0           </td></tr>\n",
       "</tbody>\n",
       "</table>"
      ],
      "text/plain": [
       "<IPython.core.display.HTML object>"
      ]
     },
     "metadata": {},
     "output_type": "display_data"
    },
    {
     "name": "stdout",
     "output_type": "stream",
     "text": [
      "Extra Credit Balance: 18.0\n"
     ]
    }
   ],
   "source": [
    "# Template Billing cycle for a credit card - Billing Cycle Periods (10th-10th), Payment Due (1st)\n",
    "resetBalances()\n",
    "applyEvent(event2,date=\"11/12/19\") #purchase\n",
    "applyInterest(event3,fromDate=\"2019-12-11\", toDate=\"2019-12-13\")\n",
    "applyEvent(event2,date=\"13/12/19\") #purchase\n",
    "applyInterest(event3,fromDate=\"2019-12-13\", toDate=\"2020-01-01\")\n",
    "applyEvent(event4,date=\"01/01/20\") #endBill\n",
    "applyInterest(event3,fromDate=\"2020-01-01\", toDate=\"2020-01-10\")\n",
    "applyEvent(event1,date=\"10/01/20\") # Bill\n",
    "applyInterest(event3,fromDate=\"2020-01-10\", toDate=\"2020-02-01\")\n",
    "applyEvent(event4,date=\"01/02/20\") #endBill\n",
    "applyInterest(event3,fromDate=\"2020-02-01\", toDate=\"2020-02-10\")\n",
    "applyEvent(event1,date=\"10/02/20\") # Bill\n",
    "applyInterest(event3,fromDate=\"2020-02-10\", toDate=\"2020-03-01\")\n",
    "applyEvent(event4,date=\"01/03/20\") #endBill\n",
    "applyInterest(event3,fromDate=\"2020-03-01\", toDate=\"2020-03-10\")\n",
    "applyEvent(event1,date=\"10/03/20\") # Bill\n",
    "applyInterest(event3,fromDate=\"2020-03-10\", toDate=\"2020-04-01\")\n",
    "applyEvent(event4,date=\"01/04/20\") #endBill\n",
    "applyInterest(event3,fromDate=\"2020-04-01\", toDate=\"2020-04-10\")\n",
    "applyEvent(event1,date=\"10/04/20\") # Bill\n",
    "applyInterest(event3,fromDate=\"2020-04-10\", toDate=\"2020-05-01\")\n",
    "applyEvent(event4,date=\"01/05/20\") #endBill\n",
    "applyEvent(event5,amount=500) # repayment\n",
    "applyEvent(event1,date=\"03/05/20\") # Bill\n",
    "showHistory()"
   ]
  },
  {
   "cell_type": "code",
   "execution_count": null,
   "metadata": {},
   "outputs": [],
   "source": []
  }
 ],
 "metadata": {
  "kernelspec": {
   "display_name": "Python 3",
   "language": "python",
   "name": "python3"
  },
  "language_info": {
   "codemirror_mode": {
    "name": "ipython",
    "version": 3
   },
   "file_extension": ".py",
   "mimetype": "text/x-python",
   "name": "python",
   "nbconvert_exporter": "python",
   "pygments_lexer": "ipython3",
   "version": "3.7.1"
  }
 },
 "nbformat": 4,
 "nbformat_minor": 2
}
