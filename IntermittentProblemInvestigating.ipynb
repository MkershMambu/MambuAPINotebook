{
 "cells": [
  {
   "cell_type": "markdown",
   "metadata": {},
   "source": [
    "## Introduction\n",
    "Investigating a reported intermittent problem with API 2.0\n",
    "PoC Client is reporting that they are getting intermittent errors with the following:\n",
    "1. Creating a savings account from the API\n",
    "1. Changing the status to approved from API\n",
    "1. Intermittently step 2 is failing\n",
    "\n",
    "GitHub: https://github.com/MkershMambu/MambuAPINotebook/blob/master/IntermittentProblemInvestigating.ipynb\n",
    "\n",
    "Viewer: https://nbviewer.jupyter.org/github/MkershMambu/MambuAPINotebook/blob/master/IntermittentProblemInvestigating.ipynb"
   ]
  },
  {
   "cell_type": "code",
   "execution_count": 6,
   "metadata": {},
   "outputs": [],
   "source": [
    "%run API.py\n",
    "%run ENV.py\n",
    "from IPython.core.display import HTML\n",
    "setENV(ENV)"
   ]
  },
  {
   "cell_type": "code",
   "execution_count": 2,
   "metadata": {},
   "outputs": [
    {
     "name": "stdout",
     "output_type": "stream",
     "text": [
      "Overwriting JSONBODY\n"
     ]
    }
   ],
   "source": [
    "%%writefile JSONBODY\n",
    "{\n",
    "  \"overdraftSettings\": {\n",
    "\t\"allowOverdraft\": true,\n",
    "\t\"overdraftLimit\": 0\n",
    "  },\n",
    "  \"accountType\": \"CURRENT_ACCOUNT\",\n",
    "  \"name\": \"MKCurTest1\",\n",
    "  \"accountHolderKey\": \"8a8186ac692678910169288509c606bc\",\n",
    "  \"productTypeKey\": \"8a8186aa69491c25016949888aeb10d2\",\n",
    "  \"currencyCode\": \"EUR\",\n",
    "  \"accountHolderType\": \"CLIENT\"\n",
    "}"
   ]
  },
  {
   "cell_type": "code",
   "execution_count": 3,
   "metadata": {},
   "outputs": [
    {
     "name": "stdout",
     "output_type": "stream",
     "text": [
      "Overwriting JSONBODY2\n"
     ]
    }
   ],
   "source": [
    "%%writefile JSONBODY2\n",
    "{\n",
    "  \"action\": \"APPROVE\",\n",
    "  \"notes\": \"Approved from the API\"\n",
    "}"
   ]
  },
  {
   "cell_type": "code",
   "execution_count": 4,
   "metadata": {},
   "outputs": [],
   "source": [
    "def testScenario(deleteIt=True):\n",
    "    HEADERS = {'Accept': 'application/vnd.mambu.v2+json','Content-Type': 'application/json'}\n",
    "    PARAMS = {}\n",
    "    # Step 1 -------------------- Create the account\n",
    "    r = POST('{{env1}}/deposits', headers=HEADERS, params=PARAMS, body=\"JSONBODY\")\n",
    "    encodedKey = r.json()['encodedKey']\n",
    "    if r.status_code != 201:\n",
    "        print(\"Failed to create account\")\n",
    "    else:\n",
    "        print(\"Created new account - {0}\".format(encodedKey))\n",
    "\n",
    "    # Step 2 -------------------- Change the Status to approved\n",
    "    url = \"{{env1}}\" + \"/deposits/{0}:changeState\".format(encodedKey)\n",
    "    r = POST(url, headers=HEADERS, params=PARAMS, body=\"JSONBODY2\")\n",
    "    if r.status_code != 200:\n",
    "        print(\"Failed to change Status of account to approved\")\n",
    "    else:\n",
    "        print(\"Changed Status to approved - successful\")\n",
    "\n",
    "    if deleteIt == True:\n",
    "        # Step 3 -------------------- Delete the account\n",
    "        url = \"{{env1}}\" + \"/deposits/{0}\".format(encodedKey)\n",
    "        r = DELETE(url, headers=HEADERS, params=PARAMS)\n",
    "        if r.status_code != 204:\n",
    "            print(\"Failed to delete account\")\n",
    "        else:\n",
    "            print(\"Delete account - successful\")"
   ]
  },
  {
   "cell_type": "code",
   "execution_count": 21,
   "metadata": {},
   "outputs": [
    {
     "name": "stdout",
     "output_type": "stream",
     "text": [
      "[0]Created new account - 8a8187786a21e99b016a21fab5770079\n",
      "Changed Status to approved - successful\n",
      "Delete account - successful\n",
      "[1]Created new account - 8a8187da6a2183a3016a21faaccc01f6\n",
      "Changed Status to approved - successful\n",
      "Delete account - successful\n",
      "[2]Created new account - 8a8187d36a210122016a21fab9ab3bbc\n",
      "Changed Status to approved - successful\n",
      "Delete account - successful\n",
      "[3]Created new account - 8a8187786a21e99b016a21fab577007c\n",
      "Changed Status to approved - successful\n",
      "Delete account - successful\n",
      "[4]Created new account - 8a8187d36a210122016a21fb18613bbf\n",
      "Changed Status to approved - successful\n",
      "Delete account - successful\n"
     ]
    }
   ],
   "source": [
    "for i in range(5):\n",
    "    print(\"[{0}]\".format(i), end='')\n",
    "    testScenario(True)"
   ]
  },
  {
   "cell_type": "markdown",
   "metadata": {},
   "source": [
    "### Trying an alternative version of the scenario - testScenario2\n",
    "This should be faster between API operations because there is no reading of files\n",
    "\n",
    "This is also failing to duplicate the issue though??"
   ]
  },
  {
   "cell_type": "code",
   "execution_count": 18,
   "metadata": {},
   "outputs": [],
   "source": [
    "jsonData1 = readFile(\"JSONBODY\")\n",
    "jsonData2 = readFile(\"JSONBODY2\")"
   ]
  },
  {
   "cell_type": "code",
   "execution_count": 19,
   "metadata": {},
   "outputs": [],
   "source": [
    "def testScenario2(deleteIt=True):\n",
    "    HEADERS = {'Accept': 'application/vnd.mambu.v2+json','Content-Type': 'application/json'}\n",
    "    PARAMS = {}\n",
    "    # Step 1 -------------------- Create the account\n",
    "    r = POST2('{{env1}}/deposits', headers=HEADERS, params=PARAMS, data=jsonData1)\n",
    "    encodedKey = r.json()['encodedKey']\n",
    "    if r.status_code != 201:\n",
    "        print(\"Failed to create account\")\n",
    "    else:\n",
    "        print(\"Created new account - {0}\".format(encodedKey))\n",
    "\n",
    "    # Step 2 -------------------- Change the Status to approved\n",
    "    url = \"{{env1}}\" + \"/deposits/{0}:changeState\".format(encodedKey)\n",
    "    r = POST2(url, headers=HEADERS, params=PARAMS, data=jsonData2)\n",
    "    if r.status_code != 200:\n",
    "        print(\"Failed to change Status of account to approved\")\n",
    "    else:\n",
    "        print(\"Changed Status to approved - successful\")\n",
    "\n",
    "    if deleteIt == True:\n",
    "        # Step 3 -------------------- Delete the account\n",
    "        url = \"{{env1}}\" + \"/deposits/{0}\".format(encodedKey)\n",
    "        r = DELETE(url, headers=HEADERS, params=PARAMS)\n",
    "        if r.status_code != 204:\n",
    "            print(\"Failed to delete account\")\n",
    "        else:\n",
    "            print(\"Delete account - successful\")"
   ]
  },
  {
   "cell_type": "code",
   "execution_count": 20,
   "metadata": {},
   "outputs": [
    {
     "name": "stdout",
     "output_type": "stream",
     "text": [
      "[0]Created new account - 8a8186c16a21796b016a21f7650f05e3\n",
      "Changed Status to approved - successful\n",
      "Delete account - successful\n",
      "[1]Created new account - 8a8187da6a2183a3016a21f77fd801f2\n",
      "Changed Status to approved - successful\n",
      "Delete account - successful\n",
      "[2]Created new account - 8a8187786a21e99b016a21f78b230076\n",
      "Changed Status to approved - successful\n",
      "Delete account - successful\n",
      "[3]Created new account - 8a8186c16a21796b016a21faaac105e7\n",
      "Changed Status to approved - successful\n",
      "Delete account - successful\n",
      "[4]Created new account - 8a8186696a21009e016a21f778513bff\n",
      "Changed Status to approved - successful\n",
      "Delete account - successful\n"
     ]
    }
   ],
   "source": [
    "for i in range(5):\n",
    "    print(\"[{0}]\".format(i), end='')\n",
    "    testScenario2(True)"
   ]
  },
  {
   "cell_type": "code",
   "execution_count": null,
   "metadata": {},
   "outputs": [],
   "source": []
  },
  {
   "cell_type": "code",
   "execution_count": null,
   "metadata": {},
   "outputs": [],
   "source": []
  },
  {
   "cell_type": "code",
   "execution_count": null,
   "metadata": {},
   "outputs": [],
   "source": []
  },
  {
   "cell_type": "code",
   "execution_count": null,
   "metadata": {},
   "outputs": [],
   "source": []
  },
  {
   "cell_type": "code",
   "execution_count": null,
   "metadata": {},
   "outputs": [],
   "source": []
  },
  {
   "cell_type": "code",
   "execution_count": null,
   "metadata": {},
   "outputs": [],
   "source": []
  },
  {
   "cell_type": "code",
   "execution_count": 14,
   "metadata": {},
   "outputs": [
    {
     "name": "stdout",
     "output_type": "stream",
     "text": [
      "API status:\n",
      "204\n",
      "Now the JSON:\n",
      "\n"
     ]
    }
   ],
   "source": [
    "HEADERS = {'Accept': 'application/vnd.mambu.v2+json','Content-Type': 'application/json'}\n",
    "PARAMS = {}\n",
    "url = \"{{env1}}\" + \"/deposits/{0}\".format(encodedKey)\n",
    "r = DELETE(url, headers=HEADERS, params=PARAMS)\n",
    "print (\"API status:\")\n",
    "print(r.status_code)\n",
    "print(\"Now the JSON:\")\n",
    "print(r.text)"
   ]
  },
  {
   "cell_type": "code",
   "execution_count": 13,
   "metadata": {},
   "outputs": [],
   "source": [
    "encodedKey = \"8a8186696a21009e016a21f02a363bbe\""
   ]
  },
  {
   "cell_type": "code",
   "execution_count": 54,
   "metadata": {},
   "outputs": [
    {
     "name": "stdout",
     "output_type": "stream",
     "text": [
      "API status: 404\n",
      "JSON Response:\n",
      "{\n",
      "    \"errors\": [\n",
      "        {\n",
      "            \"errorCode\": 428,\n",
      "            \"errorReason\": \"INVALID_DEPOSIT_ACCOUNT_ID\"\n",
      "        }\n",
      "    ]\n",
      "}\n"
     ]
    }
   ],
   "source": [
    "HEADERS = {'Accept': 'application/vnd.mambu.v2+json'}\n",
    "# Parameters below set up pagination and only returns max 20\n",
    "PARAMS = {'detailsLevel': 'FULL'}\n",
    "url = \"{{env1}}\" + \"/deposits/{0}\".format(encodedKey)\n",
    "r = GET(url, headers=HEADERS, params=PARAMS)\n",
    "PRINT(r)"
   ]
  },
  {
   "cell_type": "code",
   "execution_count": 25,
   "metadata": {},
   "outputs": [
    {
     "name": "stdout",
     "output_type": "stream",
     "text": [
      "Writing JSONBODY3\n"
     ]
    }
   ],
   "source": [
    "%%writefile JSONBODY3\n",
    "{\n",
    "  \"action\": \"UNDO_APPROVE\",\n",
    "  \"notes\": \"Approved from the API\"\n",
    "}"
   ]
  },
  {
   "cell_type": "code",
   "execution_count": 26,
   "metadata": {},
   "outputs": [
    {
     "name": "stdout",
     "output_type": "stream",
     "text": [
      "API status:\n",
      "200\n",
      "Now the JSON:\n",
      "{\"encodedKey\":\"8a8186c16a21796b016a21d0cce0055f\",\"creationDate\":\"2019-04-15T18:24:53+02:00\",\"lastModifiedDate\":\"2019-04-15T18:29:44+02:00\",\"id\":\"MGQN492\",\"name\":\"MKCurTest1\",\"accountHolderType\":\"CLIENT\",\"accountHolderKey\":\"8a8186ac692678910169288509c606bc\",\"accountState\":\"PENDING_APPROVAL\",\"productTypeKey\":\"8a8186aa69491c25016949888aeb10d2\",\"accountType\":\"CURRENT_ACCOUNT\",\"currencyCode\":\"EUR\",\"assignedBranchKey\":\"8a8186ac692678910169287cf43606af\",\"internalControls\":{},\"overdraftSettings\":{\"allowOverdraft\":true,\"overdraftLimit\":0E-10},\"interestSettings\":{\"interestPaymentSettings\":{\"interestPaymentDates\":[]}},\"overdraftInterestSettings\":{\"interestRateSettings\":{\"encodedKey\":\"8a8186c16a21796b016a21d0cce00560\",\"interestRate\":0E-20,\"interestChargeFrequency\":\"ANNUALIZED\",\"interestChargeFrequencyCount\":1,\"interestRateTiers\":[],\"interestRateTerms\":\"FIXED\",\"interestRateSource\":\"FIXED_INTEREST_RATE\"}},\"balances\":{\"overdraftAmount\":0E-10,\"technicalOverdraftAmount\":0E-10,\"lockedBalance\":0E-10,\"availableBalance\":0E-10,\"holdBalance\":0E-10,\"overdraftInterestDue\":0E-10,\"technicalOverdraftInterestDue\":0E-10,\"feesDue\":0E-10},\"accruedAmounts\":{\"interestAccrued\":0E-10,\"overdraftInterestAccrued\":0E-10,\"technicalOverdraftInterestAccrued\":0E-10}}\n"
     ]
    }
   ],
   "source": [
    "HEADERS = {'Accept': 'application/vnd.mambu.v2+json','Content-Type': 'application/json'}\n",
    "PARAMS = {}\n",
    "url = \"{{env1}}\" + \"/deposits/{0}:changeState\".format(encodedKey)\n",
    "r = POST(url, headers=HEADERS, params=PARAMS, body=\"JSONBODY3\")\n",
    "print (\"API status:\")\n",
    "print(r.status_code)\n",
    "print(\"Now the JSON:\")\n",
    "print(r.text)"
   ]
  },
  {
   "cell_type": "code",
   "execution_count": null,
   "metadata": {},
   "outputs": [],
   "source": []
  }
 ],
 "metadata": {
  "kernelspec": {
   "display_name": "Python 3",
   "language": "python",
   "name": "python3"
  },
  "language_info": {
   "codemirror_mode": {
    "name": "ipython",
    "version": 3
   },
   "file_extension": ".py",
   "mimetype": "text/x-python",
   "name": "python",
   "nbconvert_exporter": "python",
   "pygments_lexer": "ipython3",
   "version": "3.7.1"
  }
 },
 "nbformat": 4,
 "nbformat_minor": 2
}
