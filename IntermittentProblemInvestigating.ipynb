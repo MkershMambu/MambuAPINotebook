{
 "cells": [
  {
   "cell_type": "markdown",
   "metadata": {},
   "source": [
    "## Introduction\n",
    "Investigating a reported intermittent problem with API 2.0\n",
    "PoC Client is reporting that they are getting intermittent errors with the following:\n",
    "1. Creating a savings account from the API\n",
    "1. Changing the status to approved from API\n",
    "1. Intermittently step 2 is failing\n",
    "\n",
    "GitHub: https://github.com/MkershMambu/MambuAPINotebook/blob/master/IntermittentProblemInvestigating.ipynb\n",
    "\n",
    "Viewer: [https://nbviewer.jupyter.org/github/MkershMambu/MambuAPINotebook/blob/master/IntermittentProblemInvestigating.ipynb](https://nbviewer.jupyter.org/github/MkershMambu/MambuAPINotebook/blob/master/IntermittentProblemInvestigating.ipynb?flush_cache=true)"
   ]
  },
  {
   "cell_type": "code",
   "execution_count": 72,
   "metadata": {},
   "outputs": [],
   "source": [
    "%run API.py\n",
    "%run ENV.py\n",
    "from IPython.core.display import HTML\n",
    "setENV(ENV)"
   ]
  },
  {
   "cell_type": "code",
   "execution_count": 73,
   "metadata": {},
   "outputs": [
    {
     "name": "stdout",
     "output_type": "stream",
     "text": [
      "Overwriting JSONBODY\n"
     ]
    }
   ],
   "source": [
    "%%writefile JSONBODY\n",
    "{\n",
    "  \"overdraftSettings\": {\n",
    "\t\"allowOverdraft\": true,\n",
    "\t\"overdraftLimit\": 0\n",
    "  },\n",
    "  \"accountType\": \"CURRENT_ACCOUNT\",\n",
    "  \"name\": \"MKCurTest1\",\n",
    "  \"accountHolderKey\": \"8a8186ac692678910169288509c606bc\",\n",
    "  \"productTypeKey\": \"8a8186aa69491c25016949888aeb10d2\",\n",
    "  \"currencyCode\": \"EUR\",\n",
    "  \"accountHolderType\": \"CLIENT\"\n",
    "}"
   ]
  },
  {
   "cell_type": "code",
   "execution_count": 74,
   "metadata": {},
   "outputs": [
    {
     "name": "stdout",
     "output_type": "stream",
     "text": [
      "Overwriting JSONBODY2\n"
     ]
    }
   ],
   "source": [
    "%%writefile JSONBODY2\n",
    "{\n",
    "  \"action\": \"APPROVE\",\n",
    "  \"notes\": \"Approved from the API\"\n",
    "}"
   ]
  },
  {
   "cell_type": "code",
   "execution_count": 77,
   "metadata": {},
   "outputs": [],
   "source": [
    "import time"
   ]
  },
  {
   "cell_type": "code",
   "execution_count": 78,
   "metadata": {},
   "outputs": [],
   "source": [
    "def testScenario(deleteIt=True):\n",
    "    HEADERS = {'Accept': 'application/vnd.mambu.v2+json','Content-Type': 'application/json'}\n",
    "    PARAMS = {}\n",
    "    # Step 1 -------------------- Create the account\n",
    "    r = POST('{{env1}}/deposits', headers=HEADERS, params=PARAMS, body=\"JSONBODY\")\n",
    "    encodedKey = r.json()['encodedKey']\n",
    "    if r.status_code != 201:\n",
    "        print(\"Failed to create account\")\n",
    "    else:\n",
    "        print(\"Created new account - {0}\".format(encodedKey))\n",
    "    time.sleep(2)\n",
    "    # Step 2 -------------------- Change the Status to approved\n",
    "    url = \"{{env1}}\" + \"/deposits/{0}:changeState\".format(encodedKey)\n",
    "    r = POST(url, headers=HEADERS, params=PARAMS, body=\"JSONBODY2\")\n",
    "    if r.status_code != 200:\n",
    "        print(\"Failed to change Status of account to approved\")\n",
    "    else:\n",
    "        print(\"Changed Status to approved - successful\")\n",
    "    time.sleep(2)\n",
    "    if deleteIt == True:\n",
    "        # Step 3 -------------------- Delete the account\n",
    "        url = \"{{env1}}\" + \"/deposits/{0}\".format(encodedKey)\n",
    "        r = DELETE(url, headers=HEADERS, params=PARAMS)\n",
    "        if r.status_code != 204:\n",
    "            print(\"Failed to delete account\")\n",
    "        else:\n",
    "            print(\"Delete account - successful\")"
   ]
  },
  {
   "cell_type": "code",
   "execution_count": 79,
   "metadata": {},
   "outputs": [
    {
     "name": "stdout",
     "output_type": "stream",
     "text": [
      "[0]Created new account - 8a8187da6a2183a3016a27172a1723d6\n",
      "Changed Status to approved - successful\n",
      "Delete account - successful\n",
      "[1]Created new account - 8a8186c16a21796b016a27195ff2263e\n",
      "Changed Status to approved - successful\n",
      "Delete account - successful\n",
      "[2]Created new account - 8a8186906a21f30e016a27170fc6216e\n",
      "Changed Status to approved - successful\n",
      "Delete account - successful\n",
      "[3]Created new account - 8a8186c16a21796b016a27195ff22642\n",
      "Changed Status to approved - successful\n",
      "Delete account - successful\n",
      "[4]Created new account - 8a8186906a21f30e016a271977b32181\n",
      "Changed Status to approved - successful\n",
      "Delete account - successful\n"
     ]
    }
   ],
   "source": [
    "for i in range(5):\n",
    "    print(\"[{0}]\".format(i), end='')\n",
    "    testScenario(True)"
   ]
  },
  {
   "cell_type": "markdown",
   "metadata": {},
   "source": [
    "### Trying an alternative version of the scenario - testScenario2\n",
    "This should be faster between API operations because there is no reading of files\n",
    "\n",
    "This is also failing to duplicate the issue though??"
   ]
  },
  {
   "cell_type": "code",
   "execution_count": 18,
   "metadata": {},
   "outputs": [],
   "source": [
    "jsonData1 = readFile(\"JSONBODY\")\n",
    "jsonData2 = readFile(\"JSONBODY2\")"
   ]
  },
  {
   "cell_type": "code",
   "execution_count": 19,
   "metadata": {},
   "outputs": [],
   "source": [
    "def testScenario2(deleteIt=True):\n",
    "    HEADERS = {'Accept': 'application/vnd.mambu.v2+json','Content-Type': 'application/json'}\n",
    "    PARAMS = {}\n",
    "    # Step 1 -------------------- Create the account\n",
    "    r = POST2('{{env1}}/deposits', headers=HEADERS, params=PARAMS, data=jsonData1)\n",
    "    encodedKey = r.json()['encodedKey']\n",
    "    if r.status_code != 201:\n",
    "        print(\"Failed to create account\")\n",
    "    else:\n",
    "        print(\"Created new account - {0}\".format(encodedKey))\n",
    "\n",
    "    # Step 2 -------------------- Change the Status to approved\n",
    "    url = \"{{env1}}\" + \"/deposits/{0}:changeState\".format(encodedKey)\n",
    "    r = POST2(url, headers=HEADERS, params=PARAMS, data=jsonData2)\n",
    "    if r.status_code != 200:\n",
    "        print(\"Failed to change Status of account to approved\")\n",
    "    else:\n",
    "        print(\"Changed Status to approved - successful\")\n",
    "\n",
    "    if deleteIt == True:\n",
    "        # Step 3 -------------------- Delete the account\n",
    "        url = \"{{env1}}\" + \"/deposits/{0}\".format(encodedKey)\n",
    "        r = DELETE(url, headers=HEADERS, params=PARAMS)\n",
    "        if r.status_code != 204:\n",
    "            print(\"Failed to delete account\")\n",
    "        else:\n",
    "            print(\"Delete account - successful\")"
   ]
  },
  {
   "cell_type": "code",
   "execution_count": 23,
   "metadata": {},
   "outputs": [
    {
     "name": "stdout",
     "output_type": "stream",
     "text": [
      "[0]Created new account - 8a8186696a21009e016a21fb14073c09\n",
      "Changed Status to approved - successful\n",
      "Delete account - successful\n",
      "[1]Created new account - 8a8186906a21f30e016a21fb07670030\n",
      "Changed Status to approved - successful\n",
      "Delete account - successful\n",
      "[2]Created new account - 8a8186906a21f30e016a22056f95004c\n",
      "Changed Status to approved - successful\n",
      "Delete account - successful\n",
      "[3]Created new account - 8a8186696a21009e016a2205693d3ce3\n",
      "Changed Status to approved - successful\n",
      "Delete account - successful\n",
      "[4]Created new account - 8a8186c16a21796b016a220540c605f3\n",
      "Changed Status to approved - successful\n",
      "Delete account - successful\n"
     ]
    }
   ],
   "source": [
    "for i in range(5):\n",
    "    print(\"[{0}]\".format(i), end='')\n",
    "    testScenario2(True)"
   ]
  },
  {
   "cell_type": "code",
   "execution_count": null,
   "metadata": {},
   "outputs": [],
   "source": []
  },
  {
   "cell_type": "code",
   "execution_count": null,
   "metadata": {},
   "outputs": [],
   "source": []
  },
  {
   "cell_type": "code",
   "execution_count": null,
   "metadata": {},
   "outputs": [],
   "source": []
  },
  {
   "cell_type": "code",
   "execution_count": null,
   "metadata": {},
   "outputs": [],
   "source": []
  },
  {
   "cell_type": "code",
   "execution_count": null,
   "metadata": {},
   "outputs": [],
   "source": []
  },
  {
   "cell_type": "code",
   "execution_count": null,
   "metadata": {},
   "outputs": [],
   "source": []
  },
  {
   "cell_type": "code",
   "execution_count": 14,
   "metadata": {},
   "outputs": [
    {
     "name": "stdout",
     "output_type": "stream",
     "text": [
      "API status:\n",
      "204\n",
      "Now the JSON:\n",
      "\n"
     ]
    }
   ],
   "source": [
    "HEADERS = {'Accept': 'application/vnd.mambu.v2+json','Content-Type': 'application/json'}\n",
    "PARAMS = {}\n",
    "url = \"{{env1}}\" + \"/deposits/{0}\".format(encodedKey)\n",
    "r = DELETE(url, headers=HEADERS, params=PARAMS)\n",
    "print (\"API status:\")\n",
    "print(r.status_code)\n",
    "print(\"Now the JSON:\")\n",
    "print(r.text)"
   ]
  },
  {
   "cell_type": "code",
   "execution_count": 30,
   "metadata": {},
   "outputs": [],
   "source": [
    "encodedKey = \"8a85879169f1de4c0169f289795519da\""
   ]
  },
  {
   "cell_type": "code",
   "execution_count": 31,
   "metadata": {},
   "outputs": [
    {
     "name": "stdout",
     "output_type": "stream",
     "text": [
      "API status: 200\n",
      "JSON Response:\n",
      "{\n",
      "    \"addresses\": [],\n",
      "    \"approvedDate\": \"2019-04-06T13:10:19+01:00\",\n",
      "    \"assignedBranchKey\": \"8a85879169f1de4c0169f289795519d8\",\n",
      "    \"clientRoleKey\": \"8a858ee569a54f680169bee0659c7b00\",\n",
      "    \"creationDate\": \"2019-04-06T13:10:19+01:00\",\n",
      "    \"encodedKey\": \"8a85879169f1de4c0169f289795519da\",\n",
      "    \"firstName\": \"Jim\",\n",
      "    \"groupLoanCycle\": 0,\n",
      "    \"id\": \"443318184\",\n",
      "    \"idDocuments\": [],\n",
      "    \"lastModifiedDate\": \"2019-04-06T13:10:38+01:00\",\n",
      "    \"lastName\": \"Smith\",\n",
      "    \"loanCycle\": 0,\n",
      "    \"notes\": \"\",\n",
      "    \"preferredLanguage\": \"ENGLISH\",\n",
      "    \"state\": \"INACTIVE\"\n",
      "}\n"
     ]
    }
   ],
   "source": [
    "HEADERS = {'Accept': 'application/vnd.mambu.v2+json'}\n",
    "# Parameters below set up pagination and only returns max 20\n",
    "PARAMS = {'detailsLevel': 'FULL'}\n",
    "url = \"{{env3}}\" + \"/deposits/{0}\".format(encodedKey)\n",
    "r = GET(url, headers=HEADERS, params=PARAMS)\n",
    "PRINT(r)"
   ]
  },
  {
   "cell_type": "code",
   "execution_count": 25,
   "metadata": {},
   "outputs": [
    {
     "name": "stdout",
     "output_type": "stream",
     "text": [
      "Writing JSONBODY3\n"
     ]
    }
   ],
   "source": [
    "%%writefile JSONBODY3\n",
    "{\n",
    "  \"action\": \"UNDO_APPROVE\",\n",
    "  \"notes\": \"Approved from the API\"\n",
    "}"
   ]
  },
  {
   "cell_type": "code",
   "execution_count": 26,
   "metadata": {},
   "outputs": [
    {
     "name": "stdout",
     "output_type": "stream",
     "text": [
      "API status:\n",
      "200\n",
      "Now the JSON:\n",
      "{\"encodedKey\":\"8a8186c16a21796b016a21d0cce0055f\",\"creationDate\":\"2019-04-15T18:24:53+02:00\",\"lastModifiedDate\":\"2019-04-15T18:29:44+02:00\",\"id\":\"MGQN492\",\"name\":\"MKCurTest1\",\"accountHolderType\":\"CLIENT\",\"accountHolderKey\":\"8a8186ac692678910169288509c606bc\",\"accountState\":\"PENDING_APPROVAL\",\"productTypeKey\":\"8a8186aa69491c25016949888aeb10d2\",\"accountType\":\"CURRENT_ACCOUNT\",\"currencyCode\":\"EUR\",\"assignedBranchKey\":\"8a8186ac692678910169287cf43606af\",\"internalControls\":{},\"overdraftSettings\":{\"allowOverdraft\":true,\"overdraftLimit\":0E-10},\"interestSettings\":{\"interestPaymentSettings\":{\"interestPaymentDates\":[]}},\"overdraftInterestSettings\":{\"interestRateSettings\":{\"encodedKey\":\"8a8186c16a21796b016a21d0cce00560\",\"interestRate\":0E-20,\"interestChargeFrequency\":\"ANNUALIZED\",\"interestChargeFrequencyCount\":1,\"interestRateTiers\":[],\"interestRateTerms\":\"FIXED\",\"interestRateSource\":\"FIXED_INTEREST_RATE\"}},\"balances\":{\"overdraftAmount\":0E-10,\"technicalOverdraftAmount\":0E-10,\"lockedBalance\":0E-10,\"availableBalance\":0E-10,\"holdBalance\":0E-10,\"overdraftInterestDue\":0E-10,\"technicalOverdraftInterestDue\":0E-10,\"feesDue\":0E-10},\"accruedAmounts\":{\"interestAccrued\":0E-10,\"overdraftInterestAccrued\":0E-10,\"technicalOverdraftInterestAccrued\":0E-10}}\n"
     ]
    }
   ],
   "source": [
    "HEADERS = {'Accept': 'application/vnd.mambu.v2+json','Content-Type': 'application/json'}\n",
    "PARAMS = {}\n",
    "url = \"{{env1}}\" + \"/deposits/{0}:changeState\".format(encodedKey)\n",
    "r = POST(url, headers=HEADERS, params=PARAMS, body=\"JSONBODY3\")\n",
    "print (\"API status:\")\n",
    "print(r.status_code)\n",
    "print(\"Now the JSON:\")\n",
    "print(r.text)"
   ]
  },
  {
   "cell_type": "code",
   "execution_count": null,
   "metadata": {},
   "outputs": [],
   "source": []
  },
  {
   "cell_type": "markdown",
   "metadata": {},
   "source": [
    "## Test on the actual clients environment that is reporting the problem"
   ]
  },
  {
   "cell_type": "code",
   "execution_count": 68,
   "metadata": {},
   "outputs": [
    {
     "name": "stdout",
     "output_type": "stream",
     "text": [
      "Overwriting JSONBODY4\n"
     ]
    }
   ],
   "source": [
    "%%writefile JSONBODY4\n",
    "{\n",
    "  \"overdraftSettings\": {\n",
    "\t\"allowOverdraft\": true,\n",
    "\t\"overdraftLimit\": 0\n",
    "  },\n",
    "  \"accountType\": \"CURRENT_ACCOUNT\",\n",
    "  \"name\": \"MKCurTest1\",\n",
    "  \"accountHolderKey\": \"8a85879169f1de4c0169f289795519da\",\n",
    "  \"productTypeKey\": \"8a8586e46a235584016a24695e6214bd\",\n",
    "  \"currencyCode\": \"GBP\",\n",
    "  \"accountHolderType\": \"CLIENT\"\n",
    "}"
   ]
  },
  {
   "cell_type": "code",
   "execution_count": 69,
   "metadata": {},
   "outputs": [],
   "source": [
    "def testScenario3(deleteIt=True):\n",
    "    HEADERS = {'Accept': 'application/vnd.mambu.v2+json','Content-Type': 'application/json'}\n",
    "    PARAMS = {}\n",
    "    # Step 1 -------------------- Create the account\n",
    "    r = POST('{{env3}}/deposits', headers=HEADERS, params=PARAMS, body=\"JSONBODY4\")\n",
    "    encodedKey = r.json()['encodedKey']\n",
    "    if r.status_code != 201:\n",
    "        print(\"Failed to create account\")\n",
    "    else:\n",
    "        print(\"Created new account - {0}\".format(encodedKey))\n",
    "\n",
    "    # Step 2 -------------------- Change the Status to approved\n",
    "    url = \"{{env3}}\" + \"/deposits/{0}:changeState\".format(encodedKey)\n",
    "    r = POST(url, headers=HEADERS, params=PARAMS, body=\"JSONBODY2\")\n",
    "    if r.status_code != 200:\n",
    "        print(\"Failed to change Status of account to approved\")\n",
    "    else:\n",
    "        print(\"Changed Status to approved - successful\")\n",
    "\n",
    "    if deleteIt == True:\n",
    "        # Step 3 -------------------- Delete the account\n",
    "        url = \"{{env3}}\" + \"/deposits/{0}\".format(encodedKey)\n",
    "        r = DELETE(url, headers=HEADERS, params=PARAMS)\n",
    "        if r.status_code != 204:\n",
    "            print(\"Failed to delete account\")\n",
    "        else:\n",
    "            print(\"Delete account - successful\")"
   ]
  },
  {
   "cell_type": "code",
   "execution_count": 70,
   "metadata": {},
   "outputs": [
    {
     "name": "stdout",
     "output_type": "stream",
     "text": [
      "[0]Created new account - 8a8587856a25d48e016a262d1b744274\n",
      "Changed Status to approved - successful\n",
      "Delete account - successful\n",
      "[1]Created new account - 8a85860c6a25f24b016a26825d6145c2\n",
      "Changed Status to approved - successful\n",
      "Delete account - successful\n",
      "[2]Created new account - 8a85860c6a25f24b016a26825f6445c7\n",
      "Changed Status to approved - successful\n",
      "Delete account - successful\n",
      "[3]Created new account - 8a8587de6a25966b016a268274d463ce\n",
      "Changed Status to approved - successful\n",
      "Delete account - successful\n",
      "[4]Created new account - 8a8586e66a25df09016a268278604f7d\n",
      "Changed Status to approved - successful\n",
      "Delete account - successful\n",
      "[5]Created new account - 8a8586e66a25df09016a2682a2544f87\n",
      "Changed Status to approved - successful\n",
      "Delete account - successful\n",
      "[6]Created new account - 8a8587856a25d48e016a2682a8a47a56\n",
      "Changed Status to approved - successful\n",
      "Delete account - successful\n",
      "[7]Created new account - 8a8586e66a25df09016a2682a9c84f8c\n",
      "Changed Status to approved - successful\n",
      "Delete account - successful\n",
      "[8]Created new account - 8a8587856a25d48e016a2682b3ae7a5e\n",
      "Changed Status to approved - successful\n",
      "Delete account - successful\n",
      "[9]Created new account - 8a8587856a25d48e016a2682ca027a68\n",
      "Changed Status to approved - successful\n",
      "Delete account - successful\n"
     ]
    }
   ],
   "source": [
    "for i in range(10):\n",
    "    print(\"[{0}]\".format(i), end='')\n",
    "    testScenario3(True)"
   ]
  },
  {
   "cell_type": "code",
   "execution_count": 43,
   "metadata": {},
   "outputs": [
    {
     "name": "stdout",
     "output_type": "stream",
     "text": [
      "API status:\n",
      "201\n",
      "Now the JSON:\n",
      "{\"encodedKey\":\"8a8586e46a235584016a24e001b6193e\",\"creationDate\":\"2019-04-16T07:41:12+01:00\",\"lastModifiedDate\":\"2019-04-16T07:41:12+01:00\",\"id\":\"BGWV647\",\"name\":\"MKCurTest1\",\"accountHolderType\":\"CLIENT\",\"accountHolderKey\":\"8a85879169f1de4c0169f289795519da\",\"accountState\":\"PENDING_APPROVAL\",\"productTypeKey\":\"8a8586e46a235584016a24695e6214bd\",\"accountType\":\"CURRENT_ACCOUNT\",\"currencyCode\":\"GBP\",\"assignedBranchKey\":\"8a85879169f1de4c0169f289795519d8\",\"internalControls\":{},\"overdraftSettings\":{\"allowOverdraft\":true,\"overdraftLimit\":0},\"interestSettings\":{\"interestPaymentSettings\":{\"interestPaymentDates\":[]}},\"overdraftInterestSettings\":{\"interestRateSettings\":{\"encodedKey\":\"8a8586e46a235584016a24e001b6193f\",\"interestRate\":2.00000000000000000000,\"interestChargeFrequency\":\"ANNUALIZED\",\"interestChargeFrequencyCount\":1,\"interestRateTiers\":[],\"interestRateTerms\":\"FIXED\",\"interestRateSource\":\"FIXED_INTEREST_RATE\"}},\"balances\":{\"overdraftAmount\":0,\"technicalOverdraftAmount\":0,\"lockedBalance\":0,\"availableBalance\":0,\"holdBalance\":0,\"overdraftInterestDue\":0,\"technicalOverdraftInterestDue\":0,\"feesDue\":0},\"accruedAmounts\":{\"interestAccrued\":0,\"overdraftInterestAccrued\":0,\"technicalOverdraftInterestAccrued\":0}}\n"
     ]
    }
   ],
   "source": [
    "HEADERS = {'Accept': 'application/vnd.mambu.v2+json','Content-Type': 'application/json'}\n",
    "PARAMS = {}\n",
    "# Step 1 -------------------- Create the account\n",
    "r = POST('{{env3}}/deposits', headers=HEADERS, params=PARAMS, body=\"JSONBODY4\")\n",
    "print (\"API status:\")\n",
    "print(r.status_code)\n",
    "print(\"Now the JSON:\")\n",
    "print(r.text)"
   ]
  },
  {
   "cell_type": "code",
   "execution_count": null,
   "metadata": {},
   "outputs": [],
   "source": []
  },
  {
   "cell_type": "markdown",
   "metadata": {},
   "source": [
    "## More information about the problem\n",
    "It is happending when trying to create clients"
   ]
  },
  {
   "cell_type": "code",
   "execution_count": 50,
   "metadata": {},
   "outputs": [
    {
     "name": "stdout",
     "output_type": "stream",
     "text": [
      "Overwriting JSONBODY\n"
     ]
    }
   ],
   "source": [
    "%%writefile JSONBODY\n",
    "{\n",
    "\"firstName\": \"Mambu\",\n",
    "\"lastName\": \"Test\",\n",
    "\"preferredLanguage\": \"ENGLISH\",\n",
    "\"addresses\": [\n",
    "    {\n",
    "      \"country\": \"UK\",\n",
    "      \"city\": \"Liverpool\"\n",
    "    }\n",
    "],\n",
    "\"notes\": \"Some Notes on this person\",\n",
    "\"gender\": \"MALE\"   \n",
    "}\n",
    "  \n",
    "\n",
    "    "
   ]
  },
  {
   "cell_type": "code",
   "execution_count": 65,
   "metadata": {},
   "outputs": [],
   "source": [
    "def testScenario4():\n",
    "    HEADERS = {'Accept': 'application/vnd.mambu.v2+json','Content-Type': 'application/json'}\n",
    "    PARAMS = {}\n",
    "    r = POST('{{env3}}/clients', headers=HEADERS, params=PARAMS, body=\"JSONBODY\")\n",
    "    # Remember the ID of the customer created we will use it below \n",
    "    newCustomerID = r.json()['id']\n",
    "    try:\n",
    "        if r.status_code != 201:\n",
    "            print(\"Failed to create client\")\n",
    "        else:\n",
    "            print(\"Created new client - {0}\".format(newCustomerID))\n",
    "            r = GET(\"{{env3}}/clients/\" + newCustomerID, headers=HEADERS, params=PARAMS)\n",
    "            if r.status_code != 200:\n",
    "                print(\"Failed to GET client\")\n",
    "            else:\n",
    "                print(\"GET client - success\")\n",
    "            r = DELETE(\"{{env3}}/clients/\" + newCustomerID, headers=HEADERS, params=PARAMS)\n",
    "            if r.status_code != 204:\n",
    "                print(\"Failed to delete client\")\n",
    "            else:\n",
    "                print(\"Delete client - successful\")\n",
    "    except:\n",
    "        print(\"Failed to create client\")"
   ]
  },
  {
   "cell_type": "code",
   "execution_count": 66,
   "metadata": {},
   "outputs": [
    {
     "name": "stdout",
     "output_type": "stream",
     "text": [
      "[0]Created new client - 885640553\n",
      "GET client - success\n",
      "Delete client - successful\n",
      "[1]Created new client - 121958792\n",
      "GET client - success\n",
      "Delete client - successful\n",
      "[2]Created new client - 113206579\n",
      "GET client - success\n",
      "Delete client - successful\n",
      "[3]Created new client - 846451860\n",
      "GET client - success\n",
      "Delete client - successful\n",
      "[4]Created new client - 353562412\n",
      "GET client - success\n",
      "Delete client - successful\n",
      "[5]Created new client - 133035919\n",
      "GET client - success\n",
      "Delete client - successful\n",
      "[6]Created new client - 831842200\n",
      "GET client - success\n",
      "Delete client - successful\n",
      "[7]Created new client - 211208473\n",
      "GET client - success\n",
      "Delete client - successful\n",
      "[8]Created new client - 633899996\n",
      "GET client - success\n",
      "Delete client - successful\n",
      "[9]Created new client - 802640797\n",
      "GET client - success\n",
      "Delete client - successful\n"
     ]
    }
   ],
   "source": [
    "for i in range(10):\n",
    "    print(\"[{0}]\".format(i), end='')\n",
    "    testScenario4()\n"
   ]
  },
  {
   "cell_type": "code",
   "execution_count": null,
   "metadata": {},
   "outputs": [],
   "source": []
  },
  {
   "cell_type": "code",
   "execution_count": null,
   "metadata": {},
   "outputs": [],
   "source": []
  },
  {
   "cell_type": "code",
   "execution_count": null,
   "metadata": {},
   "outputs": [],
   "source": []
  },
  {
   "cell_type": "code",
   "execution_count": 57,
   "metadata": {},
   "outputs": [],
   "source": [
    "newCustomerID = '900825451'"
   ]
  },
  {
   "cell_type": "code",
   "execution_count": 58,
   "metadata": {},
   "outputs": [
    {
     "name": "stdout",
     "output_type": "stream",
     "text": [
      "API status: 404\n",
      "JSON Response:\n",
      "{\n",
      "    \"errors\": [\n",
      "        {\n",
      "            \"errorCode\": 301,\n",
      "            \"errorReason\": \"INVALID_CLIENT_ID\"\n",
      "        }\n",
      "    ]\n",
      "}\n"
     ]
    }
   ],
   "source": [
    "HEADERS = {'Accept': 'application/vnd.mambu.v2+json'}\n",
    "PARAMS = {}\n",
    "r = DELETE(\"{{env3}}/clients/\" + newCustomerID, headers=HEADERS, params=PARAMS)\n",
    "PRINT(r)"
   ]
  },
  {
   "cell_type": "code",
   "execution_count": null,
   "metadata": {},
   "outputs": [],
   "source": []
  }
 ],
 "metadata": {
  "kernelspec": {
   "display_name": "Python 3",
   "language": "python",
   "name": "python3"
  },
  "language_info": {
   "codemirror_mode": {
    "name": "ipython",
    "version": 3
   },
   "file_extension": ".py",
   "mimetype": "text/x-python",
   "name": "python",
   "nbconvert_exporter": "python",
   "pygments_lexer": "ipython3",
   "version": "3.7.1"
  }
 },
 "nbformat": 4,
 "nbformat_minor": 2
}
