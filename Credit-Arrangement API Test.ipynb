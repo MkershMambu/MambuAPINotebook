{
 "cells": [
  {
   "cell_type": "markdown",
   "metadata": {},
   "source": [
    "## Credit-Arrangement API Test\n",
    "https://support.mambu.com/docs/lines-of-credit-api\n"
   ]
  },
  {
   "cell_type": "code",
   "execution_count": null,
   "metadata": {},
   "outputs": [],
   "source": [
    "%run API.py\n",
    "%run ENV.py\n",
    "from IPython.core.display import HTML\n",
    "setENV(ENV)"
   ]
  },
  {
   "cell_type": "code",
   "execution_count": null,
   "metadata": {},
   "outputs": [],
   "source": [
    "%%writefile JSONBODY\n",
    "{\n",
    "\"lineOfCredit\":{\n",
    "        \"clientKey\": \"8a8187b573b2da480173b2dc87ac000e\",\n",
    "        \"startDate\": \"2016-06-01T00:00:00+0000\",\n",
    "        \"expireDate\": \"2030-06-30T00:00:00+0000\",\n",
    "        \"amount\": \"10000\",\n",
    "        \"notes\": \"MK Test CA\"\n",
    "        }\n",
    "}"
   ]
  },
  {
   "cell_type": "code",
   "execution_count": null,
   "metadata": {},
   "outputs": [],
   "source": [
    "HEADERS = {'Content-Type': 'application/json'}\n",
    "PARAMS = {}\n",
    "r = POST('{{env1}}/linesofcredit', headers=HEADERS, params=PARAMS, body=\"JSONBODY\")\n",
    "PRINT(r)"
   ]
  },
  {
   "cell_type": "markdown",
   "metadata": {},
   "source": [
    "## Closing a CA\n",
    "Trying to find a way to delete/close a CA:\n",
    "* Changing state from APPROVED to CLOSED using a PATCH is allowed but doesn't work"
   ]
  },
  {
   "cell_type": "code",
   "execution_count": null,
   "metadata": {},
   "outputs": [],
   "source": [
    "%%writefile JSONBODY\n",
    "{\n",
    "\"lineOfCredit\":{\n",
    "        \"clientKey\": \"8a8187b573b2da480173b2dc87ac000e\",\n",
    "        \"startDate\": \"2016-06-01T00:00:00+0000\",\n",
    "        \"expireDate\": \"2030-06-30T00:00:00+0000\",\n",
    "        \"amount\": \"10000\",\n",
    "        \"notes\": \"MK Test CA1111\",\n",
    "        \"state\": \"APPROVED\"\n",
    "        }\n",
    "}"
   ]
  },
  {
   "cell_type": "markdown",
   "metadata": {},
   "source": [
    "You can patch a subset of attributes i.e. You do not have to pass complete object"
   ]
  },
  {
   "cell_type": "code",
   "execution_count": null,
   "metadata": {},
   "outputs": [],
   "source": [
    "%%writefile JSONBODY\n",
    "{\n",
    "\"lineOfCredit\":{\n",
    "        \n",
    "        \"notes\": \"MK Test CA1111222\"\n",
    "        \n",
    "        }\n",
    "}"
   ]
  },
  {
   "cell_type": "code",
   "execution_count": null,
   "metadata": {},
   "outputs": [],
   "source": [
    "%%writefile JSONBODY\n",
    "{\n",
    "\"lineOfCredit\":{\n",
    "        \n",
    "        \"expireDate\": \"2019-06-30T00:00:00+0000\"\n",
    "        }\n",
    "}"
   ]
  },
  {
   "cell_type": "code",
   "execution_count": null,
   "metadata": {},
   "outputs": [],
   "source": [
    "HEADERS = {'Content-Type': 'application/json'}\n",
    "PARAMS = {}\n",
    "r = PATCH('{{env1}}/linesofcredit/XWC325', headers=HEADERS, params=PARAMS, body=\"JSONBODY\")\n",
    "PRINT(r)"
   ]
  },
  {
   "cell_type": "markdown",
   "metadata": {},
   "source": [
    "## Get credit-Arrangement details"
   ]
  },
  {
   "cell_type": "code",
   "execution_count": null,
   "metadata": {},
   "outputs": [],
   "source": [
    "HEADERS = {}\n",
    "PARAMS = {'fullDetails': \"true\"} \n",
    "r = GET('{{env1}}/linesofcredit/XWC325', headers=HEADERS, params=PARAMS)\n",
    "PRINT(r)\n"
   ]
  },
  {
   "cell_type": "markdown",
   "metadata": {},
   "source": [
    "## Create a Loan account and Link to a Credit-Arrangement\n",
    "\n",
    "Try Two ways of linking to to CA, either:\n",
    "1. As part of account creation - This method doesn't work\n",
    "1. After account creation"
   ]
  },
  {
   "cell_type": "code",
   "execution_count": null,
   "metadata": {},
   "outputs": [],
   "source": [
    "%%writefile JSONBODY\n",
    "{\n",
    "  \"loanAccount\":{\n",
    "     \"accountHolderKey\": \"8a8187b573b2da480173b2dc87ac000e\",\n",
    "     \"productTypeKey\": \"8a8187b573b2da480173b2f7743d0106\",\n",
    "     \"accountHolderType\":\"CLIENT\",\n",
    "     \"loanAmount\":\"55000\",\n",
    "     \"repaymentInstallments\": 12,\n",
    "     \"interestRate\": 3.0,\n",
    "    \"arrearsTolerancePeriod\": 0,\n",
    "    \"creditArrangementKey\": \"8a81864173b24c620173b2e0f2ce0127\",\n",
    "      \"dummyattr\": \"12324\"\n",
    "   }\n",
    "}\n"
   ]
  },
  {
   "cell_type": "markdown",
   "metadata": {},
   "source": [
    "Without the credit arrangement"
   ]
  },
  {
   "cell_type": "code",
   "execution_count": 65,
   "metadata": {},
   "outputs": [
    {
     "name": "stdout",
     "output_type": "stream",
     "text": [
      "Overwriting JSONBODY\n"
     ]
    }
   ],
   "source": [
    "%%writefile JSONBODY\n",
    "{\n",
    "  \"loanAccount\":{\n",
    "     \"accountHolderKey\": \"8a8187b573b2da480173b2dc87ac000e\",\n",
    "     \"productTypeKey\": \"8a8187b573b2da480173b2f7743d0106\",\n",
    "     \"accountHolderType\":\"CLIENT\",\n",
    "     \"loanAmount\":\"55000\",\n",
    "     \"repaymentInstallments\": 12,\n",
    "     \"interestRate\": 3.0,\n",
    "    \"arrearsTolerancePeriod\": 0,\n",
    "      \"dummyattr\": \"12324\"\n",
    "   }\n",
    "}"
   ]
  },
  {
   "cell_type": "code",
   "execution_count": 66,
   "metadata": {},
   "outputs": [
    {
     "name": "stdout",
     "output_type": "stream",
     "text": [
      "API status: 201\n",
      "JSON Response:\n",
      "{\n",
      "    \"loanAccount\": {\n",
      "        \"accountArrearsSettings\": {\n",
      "            \"dateCalculationMethod\": \"DATE_ACCOUNT_FIRST_WENT_TO_ARREARS\",\n",
      "            \"encodedKey\": \"8a81868f73b2e5260173b31fa83003be\",\n",
      "            \"nonWorkingDaysMethod\": \"EXCLUDED\",\n",
      "            \"toleranceCalculationMethod\": \"ARREARS_TOLERANCE_PERIOD\",\n",
      "            \"tolerancePeriod\": 0\n",
      "        },\n",
      "        \"accountHolderKey\": \"8a8187b573b2da480173b2dc87ac000e\",\n",
      "        \"accountHolderType\": \"CLIENT\",\n",
      "        \"accountState\": \"PENDING_APPROVAL\",\n",
      "        \"accrueInterestAfterMaturity\": false,\n",
      "        \"accrueLateInterest\": true,\n",
      "        \"accruedInterest\": \"0\",\n",
      "        \"accruedPenalty\": \"0\",\n",
      "        \"allowOffset\": false,\n",
      "        \"applyInterestOnPrepaymentMethod\": \"AUTOMATIC\",\n",
      "        \"arrearsTolerancePeriod\": 0,\n",
      "        \"assignedBranchKey\": \"8a8187b573b2da480173b2dc87ac000b\",\n",
      "        \"creationDate\": \"2020-08-03T07:01:03+0000\",\n",
      "        \"disbursementDetails\": {\n",
      "            \"encodedKey\": \"8a81868f73b2e5260173b31fa83003bc\",\n",
      "            \"fees\": [],\n",
      "            \"transactionDetails\": {\n",
      "                \"encodedKey\": \"8a81868f73b2e5260173b31fa83003bd\",\n",
      "                \"internalTransfer\": false,\n",
      "                \"transactionChannel\": {\n",
      "                    \"activated\": true,\n",
      "                    \"creationDate\": \"2018-12-05T15:25:49+0000\",\n",
      "                    \"encodedKey\": \"8a818e74677a2e9201677ec2b4c336a6\",\n",
      "                    \"id\": \"cash\",\n",
      "                    \"index\": 0,\n",
      "                    \"name\": \"Cash\",\n",
      "                    \"savingsConstraints\": {\n",
      "                        \"encodedKey\": \"8a818e74677a2e9201677ec2b4c336a8\",\n",
      "                        \"filterConstraints\": []\n",
      "                    },\n",
      "                    \"savingsConstraintsUsage\": \"UNCONSTRAINED_USAGE\",\n",
      "                    \"usageRights\": {\n",
      "                        \"encodedKey\": \"8a818e74677a2e9201677ec2b4c336a7\",\n",
      "                        \"isAccessibleByAllUsers\": true,\n",
      "                        \"roles\": []\n",
      "                    }\n",
      "                },\n",
      "                \"transactionChannelKey\": \"8a818e74677a2e9201677ec2b4c336a6\"\n",
      "            }\n",
      "        },\n",
      "        \"encodedKey\": \"8a81868f73b2e5260173b31fa83003bb\",\n",
      "        \"feesBalance\": \"0\",\n",
      "        \"feesDue\": \"0\",\n",
      "        \"feesPaid\": \"0\",\n",
      "        \"funds\": [],\n",
      "        \"futurePaymentsAcceptance\": \"NO_FUTURE_PAYMENTS\",\n",
      "        \"gracePeriod\": 0,\n",
      "        \"gracePeriodType\": \"NONE\",\n",
      "        \"guarantees\": [],\n",
      "        \"hasCustomSchedule\": false,\n",
      "        \"holdBalance\": \"0\",\n",
      "        \"id\": \"LBZO838\",\n",
      "        \"interestApplicationMethod\": \"ON_REPAYMENT\",\n",
      "        \"interestBalance\": \"0\",\n",
      "        \"interestBalanceCalculationMethod\": \"PRINCIPAL_ONLY\",\n",
      "        \"interestCalculationMethod\": \"DECLINING_BALANCE_DISCOUNTED\",\n",
      "        \"interestChargeFrequency\": \"ANNUALIZED\",\n",
      "        \"interestDue\": \"0\",\n",
      "        \"interestFromArrearsAccrued\": \"0\",\n",
      "        \"interestFromArrearsBalance\": \"0\",\n",
      "        \"interestFromArrearsDue\": \"0\",\n",
      "        \"interestFromArrearsPaid\": \"0\",\n",
      "        \"interestPaid\": \"0\",\n",
      "        \"interestRate\": \"3\",\n",
      "        \"interestRateSource\": \"FIXED_INTEREST_RATE\",\n",
      "        \"interestRoundingVersion\": \"VERSION_3\",\n",
      "        \"interestType\": \"SIMPLE_INTEREST\",\n",
      "        \"lastModifiedDate\": \"2020-08-03T07:01:03+0000\",\n",
      "        \"latePaymentsRecalculationMethod\": \"INCREASE_OVERDUE_INSTALLMENTS\",\n",
      "        \"loanAmount\": \"55000\",\n",
      "        \"loanName\": \"CATestLoanType\",\n",
      "        \"loanPenaltyCalculationMethod\": \"NONE\",\n",
      "        \"paymentMethod\": \"HORIZONTAL\",\n",
      "        \"paymentPlan\": [],\n",
      "        \"penaltyBalance\": \"0\",\n",
      "        \"penaltyDue\": \"0\",\n",
      "        \"penaltyPaid\": \"0\",\n",
      "        \"periodicPayment\": \"0\",\n",
      "        \"prepaymentAcceptance\": \"ACCEPT_PREPAYMENTS\",\n",
      "        \"prepaymentRecalculationMethod\": \"NO_RECALCULATION\",\n",
      "        \"principalBalance\": \"0\",\n",
      "        \"principalDue\": \"0\",\n",
      "        \"principalPaid\": \"0\",\n",
      "        \"principalPaidInstallmentStatus\": \"PARTIALLY_PAID\",\n",
      "        \"principalRepaymentInterval\": 1,\n",
      "        \"productTypeKey\": \"8a8187b573b2da480173b2f7743d0106\",\n",
      "        \"redrawBalance\": \"0\",\n",
      "        \"repaymentInstallments\": 12,\n",
      "        \"repaymentPeriodCount\": 1,\n",
      "        \"repaymentPeriodUnit\": \"MONTHS\",\n",
      "        \"repaymentScheduleMethod\": \"DYNAMIC\",\n",
      "        \"scheduleDueDatesMethod\": \"INTERVAL\",\n",
      "        \"tranches\": []\n",
      "    }\n",
      "}\n"
     ]
    }
   ],
   "source": [
    "HEADERS = {'Content-Type': 'application/json'}\n",
    "PARAMS = {}\n",
    "r = POST('{{env1}}/loans', headers=HEADERS, params=PARAMS, body=\"JSONBODY\")\n",
    "PRINT(r)"
   ]
  },
  {
   "cell_type": "markdown",
   "metadata": {},
   "source": [
    "## GET Account details"
   ]
  },
  {
   "cell_type": "code",
   "execution_count": null,
   "metadata": {},
   "outputs": [],
   "source": [
    "HEADERS = {'Accept': 'application/vnd.mambu.v2+json'}\n",
    "PARAMS = {'detailsLevel': 'FULL'}\n",
    "r = GET('{{env1}}/loans/EKHR667', headers=HEADERS, params=PARAMS)\n",
    "PRINT(r)"
   ]
  },
  {
   "cell_type": "markdown",
   "metadata": {},
   "source": [
    "## Attach Loan to a Credit-Arrangement"
   ]
  },
  {
   "cell_type": "code",
   "execution_count": 67,
   "metadata": {},
   "outputs": [
    {
     "name": "stdout",
     "output_type": "stream",
     "text": [
      "API status: 200\n",
      "JSON Response:\n",
      "{\n",
      "    \"accountArrearsSettings\": {\n",
      "        \"dateCalculationMethod\": \"DATE_ACCOUNT_FIRST_WENT_TO_ARREARS\",\n",
      "        \"encodedKey\": \"8a81868f73b2e5260173b31fa83003be\",\n",
      "        \"nonWorkingDaysMethod\": \"EXCLUDED\",\n",
      "        \"toleranceCalculationMethod\": \"ARREARS_TOLERANCE_PERIOD\",\n",
      "        \"tolerancePeriod\": 0\n",
      "    },\n",
      "    \"accountHolderKey\": \"8a8187b573b2da480173b2dc87ac000e\",\n",
      "    \"accountHolderType\": \"CLIENT\",\n",
      "    \"accountState\": \"PENDING_APPROVAL\",\n",
      "    \"accrueInterestAfterMaturity\": false,\n",
      "    \"accrueLateInterest\": true,\n",
      "    \"accruedInterest\": \"0\",\n",
      "    \"accruedPenalty\": \"0\",\n",
      "    \"allowOffset\": false,\n",
      "    \"applyInterestOnPrepaymentMethod\": \"AUTOMATIC\",\n",
      "    \"arrearsTolerancePeriod\": 0,\n",
      "    \"assignedBranchKey\": \"8a8187b573b2da480173b2dc87ac000b\",\n",
      "    \"creationDate\": \"2020-08-03T07:01:03+0000\",\n",
      "    \"disbursementDetails\": {\n",
      "        \"encodedKey\": \"8a81868f73b2e5260173b31fa83003bc\",\n",
      "        \"fees\": [],\n",
      "        \"transactionDetails\": {\n",
      "            \"encodedKey\": \"8a81868f73b2e5260173b31fa83003bd\",\n",
      "            \"internalTransfer\": false,\n",
      "            \"transactionChannel\": {\n",
      "                \"activated\": true,\n",
      "                \"creationDate\": \"2018-12-05T15:25:49+0000\",\n",
      "                \"encodedKey\": \"8a818e74677a2e9201677ec2b4c336a6\",\n",
      "                \"id\": \"cash\",\n",
      "                \"index\": 0,\n",
      "                \"name\": \"Cash\",\n",
      "                \"savingsConstraints\": {\n",
      "                    \"encodedKey\": \"8a818e74677a2e9201677ec2b4c336a8\",\n",
      "                    \"filterConstraints\": []\n",
      "                },\n",
      "                \"savingsConstraintsUsage\": \"UNCONSTRAINED_USAGE\",\n",
      "                \"usageRights\": {\n",
      "                    \"encodedKey\": \"8a818e74677a2e9201677ec2b4c336a7\",\n",
      "                    \"isAccessibleByAllUsers\": true,\n",
      "                    \"roles\": []\n",
      "                }\n",
      "            },\n",
      "            \"transactionChannelKey\": \"8a818e74677a2e9201677ec2b4c336a6\"\n",
      "        }\n",
      "    },\n",
      "    \"encodedKey\": \"8a81868f73b2e5260173b31fa83003bb\",\n",
      "    \"feesBalance\": \"0\",\n",
      "    \"feesDue\": \"0\",\n",
      "    \"feesPaid\": \"0\",\n",
      "    \"funds\": [],\n",
      "    \"futurePaymentsAcceptance\": \"NO_FUTURE_PAYMENTS\",\n",
      "    \"gracePeriod\": 0,\n",
      "    \"gracePeriodType\": \"NONE\",\n",
      "    \"guarantees\": [],\n",
      "    \"hasCustomSchedule\": false,\n",
      "    \"holdBalance\": \"0\",\n",
      "    \"id\": \"LBZO838\",\n",
      "    \"interestApplicationMethod\": \"ON_REPAYMENT\",\n",
      "    \"interestBalance\": \"0\",\n",
      "    \"interestBalanceCalculationMethod\": \"PRINCIPAL_ONLY\",\n",
      "    \"interestCalculationMethod\": \"DECLINING_BALANCE_DISCOUNTED\",\n",
      "    \"interestChargeFrequency\": \"ANNUALIZED\",\n",
      "    \"interestDue\": \"0\",\n",
      "    \"interestFromArrearsAccrued\": \"0\",\n",
      "    \"interestFromArrearsBalance\": \"0\",\n",
      "    \"interestFromArrearsDue\": \"0\",\n",
      "    \"interestFromArrearsPaid\": \"0\",\n",
      "    \"interestPaid\": \"0\",\n",
      "    \"interestRate\": \"3\",\n",
      "    \"interestRateSource\": \"FIXED_INTEREST_RATE\",\n",
      "    \"interestRoundingVersion\": \"VERSION_3\",\n",
      "    \"interestType\": \"SIMPLE_INTEREST\",\n",
      "    \"lastModifiedDate\": \"2020-08-03T07:01:03+0000\",\n",
      "    \"latePaymentsRecalculationMethod\": \"INCREASE_OVERDUE_INSTALLMENTS\",\n",
      "    \"lineOfCreditKey\": \"8a81864173b24c620173b2e0f2ce0127\",\n",
      "    \"loanAmount\": \"55000\",\n",
      "    \"loanName\": \"CATestLoanType\",\n",
      "    \"loanPenaltyCalculationMethod\": \"NONE\",\n",
      "    \"paymentMethod\": \"HORIZONTAL\",\n",
      "    \"paymentPlan\": [],\n",
      "    \"penaltyBalance\": \"0\",\n",
      "    \"penaltyDue\": \"0\",\n",
      "    \"penaltyPaid\": \"0\",\n",
      "    \"periodicPayment\": \"0\",\n",
      "    \"prepaymentAcceptance\": \"ACCEPT_PREPAYMENTS\",\n",
      "    \"prepaymentRecalculationMethod\": \"NO_RECALCULATION\",\n",
      "    \"principalBalance\": \"0\",\n",
      "    \"principalDue\": \"0\",\n",
      "    \"principalPaid\": \"0\",\n",
      "    \"principalPaidInstallmentStatus\": \"PARTIALLY_PAID\",\n",
      "    \"principalRepaymentInterval\": 1,\n",
      "    \"productTypeKey\": \"8a8187b573b2da480173b2f7743d0106\",\n",
      "    \"redrawBalance\": \"0\",\n",
      "    \"repaymentInstallments\": 12,\n",
      "    \"repaymentPeriodCount\": 1,\n",
      "    \"repaymentPeriodUnit\": \"MONTHS\",\n",
      "    \"repaymentScheduleMethod\": \"DYNAMIC\",\n",
      "    \"scheduleDueDatesMethod\": \"INTERVAL\",\n",
      "    \"tranches\": []\n",
      "}\n"
     ]
    }
   ],
   "source": [
    "HEADERS = {'Content-Type': 'application/json'}\n",
    "PARAMS = {}\n",
    "r = POST('{{env1}}/linesofcredit/XWC325/loans/LBZO838', headers=HEADERS, params=PARAMS)\n",
    "PRINT(r)"
   ]
  },
  {
   "cell_type": "markdown",
   "metadata": {},
   "source": [
    "## Remove a loan from a CA"
   ]
  },
  {
   "cell_type": "code",
   "execution_count": 62,
   "metadata": {},
   "outputs": [
    {
     "name": "stdout",
     "output_type": "stream",
     "text": [
      "API status: 200\n",
      "JSON Response:\n",
      "{\n",
      "    \"returnCode\": 0,\n",
      "    \"returnStatus\": \"SUCCESS\"\n",
      "}\n"
     ]
    }
   ],
   "source": [
    "HEADERS = {'Content-Type': 'application/json'}\n",
    "PARAMS = {}\n",
    "r = DELETE('{{env1}}/linesofcredit/XWC325/loans/EKHR667', headers=HEADERS, params=PARAMS)\n",
    "PRINT(r)"
   ]
  },
  {
   "cell_type": "markdown",
   "metadata": {},
   "source": [
    "## Getting List of Accounts linked to a CA"
   ]
  },
  {
   "cell_type": "code",
   "execution_count": 70,
   "metadata": {},
   "outputs": [
    {
     "name": "stdout",
     "output_type": "stream",
     "text": [
      "Number of accounts attached:\n"
     ]
    },
    {
     "data": {
      "text/plain": [
       "2"
      ]
     },
     "execution_count": 70,
     "metadata": {},
     "output_type": "execute_result"
    }
   ],
   "source": [
    "HEADERS = {}\n",
    "PARAMS = {'fullDetails': \"true\"} \n",
    "r = GET('{{env1}}/linesofcredit/XWC325/accounts', headers=HEADERS, params=PARAMS)\n",
    "# PRINT(r)\n",
    "print(\"Number of accounts attached:\")\n",
    "len(r.json()['loanAccounts'])"
   ]
  },
  {
   "cell_type": "code",
   "execution_count": null,
   "metadata": {},
   "outputs": [],
   "source": []
  }
 ],
 "metadata": {
  "kernelspec": {
   "display_name": "Python 3",
   "language": "python",
   "name": "python3"
  },
  "language_info": {
   "codemirror_mode": {
    "name": "ipython",
    "version": 3
   },
   "file_extension": ".py",
   "mimetype": "text/x-python",
   "name": "python",
   "nbconvert_exporter": "python",
   "pygments_lexer": "ipython3",
   "version": "3.7.8"
  }
 },
 "nbformat": 4,
 "nbformat_minor": 2
}
