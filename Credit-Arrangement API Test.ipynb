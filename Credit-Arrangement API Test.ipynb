{
 "cells": [
  {
   "cell_type": "markdown",
   "metadata": {},
   "source": [
    "<a id=\"section0\"></a>\n",
    "## Credit-Arrangement API Test\n",
    "* API docs: https://support.mambu.com/docs/lines-of-credit-api\n",
    "* GitHub: https://github.com/MkershMambu/MambuAPINotebook/blob/master/Credit-Arrangement%20API%20Test.ipynb\n",
    "\n",
    "Examples:\n",
    "* [Create a create-arrangement](#section1)\n",
    "* [Closing a CA](#section2)\n",
    "* [Get credit-Arrangement details](#section3)\n",
    "* [Create a Loan account and Link to a Credit-Arrangement](#section4)\n",
    "* [GET Account details](#section5)\n",
    "* [Attach Loan to a Credit-Arrangement](#section6)\n",
    "* [Remove a loan from a CA](#section7)\n",
    "* [Getting List of Accounts linked to a CA](#section8)\n"
   ]
  },
  {
   "cell_type": "code",
   "execution_count": 3,
   "metadata": {},
   "outputs": [],
   "source": [
    "%run API.py\n",
    "%run ENV.py\n",
    "from IPython.core.display import HTML\n",
    "setENV(ENV)"
   ]
  },
  {
   "cell_type": "markdown",
   "metadata": {},
   "source": [
    "<a id=\"section1\"></a>\n",
    "[back](#section0)\n",
    "## Create a create-arrangement\n",
    "NOTE: I'm using API1.0 but there are API2.0 endpoints for this now as well\n",
    "The only issue is that API 2.0 does not have a complete set of endpoints atm (03 Aug 2020)"
   ]
  },
  {
   "cell_type": "code",
   "execution_count": 4,
   "metadata": {},
   "outputs": [
    {
     "name": "stdout",
     "output_type": "stream",
     "text": [
      "Overwriting JSONBODY\n"
     ]
    }
   ],
   "source": [
    "%%writefile JSONBODY\n",
    "{\n",
    "\"lineOfCredit\":{\n",
    "        \"clientKey\": \"8a8187b573b2da480173b2dc87ac000e\",\n",
    "        \"startDate\": \"2016-06-01T00:00:00+0000\",\n",
    "        \"expireDate\": \"2030-06-30T00:00:00+0000\",\n",
    "        \"amount\": \"10000\",\n",
    "        \"notes\": \"MK Test CA\"\n",
    "        }\n",
    "}"
   ]
  },
  {
   "cell_type": "code",
   "execution_count": 5,
   "metadata": {},
   "outputs": [
    {
     "name": "stdout",
     "output_type": "stream",
     "text": [
      "API status: 200\n",
      "JSON Response:\n",
      "{\n",
      "    \"amount\": \"10000\",\n",
      "    \"approvedDate\": \"2020-08-03T11:02:54+0000\",\n",
      "    \"clientKey\": \"8a8187b573b2da480173b2dc87ac000e\",\n",
      "    \"creationDate\": \"2020-08-03T09:02:54+0000\",\n",
      "    \"customInformation\": [],\n",
      "    \"encodedKey\": \"8a81877a73b353330173b38e8b4800b2\",\n",
      "    \"expireDate\": \"2030-06-30T00:00:00+0000\",\n",
      "    \"exposureLimitType\": \"APPROVED_AMOUNT\",\n",
      "    \"id\": \"XZN680\",\n",
      "    \"lastModifiedDate\": \"2020-08-03T09:02:54+0000\",\n",
      "    \"notes\": \"MK Test CA\",\n",
      "    \"startDate\": \"2016-06-01T00:00:00+0000\",\n",
      "    \"state\": \"APPROVED\"\n",
      "}\n"
     ]
    }
   ],
   "source": [
    "HEADERS = {'Content-Type': 'application/json'}\n",
    "PARAMS = {}\n",
    "r = POST('{{env1}}/linesofcredit', headers=HEADERS, params=PARAMS, body=\"JSONBODY\")\n",
    "PRINT(r)"
   ]
  },
  {
   "cell_type": "markdown",
   "metadata": {},
   "source": [
    "<a id=\"section2\"></a>\n",
    "[back](#section0)\n",
    "## Closing a CA\n",
    "Trying to find a way to delete/close a CA:\n",
    "* Changing state from APPROVED to CLOSED using a PATCH is allowed but doesn't work"
   ]
  },
  {
   "cell_type": "code",
   "execution_count": 8,
   "metadata": {},
   "outputs": [
    {
     "name": "stdout",
     "output_type": "stream",
     "text": [
      "Overwriting JSONBODY\n"
     ]
    }
   ],
   "source": [
    "%%writefile JSONBODY\n",
    "{\n",
    "  \"action\": \"CLOSE\",\n",
    "  \"notes\": \"Change status to close\"\n",
    "}"
   ]
  },
  {
   "cell_type": "markdown",
   "metadata": {},
   "source": [
    "You can patch a subset of attributes i.e. You do not have to pass complete object"
   ]
  },
  {
   "cell_type": "code",
   "execution_count": 9,
   "metadata": {},
   "outputs": [
    {
     "name": "stdout",
     "output_type": "stream",
     "text": [
      "API status: 200\n",
      "JSON Response:\n",
      "{\n",
      "    \"amount\": 10000.0,\n",
      "    \"approvedDate\": \"2020-08-03T11:02:54+02:00\",\n",
      "    \"closedDate\": \"2020-08-03T11:04:20+02:00\",\n",
      "    \"creationDate\": \"2020-08-03T11:02:54+02:00\",\n",
      "    \"encodedKey\": \"8a81877a73b353330173b38e8b4800b2\",\n",
      "    \"expireDate\": \"2030-06-30T00:00:00+02:00\",\n",
      "    \"exposureLimitType\": \"APPROVED_AMOUNT\",\n",
      "    \"holderKey\": \"8a8187b573b2da480173b2dc87ac000e\",\n",
      "    \"holderType\": \"CLIENT\",\n",
      "    \"id\": \"XZN680\",\n",
      "    \"lastModifiedDate\": \"2020-08-03T11:04:20+02:00\",\n",
      "    \"startDate\": \"2016-06-01T00:00:00+02:00\",\n",
      "    \"state\": \"CLOSED\"\n",
      "}\n"
     ]
    }
   ],
   "source": [
    "HEADERS = {'Accept': 'application/vnd.mambu.v2+json','Content-Type': 'application/json'}\n",
    "PARAMS = {}\n",
    "r = POST('{{env1}}/creditarrangements/XZN680:changeState', headers=HEADERS, params=PARAMS, body=\"JSONBODY\")\n",
    "PRINT(r)"
   ]
  },
  {
   "cell_type": "markdown",
   "metadata": {},
   "source": [
    "<a id=\"section3\"></a>\n",
    "[back](#section0)\n",
    "## Get credit-Arrangement details"
   ]
  },
  {
   "cell_type": "code",
   "execution_count": null,
   "metadata": {},
   "outputs": [],
   "source": [
    "HEADERS = {}\n",
    "PARAMS = {'fullDetails': \"true\"} \n",
    "r = GET('{{env1}}/linesofcredit/XWC325', headers=HEADERS, params=PARAMS)\n",
    "PRINT(r)\n"
   ]
  },
  {
   "cell_type": "markdown",
   "metadata": {},
   "source": [
    "<a id=\"section4\"></a>\n",
    "[back](#section0)\n",
    "## Create a Loan account and Link to a Credit-Arrangement\n",
    "\n",
    "Try Two ways of linking to to CA, either:\n",
    "1. As part of account creation - This method doesn't work\n",
    "1. After account creation"
   ]
  },
  {
   "cell_type": "code",
   "execution_count": null,
   "metadata": {},
   "outputs": [],
   "source": [
    "%%writefile JSONBODY\n",
    "{\n",
    "  \"loanAccount\":{\n",
    "     \"accountHolderKey\": \"8a8187b573b2da480173b2dc87ac000e\",\n",
    "     \"productTypeKey\": \"8a8187b573b2da480173b2f7743d0106\",\n",
    "     \"accountHolderType\":\"CLIENT\",\n",
    "     \"loanAmount\":\"55000\",\n",
    "     \"repaymentInstallments\": 12,\n",
    "     \"interestRate\": 3.0,\n",
    "    \"arrearsTolerancePeriod\": 0,\n",
    "    \"creditArrangementKey\": \"8a81864173b24c620173b2e0f2ce0127\",\n",
    "      \"dummyattr\": \"12324\"\n",
    "   }\n",
    "}\n"
   ]
  },
  {
   "cell_type": "markdown",
   "metadata": {},
   "source": [
    "Without the credit arrangement"
   ]
  },
  {
   "cell_type": "code",
   "execution_count": null,
   "metadata": {},
   "outputs": [],
   "source": [
    "%%writefile JSONBODY\n",
    "{\n",
    "  \"loanAccount\":{\n",
    "     \"accountHolderKey\": \"8a8187b573b2da480173b2dc87ac000e\",\n",
    "     \"productTypeKey\": \"8a8187b573b2da480173b2f7743d0106\",\n",
    "     \"accountHolderType\":\"CLIENT\",\n",
    "     \"loanAmount\":\"55000\",\n",
    "     \"repaymentInstallments\": 12,\n",
    "     \"interestRate\": 3.0,\n",
    "    \"arrearsTolerancePeriod\": 0,\n",
    "      \"dummyattr\": \"12324\"\n",
    "   }\n",
    "}"
   ]
  },
  {
   "cell_type": "code",
   "execution_count": null,
   "metadata": {},
   "outputs": [],
   "source": [
    "HEADERS = {'Content-Type': 'application/json'}\n",
    "PARAMS = {}\n",
    "r = POST('{{env1}}/loans', headers=HEADERS, params=PARAMS, body=\"JSONBODY\")\n",
    "PRINT(r)"
   ]
  },
  {
   "cell_type": "markdown",
   "metadata": {},
   "source": [
    "<a id=\"section5\"></a>\n",
    "[back](#section0)\n",
    "## GET Account details"
   ]
  },
  {
   "cell_type": "code",
   "execution_count": null,
   "metadata": {},
   "outputs": [],
   "source": [
    "HEADERS = {'Accept': 'application/vnd.mambu.v2+json'}\n",
    "PARAMS = {'detailsLevel': 'FULL'}\n",
    "r = GET('{{env1}}/loans/EKHR667', headers=HEADERS, params=PARAMS)\n",
    "PRINT(r)"
   ]
  },
  {
   "cell_type": "markdown",
   "metadata": {},
   "source": [
    "<a id=\"section6\"></a>\n",
    "[back](#section0)\n",
    "## Attach Loan to a Credit-Arrangement"
   ]
  },
  {
   "cell_type": "code",
   "execution_count": null,
   "metadata": {},
   "outputs": [],
   "source": [
    "HEADERS = {'Content-Type': 'application/json'}\n",
    "PARAMS = {}\n",
    "r = POST('{{env1}}/linesofcredit/XWC325/loans/LBZO838', headers=HEADERS, params=PARAMS)\n",
    "PRINT(r)"
   ]
  },
  {
   "cell_type": "markdown",
   "metadata": {},
   "source": [
    "<a id=\"section7\"></a>\n",
    "[back](#section0)\n",
    "## Remove a loan from a CA"
   ]
  },
  {
   "cell_type": "code",
   "execution_count": null,
   "metadata": {},
   "outputs": [],
   "source": [
    "HEADERS = {'Content-Type': 'application/json'}\n",
    "PARAMS = {}\n",
    "r = DELETE('{{env1}}/linesofcredit/XWC325/loans/EKHR667', headers=HEADERS, params=PARAMS)\n",
    "PRINT(r)"
   ]
  },
  {
   "cell_type": "markdown",
   "metadata": {},
   "source": [
    "<a id=\"section8\"></a>\n",
    "[back](#section0)\n",
    "## Getting List of Accounts linked to a CA"
   ]
  },
  {
   "cell_type": "code",
   "execution_count": null,
   "metadata": {},
   "outputs": [],
   "source": [
    "HEADERS = {}\n",
    "PARAMS = {'fullDetails': \"true\"} \n",
    "r = GET('{{env1}}/linesofcredit/XWC325/accounts', headers=HEADERS, params=PARAMS)\n",
    "# PRINT(r)\n",
    "print(\"Number of accounts attached:\")\n",
    "len(r.json()['loanAccounts'])"
   ]
  },
  {
   "cell_type": "code",
   "execution_count": null,
   "metadata": {},
   "outputs": [],
   "source": []
  }
 ],
 "metadata": {
  "kernelspec": {
   "display_name": "Python 3",
   "language": "python",
   "name": "python3"
  },
  "language_info": {
   "codemirror_mode": {
    "name": "ipython",
    "version": 3
   },
   "file_extension": ".py",
   "mimetype": "text/x-python",
   "name": "python",
   "nbconvert_exporter": "python",
   "pygments_lexer": "ipython3",
   "version": "3.7.8"
  }
 },
 "nbformat": 4,
 "nbformat_minor": 2
}
