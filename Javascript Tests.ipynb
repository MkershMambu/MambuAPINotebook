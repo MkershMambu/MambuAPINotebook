{
 "cells": [
  {
   "cell_type": "code",
   "execution_count": 13,
   "metadata": {},
   "outputs": [
    {
     "data": {
      "application/javascript": [
       "\n",
       "var LookUpList = {\n",
       "  \"key1\": \"Chris\",\n",
       "  \"key2\": \"John\",\n",
       "  \"key3\": [\n",
       "      1,2,3,4\n",
       "  ],\n",
       "  \"key4\": {\n",
       "      firstName: \"David\",\n",
       "      lastName: \"Smith\"\n",
       "  }\n",
       "};\n",
       "\n",
       "alert(LookUpList[\"key3\"][1]);\n"
      ],
      "text/plain": [
       "<IPython.core.display.Javascript object>"
      ]
     },
     "metadata": {},
     "output_type": "display_data"
    }
   ],
   "source": [
    "%%js\n",
    "\n",
    "var LookUpList = {\n",
    "  \"key1\": \"Chris\",\n",
    "  \"key2\": \"John\",\n",
    "  \"key3\": [\n",
    "      1,2,3,4\n",
    "  ],\n",
    "  \"key4\": {\n",
    "      firstName: \"David\",\n",
    "      lastName: \"Smith\"\n",
    "  }\n",
    "};\n",
    "\n",
    "alert(LookUpList[\"key3\"][1]);"
   ]
  },
  {
   "cell_type": "code",
   "execution_count": null,
   "metadata": {},
   "outputs": [],
   "source": []
  }
 ],
 "metadata": {
  "kernelspec": {
   "display_name": "Python 3",
   "language": "python",
   "name": "python3"
  },
  "language_info": {
   "codemirror_mode": {
    "name": "ipython",
    "version": 3
   },
   "file_extension": ".py",
   "mimetype": "text/x-python",
   "name": "python",
   "nbconvert_exporter": "python",
   "pygments_lexer": "ipython3",
   "version": "3.7.1"
  }
 },
 "nbformat": 4,
 "nbformat_minor": 2
}
