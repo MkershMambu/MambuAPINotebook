{
 "cells": [
  {
   "cell_type": "code",
   "execution_count": 2,
   "metadata": {},
   "outputs": [],
   "source": [
    "%run API.py\n",
    "%run ENV.py\n",
    "from IPython.core.display import HTML\n",
    "setENV(ENV)"
   ]
  },
  {
   "cell_type": "markdown",
   "metadata": {},
   "source": [
    "### Create new current Account - using API v2.0\n",
    "\n",
    "Failing??"
   ]
  },
  {
   "cell_type": "code",
   "execution_count": 30,
   "metadata": {},
   "outputs": [
    {
     "name": "stdout",
     "output_type": "stream",
     "text": [
      "Overwriting JSONBODY\n"
     ]
    }
   ],
   "source": [
    "%%writefile JSONBODY\n",
    "{\n",
    "  \n",
    "  \"accountType\": \"CURRENT_ACCOUNT\",\n",
    "  \"name\": \"MKCurTest2\",\n",
    "  \"accountHolderKey\": \"8a8587dd69fd75850169fd7b93872d00\",\n",
    "  \"productTypeKey\": \"8a8587c769fd6e0c0169fd8022cc74b0\",\n",
    "  \"currencyCode\": \"GBP\",\n",
    "  \"accountHolderType\": \"CLIENT\",\n",
    "  \"accountState\":\"PENDING_APPROVAL\"\n",
    "}\n"
   ]
  },
  {
   "cell_type": "code",
   "execution_count": 31,
   "metadata": {},
   "outputs": [
    {
     "name": "stdout",
     "output_type": "stream",
     "text": [
      "API status:\n",
      "500\n",
      "Now the JSON:\n",
      "{\"errors\":[{\"errorCode\":6,\"errorSource\":\"unknown\",\"errorReason\":\"INTERNAL_ERROR\"}]}\n"
     ]
    }
   ],
   "source": [
    "HEADERS = {'Accept': 'application/vnd.mambu.v2+json','Content-Type': 'application/json'}\n",
    "PARAMS = {}\n",
    "r = POST('{{env3}}/deposits', headers=HEADERS, params=PARAMS, body=\"JSONBODY\")\n",
    "print (\"API status:\")\n",
    "print(r.status_code)\n",
    "print(\"Now the JSON:\")\n",
    "print(r.text)"
   ]
  },
  {
   "cell_type": "markdown",
   "metadata": {},
   "source": [
    "### Create Current Account - API 1.0\n",
    "\n",
    "Works"
   ]
  },
  {
   "cell_type": "code",
   "execution_count": 20,
   "metadata": {},
   "outputs": [
    {
     "name": "stdout",
     "output_type": "stream",
     "text": [
      "Overwriting JSONBODY\n"
     ]
    }
   ],
   "source": [
    "%%writefile JSONBODY\n",
    "{\n",
    "\t\"savingsAccount\":{\n",
    "      \"name\": \"MKCurTest1\",\n",
    "      \"accountHolderKey\":\"8a8587dd69fd75850169fd7b93872d00\",\n",
    "      \"accountHolderType\":\"CLIENT\",\n",
    "      \"productTypeKey\":\"8a8587c769fd6e0c0169fd8022cc74b0\",\n",
    "      \"accountType\":\"CURRENT_ACCOUNT\",\n",
    "      \"accountState\":\"PENDING_APPROVAL\"\n",
    "\t\t \n",
    "   }\n",
    "}\n"
   ]
  },
  {
   "cell_type": "code",
   "execution_count": 21,
   "metadata": {},
   "outputs": [
    {
     "name": "stdout",
     "output_type": "stream",
     "text": [
      "API status:\n",
      "201\n",
      "Now the JSON:\n",
      "{\"savingsAccount\":{\"encodedKey\":\"8a85866f69fd804e0169fdb264d14e89\",\"id\":\"11\",\"accountHolderKey\":\"8a8587dd69fd75850169fd7b93872d00\",\"accountHolderType\":\"CLIENT\",\"name\":\"MKCurTest1\",\"creationDate\":\"2019-04-08T16:05:20+0000\",\"lastModifiedDate\":\"2019-04-08T16:05:20+0000\",\"productTypeKey\":\"8a8587c769fd6e0c0169fd8022cc74b0\",\"accountType\":\"CURRENT_ACCOUNT\",\"accountState\":\"PENDING_APPROVAL\",\"recommendedDepositAmount\":\"0\",\"maxWidthdrawlAmount\":\"2000\",\"balance\":\"0\",\"accruedInterest\":\"0\",\"overdraftInterestAccrued\":\"0\",\"technicalOverdraftInterestAccrued\":\"0\",\"overdraftAmount\":\"0\",\"technicalOverdraftAmount\":\"0\",\"interestSettings\":{\"interestRate\":\"1\",\"encodedKey\":\"8a85866f69fd804e0169fdb264d14e8a\",\"interestChargeFrequency\":\"ANNUALIZED\",\"interestChargeFrequencyCount\":1,\"interestRateSource\":\"FIXED_INTEREST_RATE\",\"interestRateTerms\":\"FIXED\",\"interestRateTiers\":[],\"accrueInterestAfterMaturity\":false},\"interestDue\":\"0\",\"technicalInterestDue\":\"0\",\"feesDue\":\"0\",\"overdraftLimit\":\"0\",\"allowOverdraft\":false,\"lockedBalance\":\"0\",\"holdBalance\":\"0\",\"interestPaymentPoint\":\"FIRST_DAY_OF_MONTH\",\"currencyCode\":\"GBP\",\"currency\":{\"code\":\"GBP\",\"name\":\"Pound sterling\",\"symbol\":\"£\",\"digitsAfterDecimal\":2,\"currencySymbolPosition\":\"BEFORE_NUMBER\",\"isBaseCurrency\":true,\"creationDate\":\"2019-03-27T11:19:12+0000\",\"lastModifiedDate\":\"2019-03-27T11:19:12+0000\"}}}\n"
     ]
    }
   ],
   "source": [
    "HEADERS = {'Content-Type': 'application/json'}\n",
    "# To call an API v1.0 API drop the header: 'Accept': 'application/vnd.mambu.v2+json'\n",
    "PARAMS = {}\n",
    "r = POST('{{env3}}/savings/', headers=HEADERS, params=PARAMS, body=\"JSONBODY\")\n",
    "print (\"API status:\")\n",
    "print(r.status_code)\n",
    "print(\"Now the JSON:\")\n",
    "print(r.text)"
   ]
  },
  {
   "cell_type": "markdown",
   "metadata": {},
   "source": [
    "### Get customer details"
   ]
  },
  {
   "cell_type": "code",
   "execution_count": 14,
   "metadata": {},
   "outputs": [
    {
     "name": "stdout",
     "output_type": "stream",
     "text": [
      "API status: 200\n",
      "JSON Response:\n",
      "{\n",
      "    \"addresses\": [],\n",
      "    \"approvedDate\": \"2019-04-08T16:05:28+01:00\",\n",
      "    \"birthDate\": \"1987-04-26\",\n",
      "    \"clientRoleKey\": \"8a858ee569a54f680169bee0659c7b00\",\n",
      "    \"creationDate\": \"2019-04-08T16:05:28+01:00\",\n",
      "    \"encodedKey\": \"8a8587dd69fd75850169fd7b93872d00\",\n",
      "    \"firstName\": \"Craig\",\n",
      "    \"gender\": \"MALE\",\n",
      "    \"groupLoanCycle\": 0,\n",
      "    \"id\": \"CRAIGPROHASKA\",\n",
      "    \"idDocuments\": [],\n",
      "    \"lastModifiedDate\": \"2019-04-08T16:05:28+01:00\",\n",
      "    \"lastName\": \"Prohaska\",\n",
      "    \"loanCycle\": 0,\n",
      "    \"middleName\": \"test\",\n",
      "    \"preferredLanguage\": \"ENGLISH\",\n",
      "    \"state\": \"INACTIVE\"\n",
      "}\n"
     ]
    }
   ],
   "source": [
    "HEADERS = {'Accept': 'application/vnd.mambu.v2+json'}\n",
    "PARAMS = {'detailsLevel': 'FULL'}\n",
    "r = GET('{{env3}}/clients/8a8587dd69fd75850169fd7b93872d00', headers=HEADERS, params=PARAMS)\n",
    "PRINT(r)"
   ]
  },
  {
   "cell_type": "markdown",
   "metadata": {},
   "source": [
    "### Get desposit product-type details"
   ]
  },
  {
   "cell_type": "code",
   "execution_count": 19,
   "metadata": {},
   "outputs": [
    {
     "name": "stdout",
     "output_type": "stream",
     "text": [
      "API status: 200\n",
      "JSON Response:\n",
      "{\n",
      "    \"accountingSettings\": {\n",
      "        \"accountingMethod\": \"NONE\",\n",
      "        \"accountingRules\": [],\n",
      "        \"interestAccruedAccountingMethod\": \"NONE\"\n",
      "    },\n",
      "    \"availabilitySettings\": {\n",
      "        \"availableFor\": [\n",
      "            \"INDIVIDUALS\"\n",
      "        ],\n",
      "        \"branchSettings\": {\n",
      "            \"availableProductBranches\": [],\n",
      "            \"forAllBranches\": true\n",
      "        }\n",
      "    },\n",
      "    \"creationDate\": \"2019-04-08T16:20:25+01:00\",\n",
      "    \"creditArrangementSettings\": {},\n",
      "    \"currencySettings\": {\n",
      "        \"currencies\": [\n",
      "            {\n",
      "                \"code\": \"GBP\"\n",
      "            }\n",
      "        ]\n",
      "    },\n",
      "    \"encodedKey\": \"8a8587c769fd6e0c0169fd8022cc74b0\",\n",
      "    \"feesSettings\": {\n",
      "        \"allowArbitraryFees\": true,\n",
      "        \"fees\": []\n",
      "    },\n",
      "    \"id\": \"ICIE\",\n",
      "    \"interestSettings\": {\n",
      "        \"collectInterestWhenLocked\": true,\n",
      "        \"daysInYear\": \"ACTUAL_365_FIXED\",\n",
      "        \"interestCalculationBalance\": \"MINIMUM\",\n",
      "        \"interestPaidIntoAccount\": true,\n",
      "        \"interestPaymentSettings\": {\n",
      "            \"interestPaymentDates\": [],\n",
      "            \"interestPaymentPoint\": \"FIRST_DAY_OF_MONTH\"\n",
      "        },\n",
      "        \"interestRateSettings\": {\n",
      "            \"accrueInterestAfterMaturity\": false,\n",
      "            \"encodedKey\": \"8a8587c769fd6e0c0169fd8022cc74b1\",\n",
      "            \"interestChargeFrequency\": \"ANNUALIZED\",\n",
      "            \"interestChargeFrequencyCount\": 1,\n",
      "            \"interestRate\": {\n",
      "                \"defaultValue\": 1.0,\n",
      "                \"maxValue\": 5.0,\n",
      "                \"minValue\": 0.1\n",
      "            },\n",
      "            \"interestRateSource\": \"FIXED_INTEREST_RATE\",\n",
      "            \"interestRateTerms\": \"FIXED\",\n",
      "            \"interestRateTiers\": []\n",
      "        }\n",
      "    },\n",
      "    \"internalControls\": {\n",
      "        \"dormancyPeriodDays\": 0,\n",
      "        \"maxWithdrawalAmount\": 2000.0,\n",
      "        \"openingBalance\": {\n",
      "            \"defaultValue\": 0.0,\n",
      "            \"maxValue\": 0.0,\n",
      "            \"minValue\": 0.0\n",
      "        },\n",
      "        \"recommendedDepositAmount\": 0.0\n",
      "    },\n",
      "    \"lastModifiedDate\": \"2019-04-08T16:20:25+01:00\",\n",
      "    \"maturitySettings\": {\n",
      "        \"maturityPeriod\": {},\n",
      "        \"maturityPeriodUnit\": \"DAYS\"\n",
      "    },\n",
      "    \"name\": \"Icie\",\n",
      "    \"newAccountSettings\": {\n",
      "        \"idGeneratorType\": \"INCREMENTAL_NUMBER\",\n",
      "        \"idPattern\": \"0\"\n",
      "    },\n",
      "    \"notes\": \"contract test notes\",\n",
      "    \"offsetSettings\": {\n",
      "        \"allowOffset\": false\n",
      "    },\n",
      "    \"overdraftInterestSettings\": {},\n",
      "    \"overdraftSettings\": {\n",
      "        \"allowOverdraft\": false,\n",
      "        \"allowTechnicalOverdraft\": false,\n",
      "        \"maxOverdraftLimit\": 0.0\n",
      "    },\n",
      "    \"state\": \"ACTIVE\",\n",
      "    \"taxSettings\": {\n",
      "        \"withholdingTaxEnabled\": false\n",
      "    },\n",
      "    \"type\": \"CURRENT_ACCOUNT\"\n",
      "}\n"
     ]
    }
   ],
   "source": [
    "HEADERS = {'Accept': 'application/vnd.mambu.v2+json'}\n",
    "PARAMS = {'detailsLevel': 'FULL'} # NOTE: Only FULL supported\n",
    "# r = GET('{{env3}}/depositproducts/8a8587dd69fd75850169fd8880650c5d', headers=HEADERS, params=PARAMS)\n",
    "r = GET('{{env3}}/depositproducts/8a8587c769fd6e0c0169fd8022cc74b0', headers=HEADERS, params=PARAMS)\n",
    "PRINT(r)"
   ]
  }
 ],
 "metadata": {
  "kernelspec": {
   "display_name": "Python 3",
   "language": "python",
   "name": "python3"
  },
  "language_info": {
   "codemirror_mode": {
    "name": "ipython",
    "version": 3
   },
   "file_extension": ".py",
   "mimetype": "text/x-python",
   "name": "python",
   "nbconvert_exporter": "python",
   "pygments_lexer": "ipython3",
   "version": "3.7.1"
  }
 },
 "nbformat": 4,
 "nbformat_minor": 2
}
