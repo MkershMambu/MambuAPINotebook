{
 "cells": [
  {
   "cell_type": "markdown",
   "metadata": {},
   "source": [
    "<a id=\"sectionx\"></a>\n",
    "# Consumer Finance - Demo - Helper Calls\n",
    "* [Create New Customer](#section0)\n",
    "* [Add New Card Transaction](#section1)\n",
    "\n"
   ]
  },
  {
   "cell_type": "code",
   "execution_count": 19,
   "metadata": {},
   "outputs": [],
   "source": [
    "%run API.py\n",
    "%run ENV.py\n",
    "from IPython.core.display import HTML\n",
    "setENV(ENV)"
   ]
  },
  {
   "cell_type": "markdown",
   "metadata": {},
   "source": [
    "<a id=\"section0\"></a>\n",
    "[back](#sectionx)\n",
    "## Create New Customer\n",
    "* Create a New Customer\n",
    "* Add a Credit Arrangement to the Customer"
   ]
  },
  {
   "cell_type": "code",
   "execution_count": 206,
   "metadata": {},
   "outputs": [
    {
     "name": "stdout",
     "output_type": "stream",
     "text": [
      "Overwriting NEWCUSTTEMP\n"
     ]
    }
   ],
   "source": [
    "%%writefile NEWCUSTTEMP\n",
    "{\n",
    "\"firstName\": \"John\",\n",
    "\"lastName\": \"Smith4\",\n",
    "\"preferredLanguage\": \"ENGLISH\",\n",
    "\"addresses\": [\n",
    "    {\n",
    "      \"country\": \"UK\",\n",
    "      \"city\": \"Liverpool\"\n",
    "    }\n",
    "],\n",
    "\"notes\": \"Some Notes on this person\",\n",
    "\"gender\": \"MALE\",\n",
    "  \n",
    "\"assignedBranchKey\": \"{{BranchID}}\"\n",
    "\n",
    "}"
   ]
  },
  {
   "cell_type": "code",
   "execution_count": 207,
   "metadata": {},
   "outputs": [
    {
     "name": "stdout",
     "output_type": "stream",
     "text": [
      "API status:\n",
      "201\n",
      "Now the JSON:\n",
      "{\"encodedKey\":\"8a818ece6cd2e07e016cd3b17d7650ba\",\"id\":\"701143828\",\"state\":\"INACTIVE\",\"creationDate\":\"2019-08-27T17:43:50+02:00\",\"lastModifiedDate\":\"2019-08-27T17:43:50+02:00\",\"approvedDate\":\"2019-08-27T17:43:50+02:00\",\"firstName\":\"John\",\"lastName\":\"Smith4\",\"preferredLanguage\":\"ENGLISH\",\"gender\":\"MALE\",\"notes\":\"Some Notes on this person\",\"assignedBranchKey\":\"8a818f156ccf5fb1016cd2e8e4532b09\",\"clientRoleKey\":\"8a818e74677a2e9201677ec2b4c336aa\",\"loanCycle\":0,\"groupLoanCycle\":0,\"addresses\":[{\"encodedKey\":\"8a818ece6cd2e07e016cd3b17d7650bb\",\"parentKey\":\"8a818ece6cd2e07e016cd3b17d7650ba\",\"city\":\"Liverpool\",\"country\":\"UK\",\"indexInList\":0}],\"idDocuments\":[]}\n"
     ]
    }
   ],
   "source": [
    "PLACEHOLDERS = {\n",
    "    \"BranchID\": \"8a818f156ccf5fb1016cd2e8e4532b09\"\n",
    "}\n",
    "HEADERS = {'Accept': 'application/vnd.mambu.v2+json','Content-Type': 'application/json'}\n",
    "PARAMS = {}\n",
    "r = POST('{{env4}}/clients', headers=HEADERS, params=PARAMS, body=\"NEWCUSTTEMP\", bodyparts=PLACEHOLDERS)\n",
    "print (\"API status:\")\n",
    "print(r.status_code)\n",
    "print(\"Now the JSON:\")\n",
    "print(r.text)\n",
    "\n",
    "# Remember the ID of the customer created we will use it below \n",
    "newCustomerID = r.json()['encodedKey']"
   ]
  },
  {
   "cell_type": "code",
   "execution_count": 209,
   "metadata": {},
   "outputs": [
    {
     "name": "stdout",
     "output_type": "stream",
     "text": [
      "Overwriting NEWCREDITARRANGEMENT\n"
     ]
    }
   ],
   "source": [
    "%%writefile NEWCREDITARRANGEMENT\n",
    "{\n",
    "    \"amount\": 10000.0,\n",
    "    \"availableCreditAmount\": 10000.0,\n",
    "    \"expireDate\": \"2020-08-23T00:00:00+02:00\",\n",
    "    \"exposureLimitType\": \"OUTSTANDING_AMOUNT\",\n",
    "    \"holderKey\": \"{{CustomerID}}\",\n",
    "    \"holderType\": \"CLIENT\",  \n",
    "    \"notes\": \"\",\n",
    "    \"startDate\": \"2019-08-23T00:00:00+02:00\",\n",
    "    \"state\": \"APPROVED\",\n",
    "    \"_URepayOptions\": {\n",
    "            \"AutoRepayMethod\": \"Direct-Debit\",\n",
    "            \"PaymentDueDay\": \"1\",\n",
    "            \"ShortMonthOption\": \"late\"\n",
    "        }\n",
    "}"
   ]
  },
  {
   "cell_type": "code",
   "execution_count": 210,
   "metadata": {},
   "outputs": [
    {
     "name": "stdout",
     "output_type": "stream",
     "text": [
      "API status:\n",
      "201\n",
      "Now the JSON:\n",
      "{\"encodedKey\":\"8a818e086cd2de1a016cd3c1cd2355fa\",\"id\":\"DQR329\",\"holderType\":\"CLIENT\",\"holderKey\":\"8a818ece6cd2e07e016cd3b17d7650ba\",\"amount\":10000.0,\"availableCreditAmount\":10000.0,\"consumedCreditAmount\":0.0,\"state\":\"APPROVED\",\"creationDate\":\"2019-08-27T17:46:29+02:00\",\"lastModifiedDate\":\"2019-08-27T17:46:29+02:00\",\"startDate\":\"2019-08-23T00:00:00+02:00\",\"expireDate\":\"2020-08-23T00:00:00+02:00\",\"approvedDate\":\"2019-08-27T17:46:29+02:00\",\"exposureLimitType\":\"OUTSTANDING_AMOUNT\",\"notes\":\"\",\"_URepayOptions\":{\"ShortMonthOption\":\"late\",\"PaymentDueDay\":\"1\",\"AutoRepayMethod\":\"Direct-Debit\"}}\n"
     ]
    }
   ],
   "source": [
    "PLACEHOLDERS = {\n",
    "    \"CustomerID\": newCustomerID\n",
    "}\n",
    "HEADERS = {'Accept': 'application/vnd.mambu.v2+json','Content-Type': 'application/json'}\n",
    "PARAMS = {}\n",
    "r = POST('{{env4}}/creditarrangements', headers=HEADERS, params=PARAMS, body=\"NEWCREDITARRANGEMENT\", bodyparts=PLACEHOLDERS)\n",
    "print (\"API status:\")\n",
    "print(r.status_code)\n",
    "print(\"Now the JSON:\")\n",
    "print(r.text)\n",
    "CAID = r.json()['id']"
   ]
  },
  {
   "cell_type": "markdown",
   "metadata": {},
   "source": [
    "### Create Accounts for the Customer"
   ]
  },
  {
   "cell_type": "code",
   "execution_count": 211,
   "metadata": {},
   "outputs": [
    {
     "name": "stdout",
     "output_type": "stream",
     "text": [
      "Writing CURACCTEMP\n"
     ]
    }
   ],
   "source": [
    "%%writefile CURACCTEMP\n",
    "{\n",
    "  \"overdraftInterestSettings\": {\n",
    "        \"interestRateSettings\": {\n",
    "            \"encodedKey\": \"8a818f9f6cc14d6e016cc2fcdbef4923\",\n",
    "            \"interestChargeFrequency\": \"ANNUALIZED\",\n",
    "            \"interestChargeFrequencyCount\": 1,\n",
    "            \"interestRateReviewCount\": 31,\n",
    "            \"interestRateReviewUnit\": \"DAYS\",\n",
    "            \"interestRateSource\": \"INDEX_INTEREST_RATE\",\n",
    "            \"interestRateTerms\": \"FIXED\",\n",
    "            \"interestSpread\": 0.0\n",
    "        }\n",
    "    },\n",
    "    \"overdraftSettings\": {\n",
    "        \"allowOverdraft\": true,\n",
    "        \"overdraftExpiryDate\": \"2020-05-02T00:00:00+02:00\",\n",
    "        \"overdraftLimit\": 0.0\n",
    "    },\n",
    "  \n",
    "  \"accountType\": \"CURRENT_ACCOUNT\",\n",
    "  \"name\": \"Current Account (with overdraft)\",\n",
    "  \"accountHolderKey\": \"{{CustomerID}}\",\n",
    "  \"productTypeKey\": \"8a818f5f6cbe6621016cbf4f2db95756\",\n",
    "  \"currencyCode\": \"EUR\",\n",
    "  \"accountHolderType\": \"CLIENT\"\n",
    "}\n"
   ]
  },
  {
   "cell_type": "code",
   "execution_count": 212,
   "metadata": {},
   "outputs": [
    {
     "name": "stdout",
     "output_type": "stream",
     "text": [
      "API status:\n",
      "201\n",
      "Now the JSON:\n",
      "{\"encodedKey\":\"8a818ef66cd2fedb016cd3afd5c55246\",\"creationDate\":\"2019-08-27T17:48:26+02:00\",\"lastModifiedDate\":\"2019-08-27T17:48:26+02:00\",\"id\":\"DMIR077\",\"name\":\"Current Account (with overdraft)\",\"accountHolderType\":\"CLIENT\",\"accountHolderKey\":\"8a818ece6cd2e07e016cd3b17d7650ba\",\"accountState\":\"PENDING_APPROVAL\",\"productTypeKey\":\"8a818f5f6cbe6621016cbf4f2db95756\",\"accountType\":\"CURRENT_ACCOUNT\",\"currencyCode\":\"EUR\",\"assignedBranchKey\":\"8a818f156ccf5fb1016cd2e8e4532b09\",\"internalControls\":{},\"overdraftSettings\":{\"allowOverdraft\":true,\"overdraftLimit\":0.0,\"overdraftExpiryDate\":\"2020-05-02T00:00:00+02:00\"},\"interestSettings\":{\"interestPaymentSettings\":{\"interestPaymentDates\":[]}},\"overdraftInterestSettings\":{\"interestRateSettings\":{\"encodedKey\":\"8a818ef66cd2fedb016cd3afd5c55247\",\"interestChargeFrequency\":\"ANNUALIZED\",\"interestChargeFrequencyCount\":1,\"interestRateTiers\":[],\"interestRateTerms\":\"FIXED\",\"interestSpread\":0.0,\"interestRateReviewCount\":31,\"interestRateSource\":\"INDEX_INTEREST_RATE\",\"interestRateReviewUnit\":\"DAYS\"}},\"balances\":{\"totalBalance\":0,\"overdraftAmount\":0,\"technicalOverdraftAmount\":0,\"lockedBalance\":0,\"availableBalance\":0,\"holdBalance\":0,\"overdraftInterestDue\":0,\"technicalOverdraftInterestDue\":0,\"feesDue\":0},\"accruedAmounts\":{\"interestAccrued\":0,\"overdraftInterestAccrued\":0,\"technicalOverdraftInterestAccrued\":0}}\n"
     ]
    }
   ],
   "source": [
    "PLACEHOLDERS = {\n",
    "    \"CustomerID\": newCustomerID\n",
    "}\n",
    "HEADERS = {'Accept': 'application/vnd.mambu.v2+json','Content-Type': 'application/json'}\n",
    "PARAMS = {}\n",
    "r = POST('{{env4}}/deposits', headers=HEADERS, params=PARAMS, body=\"CURACCTEMP\", bodyparts=PLACEHOLDERS)\n",
    "print (\"API status:\")\n",
    "print(r.status_code)\n",
    "print(\"Now the JSON:\")\n",
    "print(r.text)\n",
    "CurrentAccID = r.json()['id']\n"
   ]
  },
  {
   "cell_type": "code",
   "execution_count": 213,
   "metadata": {},
   "outputs": [
    {
     "name": "stdout",
     "output_type": "stream",
     "text": [
      "API status:\n",
      "200\n",
      "Now the JSON:\n",
      "{\"encodedKey\":\"8a818ef66cd2fedb016cd3afd5c55246\",\"id\":\"DMIR077\",\"accountHolderKey\":\"8a818ece6cd2e07e016cd3b17d7650ba\",\"accountHolderType\":\"CLIENT\",\"name\":\"Current Account (with overdraft)\",\"creationDate\":\"2019-08-27T15:48:26+0000\",\"lastModifiedDate\":\"2019-08-27T15:48:26+0000\",\"productTypeKey\":\"8a818f5f6cbe6621016cbf4f2db95756\",\"lineOfCreditKey\":\"8a818e086cd2de1a016cd3c1cd2355fa\",\"accountType\":\"CURRENT_ACCOUNT\",\"accountState\":\"PENDING_APPROVAL\",\"balance\":\"0\",\"accruedInterest\":\"0\",\"overdraftInterestAccrued\":\"0\",\"technicalOverdraftInterestAccrued\":\"0\",\"overdraftAmount\":\"0\",\"technicalOverdraftAmount\":\"0\",\"overdraftExpiryDate\":\"2020-05-02T00:00:00+0000\",\"overdraftInterestSettings\":{\"interestSpread\":\"0\",\"encodedKey\":\"8a818ef66cd2fedb016cd3afd5c55247\",\"interestChargeFrequency\":\"ANNUALIZED\",\"interestChargeFrequencyCount\":1,\"interestRateSource\":\"INDEX_INTEREST_RATE\",\"interestRateReviewUnit\":\"DAYS\",\"interestRateReviewCount\":31,\"interestRateTerms\":\"FIXED\",\"interestRateTiers\":[],\"accrueInterestAfterMaturity\":false},\"interestDue\":\"0\",\"technicalInterestDue\":\"0\",\"feesDue\":\"0\",\"overdraftLimit\":\"0\",\"allowOverdraft\":true,\"assignedBranchKey\":\"8a818f156ccf5fb1016cd2e8e4532b09\",\"lockedBalance\":\"0\",\"holdBalance\":\"0\",\"currencyCode\":\"EUR\",\"currency\":{\"code\":\"EUR\",\"name\":\"Euro\",\"symbol\":\"€\",\"digitsAfterDecimal\":2,\"currencySymbolPosition\":\"BEFORE_NUMBER\",\"isBaseCurrency\":true,\"creationDate\":\"2018-12-05T14:25:48+0000\",\"lastModifiedDate\":\"2018-12-05T14:25:48+0000\"},\"availableBalance\":\"0\"}\n"
     ]
    }
   ],
   "source": [
    "HEADERS = {'Content-Type': 'application/json'}\n",
    "PARAMS = {}\n",
    "r = POST('{{env4}}'+'/linesofcredit/{0}/savings/{1}'.format(CAID,CurrentAccID) , headers=HEADERS, params=PARAMS)\n",
    "print (\"API status:\")\n",
    "print(r.status_code)\n",
    "print(\"Now the JSON:\")\n",
    "print(r.text)"
   ]
  },
  {
   "cell_type": "code",
   "execution_count": 214,
   "metadata": {},
   "outputs": [
    {
     "name": "stdout",
     "output_type": "stream",
     "text": [
      "Writing APPROVEACC\n"
     ]
    }
   ],
   "source": [
    "%%writefile APPROVEACC\n",
    "{\n",
    "  \"action\": \"APPROVE\",\n",
    "  \"notes\": \"Approved from the API\"\n",
    "}"
   ]
  },
  {
   "cell_type": "code",
   "execution_count": 215,
   "metadata": {},
   "outputs": [
    {
     "name": "stdout",
     "output_type": "stream",
     "text": [
      "{\"encodedKey\":\"8a818ef66cd2fedb016cd3afd5c55246\",\"creationDate\":\"2019-08-27T17:48:26+02:00\",\"lastModifiedDate\":\"2019-08-27T17:49:51+02:00\",\"id\":\"DMIR077\",\"name\":\"Current Account (with overdraft)\",\"accountHolderType\":\"CLIENT\",\"accountHolderKey\":\"8a818ece6cd2e07e016cd3b17d7650ba\",\"accountState\":\"APPROVED\",\"productTypeKey\":\"8a818f5f6cbe6621016cbf4f2db95756\",\"accountType\":\"CURRENT_ACCOUNT\",\"creditArrangementKey\":\"8a818e086cd2de1a016cd3c1cd2355fa\",\"approvedDate\":\"2019-08-27T17:49:51+02:00\",\"currencyCode\":\"EUR\",\"assignedBranchKey\":\"8a818f156ccf5fb1016cd2e8e4532b09\",\"internalControls\":{},\"overdraftSettings\":{\"allowOverdraft\":true,\"overdraftLimit\":0E-10,\"overdraftExpiryDate\":\"2020-05-02T00:00:00+02:00\"},\"interestSettings\":{\"interestPaymentSettings\":{\"interestPaymentDates\":[]}},\"overdraftInterestSettings\":{\"interestRateSettings\":{\"encodedKey\":\"8a818ef66cd2fedb016cd3afd5c55247\",\"interestChargeFrequency\":\"ANNUALIZED\",\"interestChargeFrequencyCount\":1,\"interestRateTiers\":[],\"interestRateTerms\":\"FIXED\",\"interestSpread\":0E-20,\"interestRateReviewCount\":31,\"interestRateSource\":\"INDEX_INTEREST_RATE\",\"interestRateReviewUnit\":\"DAYS\"}},\"balances\":{\"totalBalance\":0,\"overdraftAmount\":0E-10,\"technicalOverdraftAmount\":0E-10,\"lockedBalance\":0E-10,\"availableBalance\":0E-10,\"holdBalance\":0E-10,\"overdraftInterestDue\":0E-10,\"technicalOverdraftInterestDue\":0E-10,\"feesDue\":0E-10},\"accruedAmounts\":{\"interestAccrued\":0E-10,\"overdraftInterestAccrued\":0E-10,\"technicalOverdraftInterestAccrued\":0E-10}}\n"
     ]
    }
   ],
   "source": [
    "HEADERS = {'Accept': 'application/vnd.mambu.v2+json','Content-Type': 'application/json'}\n",
    "PARAMS = {}\n",
    "url = \"{{env4}}\" + \"/deposits/{0}:changeState\".format(CurrentAccID)\n",
    "r = POST(url, headers=HEADERS, params=PARAMS, body=\"APPROVEACC\")\n",
    "print(r.text)"
   ]
  },
  {
   "cell_type": "markdown",
   "metadata": {},
   "source": [
    "## Create the CC bucket accounts\n"
   ]
  },
  {
   "cell_type": "code",
   "execution_count": 216,
   "metadata": {},
   "outputs": [
    {
     "name": "stdout",
     "output_type": "stream",
     "text": [
      "Writing CCACCTEMP\n"
     ]
    }
   ],
   "source": [
    "%%writefile CCACCTEMP\n",
    "{\n",
    "  \"loanAmount\": 30000.0,\n",
    "  \"loanName\": \"{{AccountName}}\",\n",
    "  \"accountHolderKey\": \"{{CustomerID}}\",\n",
    "  \"productTypeKey\": \"{{ProductKey}}\",\n",
    "  \"accountHolderType\": \"CLIENT\",\n",
    "  \"assignedBranchKey\": \"8a818f156ccf5fb1016cd2e8e4532b09\",\n",
    "  \"interestFromArrearsAccrued\": 0.0,\n",
    "    \"interestSettings\": {\n",
    "        \"accrueInterestAfterMaturity\": false,\n",
    "        \"interestApplicationMethod\": \"REPAYMENT_DUE_DATE\",\n",
    "        \"interestBalanceCalculationMethod\": \"ONLY_PRINCIPAL\",\n",
    "        \"interestCalculationMethod\": \"DECLINING_BALANCE\",\n",
    "        \"interestChargeFrequency\": \"ANNUALIZED\",\n",
    "        \"interestRateReviewCount\": 31,\n",
    "        \"interestRateReviewUnit\": \"DAYS\",\n",
    "        \"interestRateSource\": \"INDEX_INTEREST_RATE\",\n",
    "        \"interestSpread\": 0.0,\n",
    "        \"interestType\": \"SIMPLE_INTEREST\"\n",
    "    },\n",
    "  \"scheduleSettings\": {\n",
    "        \"fixedDaysOfMonth\": [\n",
    "            1\n",
    "        ],\n",
    "        \"gracePeriod\": 0,\n",
    "        \"gracePeriodType\": \"NONE\",\n",
    "        \"paymentPlan\": [],\n",
    "        \"periodicPayment\": 0.0,\n",
    "        \"principalRepaymentInterval\": 1,\n",
    "        \"repaymentPeriodUnit\": \"DAYS\",\n",
    "        \"repaymentScheduleMethod\": \"DYNAMIC\",\n",
    "        \"scheduleDueDatesMethod\": \"FIXED_DAYS_OF_MONTH\",\n",
    "        \"shortMonthHandlingMethod\": \"LAST_DAY_IN_MONTH\"\n",
    "    }\n",
    "  \n",
    "}"
   ]
  },
  {
   "cell_type": "code",
   "execution_count": 217,
   "metadata": {},
   "outputs": [
    {
     "name": "stdout",
     "output_type": "stream",
     "text": [
      "API status:\n",
      "201\n",
      "Now the JSON:\n",
      "{\"encodedKey\":\"8a818f3f6cd2dc12016cd3acd9b658f0\",\"id\":\"QTIZ653\",\"accountHolderType\":\"CLIENT\",\"accountHolderKey\":\"8a818ece6cd2e07e016cd3b17d7650ba\",\"creationDate\":\"2019-08-27T17:50:47+02:00\",\"lastModifiedDate\":\"2019-08-27T17:50:47+02:00\",\"accountState\":\"PENDING_APPROVAL\",\"productTypeKey\":\"8a818f5f6cbe6621016cbf3cf8675424\",\"loanName\":\"CC - Cash\",\"loanAmount\":30000.0,\"paymentMethod\":\"HORIZONTAL\",\"assignedBranchKey\":\"8a818f156ccf5fb1016cd2e8e4532b09\",\"accruedInterest\":0,\"interestFromArrearsAccrued\":0.0,\"allowOffset\":false,\"arrearsTolerancePeriod\":0,\"accountArrearsSettings\":{\"encodedKey\":\"8a818f3f6cd2dc12016cd3c5be4f5e39\",\"toleranceCalculationMethod\":\"ARREARS_TOLERANCE_PERIOD\",\"dateCalculationMethod\":\"ACCOUNT_FIRST_WENT_TO_ARREARS\",\"nonWorkingDaysMethod\":\"EXCLUDED\",\"tolerancePeriod\":0},\"latePaymentsRecalculationMethod\":\"OVERDUE_INSTALLMENTS_INCREASE\",\"balances\":{\"redrawBalance\":0,\"principalDue\":0,\"principalPaid\":0,\"principalBalance\":0,\"interestDue\":0,\"interestPaid\":0,\"interestBalance\":0,\"interestFromArrearsBalance\":0,\"interestFromArrearsDue\":0,\"interestFromArrearsPaid\":0,\"feesDue\":0,\"feesPaid\":0,\"feesBalance\":0,\"penaltyDue\":0,\"penaltyPaid\":0,\"penaltyBalance\":0,\"holdBalance\":0},\"principalPaymentSettings\":{\"encodedKey\":\"8a818f3f6cd2dc12016cd3acd9b658f1\",\"totalDuePayment\":\"TOTAL_BALANCE_PERCENTAGE\",\"includeInterestInFloorAmount\":false,\"includeFeesInFloorAmount\":false,\"percentage\":3.00000000000000000000},\"disbursementDetails\":{\"encodedKey\":\"8a818f3f6cd2dc12016cd3c5be4f5e38\",\"fees\":[]},\"prepaymentSettings\":{\"prepaymentRecalculationMethod\":\"NO_RECALCULATION\",\"principalPaidInstallmentStatus\":\"PARTIALLY_PAID\",\"applyInterestOnPrepaymentMethod\":\"AUTOMATIC\"},\"penaltySettings\":{\"loanPenaltyCalculationMethod\":\"NONE\"},\"scheduleSettings\":{\"hasCustomSchedule\":false,\"principalRepaymentInterval\":1,\"gracePeriod\":0,\"gracePeriodType\":\"NONE\",\"repaymentInstallments\":0,\"shortMonthHandlingMethod\":\"LAST_DAY_IN_MONTH\",\"fixedDaysOfMonth\":[1],\"scheduleDueDatesMethod\":\"FIXED_DAYS_OF_MONTH\",\"periodicPayment\":0.0,\"repaymentScheduleMethod\":\"DYNAMIC\",\"paymentPlan\":[]},\"interestSettings\":{\"interestRateReviewCount\":31,\"interestRateReviewUnit\":\"DAYS\",\"interestRateSource\":\"INDEX_INTEREST_RATE\",\"accrueInterestAfterMaturity\":false,\"interestApplicationMethod\":\"REPAYMENT_DUE_DATE\",\"interestBalanceCalculationMethod\":\"ONLY_PRINCIPAL\",\"interestCalculationMethod\":\"DECLINING_BALANCE\",\"interestChargeFrequency\":\"ANNUALIZED\",\"interestSpread\":0.0,\"interestRate\":24.9000000000,\"interestType\":\"SIMPLE_INTEREST\",\"accrueLateInterest\":true},\"assets\":[],\"guarantors\":[],\"fundingSources\":[],\"tranches\":[],\"futurePaymentsAcceptance\":\"NO_FUTURE_PAYMENTS\"}\n"
     ]
    }
   ],
   "source": [
    "\n",
    "PLACEHOLDERS = {\n",
    "    'CustomerID': newCustomerID,\n",
    "    #'ProductKey': \"8a818f5f6cbe6621016cbf6d66075e54\",\n",
    "    #'AccountName': \"CC - Purchases\"\n",
    "    'ProductKey': \"8a818f5f6cbe6621016cbf3cf8675424\",\n",
    "    'AccountName': \"CC - Cash\"\n",
    "}\n",
    "HEADERS = {'Accept': 'application/vnd.mambu.v2+json','Content-Type': 'application/json'}\n",
    "PARAMS = {}\n",
    "r = POST('{{env4}}/loans', headers=HEADERS, params=PARAMS, body=\"CCACCTEMP\", bodyparts=PLACEHOLDERS)\n",
    "print (\"API status:\")\n",
    "print(r.status_code)\n",
    "print(\"Now the JSON:\")\n",
    "print(r.text)\n",
    "cc_account = r.json()['id']"
   ]
  },
  {
   "cell_type": "code",
   "execution_count": 218,
   "metadata": {},
   "outputs": [
    {
     "name": "stdout",
     "output_type": "stream",
     "text": [
      "API status:\n",
      "200\n",
      "Now the JSON:\n",
      "{\"encodedKey\":\"8a818f3f6cd2dc12016cd3acd9b658f0\",\"id\":\"QTIZ653\",\"accountHolderKey\":\"8a818ece6cd2e07e016cd3b17d7650ba\",\"accountHolderType\":\"CLIENT\",\"creationDate\":\"2019-08-27T15:50:47+0000\",\"lastModifiedDate\":\"2019-08-27T15:50:47+0000\",\"accountState\":\"PENDING_APPROVAL\",\"productTypeKey\":\"8a818f5f6cbe6621016cbf3cf8675424\",\"lineOfCreditKey\":\"8a818e086cd2de1a016cd3c1cd2355fa\",\"loanName\":\"CC - Cash\",\"loanAmount\":\"30000\",\"periodicPayment\":\"0\",\"tranches\":[],\"principalDue\":\"0\",\"principalPaid\":\"0\",\"principalBalance\":\"0\",\"redrawBalance\":\"0\",\"interestDue\":\"0\",\"interestPaid\":\"0\",\"interestFromArrearsBalance\":\"0\",\"interestFromArrearsDue\":\"0\",\"interestFromArrearsPaid\":\"0\",\"interestBalance\":\"0\",\"feesDue\":\"0\",\"feesPaid\":\"0\",\"feesBalance\":\"0\",\"penaltyDue\":\"0\",\"penaltyPaid\":\"0\",\"penaltyBalance\":\"0\",\"scheduleDueDatesMethod\":\"FIXED_DAYS_OF_MONTH\",\"prepaymentAcceptance\":\"ACCEPT_PREPAYMENTS\",\"futurePaymentsAcceptance\":\"NO_FUTURE_PAYMENTS\",\"hasCustomSchedule\":false,\"fixedDaysOfMonth\":[1],\"shortMonthHandlingMethod\":\"LAST_DAY_IN_MONTH\",\"repaymentInstallments\":0,\"gracePeriod\":0,\"gracePeriodType\":\"NONE\",\"interestRate\":\"24.9\",\"interestChargeFrequency\":\"ANNUALIZED\",\"interestCalculationMethod\":\"DECLINING_BALANCE\",\"interestType\":\"SIMPLE_INTEREST\",\"interestBalanceCalculationMethod\":\"PRINCIPAL_ONLY\",\"repaymentScheduleMethod\":\"DYNAMIC\",\"paymentMethod\":\"HORIZONTAL\",\"interestApplicationMethod\":\"ON_REPAYMENT\",\"accrueInterestAfterMaturity\":false,\"assignedBranchKey\":\"8a818f156ccf5fb1016cd2e8e4532b09\",\"principalRepaymentInterval\":1,\"interestRateSource\":\"INDEX_INTEREST_RATE\",\"interestRateReviewUnit\":\"DAYS\",\"interestRateReviewCount\":31,\"interestSpread\":\"0\",\"accruedInterest\":\"0\",\"interestFromArrearsAccrued\":\"0\",\"funds\":[],\"guarantees\":[],\"loanPenaltyCalculationMethod\":\"NONE\",\"principalPaymentSettings\":{\"percentage\":\"3\",\"encodedKey\":\"8a818f3f6cd2dc12016cd3acd9b658f1\",\"principalPaymentMethod\":\"TOTAL_BALANCE_PERCENTAGE\",\"includeInterestInFloorAmount\":false,\"includeFeesInFloorAmount\":false},\"disbursementDetails\":{\"encodedKey\":\"8a818f3f6cd2dc12016cd3c5be4f5e38\",\"fees\":[]},\"arrearsTolerancePeriod\":0,\"accountArrearsSettings\":{\"tolerancePeriod\":0,\"encodedKey\":\"8a818f3f6cd2dc12016cd3c5be4f5e39\",\"toleranceCalculationMethod\":\"ARREARS_TOLERANCE_PERIOD\",\"dateCalculationMethod\":\"DATE_ACCOUNT_FIRST_WENT_TO_ARREARS\",\"nonWorkingDaysMethod\":\"EXCLUDED\"},\"paymentPlan\":[],\"interestRoundingVersion\":\"VERSION_2\",\"prepaymentRecalculationMethod\":\"NO_RECALCULATION\",\"principalPaidInstallmentStatus\":\"PARTIALLY_PAID\",\"latePaymentsRecalculationMethod\":\"INCREASE_OVERDUE_INSTALLMENTS\",\"applyInterestOnPrepaymentMethod\":\"AUTOMATIC\",\"allowOffset\":false,\"accrueLateInterest\":true,\"holdBalance\":\"0\"}\n"
     ]
    }
   ],
   "source": [
    "HEADERS = {'Content-Type': 'application/json'}\n",
    "PARAMS = {}\n",
    "r = POST('{{env4}}'+'/linesofcredit/{0}/loans/{1}'.format(CAID,cc_account) , headers=HEADERS, params=PARAMS)\n",
    "print (\"API status:\")\n",
    "print(r.status_code)\n",
    "print(\"Now the JSON:\")\n",
    "print(r.text)"
   ]
  },
  {
   "cell_type": "code",
   "execution_count": 219,
   "metadata": {},
   "outputs": [
    {
     "name": "stdout",
     "output_type": "stream",
     "text": [
      "Overwriting APPROVEACC\n"
     ]
    }
   ],
   "source": [
    "%%writefile APPROVEACC\n",
    "{\n",
    "  \"action\": \"APPROVE\",\n",
    "  \"notes\": \"Approved from the API\"\n",
    "}"
   ]
  },
  {
   "cell_type": "code",
   "execution_count": 220,
   "metadata": {},
   "outputs": [
    {
     "name": "stdout",
     "output_type": "stream",
     "text": [
      "{\"encodedKey\":\"8a818f3f6cd2dc12016cd3acd9b658f0\",\"id\":\"QTIZ653\",\"accountHolderType\":\"CLIENT\",\"accountHolderKey\":\"8a818ece6cd2e07e016cd3b17d7650ba\",\"creationDate\":\"2019-08-27T17:50:47+02:00\",\"approvedDate\":\"2019-08-27T17:52:16+02:00\",\"lastModifiedDate\":\"2019-08-27T17:52:15+02:00\",\"accountState\":\"APPROVED\",\"productTypeKey\":\"8a818f5f6cbe6621016cbf3cf8675424\",\"creditArrangementKey\":\"8a818e086cd2de1a016cd3c1cd2355fa\",\"loanName\":\"CC - Cash\",\"loanAmount\":30000.0000000000,\"paymentMethod\":\"HORIZONTAL\",\"assignedBranchKey\":\"8a818f156ccf5fb1016cd2e8e4532b09\",\"accruedInterest\":0E-10,\"interestFromArrearsAccrued\":0E-10,\"allowOffset\":false,\"arrearsTolerancePeriod\":0,\"accountArrearsSettings\":{\"encodedKey\":\"8a818f3f6cd2dc12016cd3c5be4f5e39\",\"toleranceCalculationMethod\":\"ARREARS_TOLERANCE_PERIOD\",\"dateCalculationMethod\":\"ACCOUNT_FIRST_WENT_TO_ARREARS\",\"nonWorkingDaysMethod\":\"EXCLUDED\",\"tolerancePeriod\":0},\"latePaymentsRecalculationMethod\":\"OVERDUE_INSTALLMENTS_INCREASE\",\"balances\":{\"redrawBalance\":0E-10,\"principalDue\":0E-10,\"principalPaid\":0E-10,\"principalBalance\":0E-10,\"interestDue\":0E-10,\"interestPaid\":0E-10,\"interestBalance\":0E-10,\"interestFromArrearsBalance\":0E-10,\"interestFromArrearsDue\":0E-10,\"interestFromArrearsPaid\":0E-10,\"feesDue\":0E-10,\"feesPaid\":0E-10,\"feesBalance\":0E-10,\"penaltyDue\":0E-10,\"penaltyPaid\":0E-10,\"penaltyBalance\":0E-10,\"holdBalance\":0E-10},\"principalPaymentSettings\":{\"encodedKey\":\"8a818f3f6cd2dc12016cd3acd9b658f1\",\"totalDuePayment\":\"TOTAL_BALANCE_PERCENTAGE\",\"includeInterestInFloorAmount\":false,\"includeFeesInFloorAmount\":false,\"percentage\":3.00000000000000000000},\"disbursementDetails\":{\"encodedKey\":\"8a818f3f6cd2dc12016cd3c5be4f5e38\",\"fees\":[]},\"prepaymentSettings\":{\"prepaymentRecalculationMethod\":\"NO_RECALCULATION\",\"principalPaidInstallmentStatus\":\"PARTIALLY_PAID\",\"applyInterestOnPrepaymentMethod\":\"AUTOMATIC\"},\"penaltySettings\":{\"loanPenaltyCalculationMethod\":\"NONE\"},\"scheduleSettings\":{\"hasCustomSchedule\":false,\"principalRepaymentInterval\":1,\"gracePeriod\":0,\"gracePeriodType\":\"NONE\",\"repaymentInstallments\":0,\"shortMonthHandlingMethod\":\"LAST_DAY_IN_MONTH\",\"fixedDaysOfMonth\":[1],\"scheduleDueDatesMethod\":\"FIXED_DAYS_OF_MONTH\",\"periodicPayment\":0E-10,\"repaymentScheduleMethod\":\"DYNAMIC\"},\"interestSettings\":{\"interestRateReviewCount\":31,\"interestRateReviewUnit\":\"DAYS\",\"interestRateSource\":\"INDEX_INTEREST_RATE\",\"accrueInterestAfterMaturity\":false,\"interestApplicationMethod\":\"REPAYMENT_DUE_DATE\",\"interestBalanceCalculationMethod\":\"ONLY_PRINCIPAL\",\"interestCalculationMethod\":\"DECLINING_BALANCE\",\"interestChargeFrequency\":\"ANNUALIZED\",\"interestSpread\":0E-10,\"interestRate\":24.90000000000000000000,\"interestType\":\"SIMPLE_INTEREST\",\"accrueLateInterest\":true},\"futurePaymentsAcceptance\":\"NO_FUTURE_PAYMENTS\"}\n"
     ]
    }
   ],
   "source": [
    "HEADERS = {'Accept': 'application/vnd.mambu.v2+json','Content-Type': 'application/json'}\n",
    "PARAMS = {}\n",
    "url = \"{{env4}}\" + \"/loans/{0}:changeState\".format(cc_account)\n",
    "r = POST(url, headers=HEADERS, params=PARAMS, body=\"APPROVEACC\")\n",
    "print(r.text)"
   ]
  },
  {
   "cell_type": "markdown",
   "metadata": {},
   "source": [
    "<a id=\"section1\"></a>\n",
    "[back](#sectionx)\n",
    "## Add New Card Transaction"
   ]
  },
  {
   "cell_type": "code",
   "execution_count": 202,
   "metadata": {},
   "outputs": [
    {
     "name": "stdout",
     "output_type": "stream",
     "text": [
      "Overwriting NEWCARDTRANS\n"
     ]
    }
   ],
   "source": [
    "%%writefile NEWCARDTRANS\n",
    "{\n",
    "    \"Amount\": \"10\",\n",
    "    \"DebitCardAvailable\": \"1000\",\n",
    "    \"DebitCardOnly\": \"F\",\n",
    "    \"Merchant\": \"Starbucks\",\n",
    "    \"POSCreditTypeChoice\": \"0\",\n",
    "    \"PurchaseCategory\": \"Food+Drink\",\n",
    "    \"transactionID\": \"{{TranID}}\"\n",
    "}"
   ]
  },
  {
   "cell_type": "code",
   "execution_count": 204,
   "metadata": {},
   "outputs": [
    {
     "name": "stdout",
     "output_type": "stream",
     "text": [
      "API status: 200\n",
      "JSON Response:\n",
      "{\n",
      "    \"ops\": {\n",
      "        \"obj\": \"task\",\n",
      "        \"obj_id\": \"5d654f0a09a8af0fc8002b63\",\n",
      "        \"proc\": \"ok\",\n",
      "        \"ref\": null\n",
      "    },\n",
      "    \"request_proc\": \"ok\"\n",
      "}\n"
     ]
    }
   ],
   "source": [
    "PLACEHOLDERS = {\n",
    "    \"TranID\": getUUID()\n",
    "}\n",
    "HEADERS = {}\n",
    "PARAMS = {}\n",
    "r = POST('https://mpo-sandbox.mambucloud.com/api/1/json/public/18614/28388948acbf477da3d99dc3999e264ab745965a', \n",
    "         headers=HEADERS, params=PARAMS, body=\"NEWCARDTRANS\", bodyparts=PLACEHOLDERS)\n",
    "PRINT(r)"
   ]
  },
  {
   "cell_type": "markdown",
   "metadata": {},
   "source": [
    "## Miscellaneous\n"
   ]
  },
  {
   "cell_type": "code",
   "execution_count": 59,
   "metadata": {},
   "outputs": [
    {
     "name": "stdout",
     "output_type": "stream",
     "text": [
      "API status: 200\n",
      "JSON Response:\n",
      "[\n",
      "    {\n",
      "        \"_URepayOptions\": {\n",
      "            \"AutoRepayMethod\": \"Direct-Debit\",\n",
      "            \"PaymentDueDay\": \"1\",\n",
      "            \"ShortMonthOption\": \"late\"\n",
      "        },\n",
      "        \"amount\": 10000.0,\n",
      "        \"approvedDate\": \"2019-08-27T14:37:27+02:00\",\n",
      "        \"availableCreditAmount\": 10000.0,\n",
      "        \"consumedCreditAmount\": 0.0,\n",
      "        \"creationDate\": \"2019-08-27T14:37:27+02:00\",\n",
      "        \"encodedKey\": \"8a818f156ccf5fb1016cd2ef00482b47\",\n",
      "        \"expireDate\": \"2020-09-10T00:00:00+02:00\",\n",
      "        \"exposureLimitType\": \"APPROVED_AMOUNT\",\n",
      "        \"holderKey\": \"8a818faf6cd2dc01016cd30cd28702e4\",\n",
      "        \"holderType\": \"CLIENT\",\n",
      "        \"id\": \"HGO606\",\n",
      "        \"lastModifiedDate\": \"2019-08-27T14:37:27+02:00\",\n",
      "        \"notes\": \"\",\n",
      "        \"startDate\": \"2019-08-27T00:00:00+02:00\",\n",
      "        \"state\": \"APPROVED\"\n",
      "    },\n",
      "    {\n",
      "        \"amount\": 10000.0,\n",
      "        \"approvedDate\": \"2019-08-23T18:00:29+02:00\",\n",
      "        \"availableCreditAmount\": 10000.0,\n",
      "        \"consumedCreditAmount\": 0.0,\n",
      "        \"creationDate\": \"2019-08-23T18:00:29+02:00\",\n",
      "        \"encodedKey\": \"8a818f5f6cbe6621016cbf352ec55343\",\n",
      "        \"expireDate\": \"2020-08-23T00:00:00+02:00\",\n",
      "        \"exposureLimitType\": \"OUTSTANDING_AMOUNT\",\n",
      "        \"holderKey\": \"8a818f5f6cbe6621016cbf30b8095261\",\n",
      "        \"holderType\": \"CLIENT\",\n",
      "        \"id\": \"XNO057\",\n",
      "        \"lastModifiedDate\": \"2019-08-23T18:01:19+02:00\",\n",
      "        \"notes\": \"\",\n",
      "        \"startDate\": \"2019-08-23T00:00:00+02:00\",\n",
      "        \"state\": \"ACTIVE\"\n",
      "    }\n",
      "]\n"
     ]
    }
   ],
   "source": [
    "HEADERS = {'Accept': 'application/vnd.mambu.v2+json'}\n",
    "PARAMS = {'detailsLevel': 'FULL', 'paginationDetails': 'ON', 'limit': 10}\n",
    "r = GET('{{env4}}/creditarrangements', headers=HEADERS, params=PARAMS)\n",
    "PRINT(r)"
   ]
  },
  {
   "cell_type": "code",
   "execution_count": 94,
   "metadata": {},
   "outputs": [
    {
     "name": "stdout",
     "output_type": "stream",
     "text": [
      "API status: 200\n",
      "JSON Response:\n",
      "{\n",
      "    \"accountHolderKey\": \"8a818f5f6cbe6621016cbf30b8095261\",\n",
      "    \"accountHolderType\": \"CLIENT\",\n",
      "    \"accountState\": \"ACTIVE\",\n",
      "    \"accountType\": \"CURRENT_ACCOUNT\",\n",
      "    \"accruedAmounts\": {\n",
      "        \"interestAccrued\": 0.0,\n",
      "        \"overdraftInterestAccrued\": 0.0,\n",
      "        \"technicalOverdraftInterestAccrued\": 0.0\n",
      "    },\n",
      "    \"activationDate\": \"2019-08-24T12:24:14+02:00\",\n",
      "    \"approvedDate\": \"2019-08-24T12:22:23+02:00\",\n",
      "    \"assignedBranchKey\": \"8a818f5f6cbe6621016cbf217c9e5060\",\n",
      "    \"balances\": {\n",
      "        \"availableBalance\": 700.0,\n",
      "        \"feesDue\": 0.0,\n",
      "        \"holdBalance\": 0.0,\n",
      "        \"lockedBalance\": 0.0,\n",
      "        \"overdraftAmount\": 0.0,\n",
      "        \"overdraftInterestDue\": 0.0,\n",
      "        \"technicalOverdraftAmount\": 0.0,\n",
      "        \"technicalOverdraftInterestDue\": 0.0,\n",
      "        \"totalBalance\": 700.0\n",
      "    },\n",
      "    \"creationDate\": \"2019-08-24T12:17:43+02:00\",\n",
      "    \"creditArrangementKey\": \"8a818f5f6cbe6621016cbf352ec55343\",\n",
      "    \"currencyCode\": \"EUR\",\n",
      "    \"encodedKey\": \"8a818f9f6cc14d6e016cc2fcdbef4922\",\n",
      "    \"id\": \"HRIP331\",\n",
      "    \"interestSettings\": {\n",
      "        \"interestPaymentSettings\": {\n",
      "            \"interestPaymentDates\": []\n",
      "        }\n",
      "    },\n",
      "    \"internalControls\": {},\n",
      "    \"lastAccountAppraisalDate\": \"2019-08-27T00:00:51+02:00\",\n",
      "    \"lastModifiedDate\": \"2019-08-27T00:00:51+02:00\",\n",
      "    \"name\": \"Standard Current Account - With Overdraft\",\n",
      "    \"notes\": \"\",\n",
      "    \"overdraftInterestSettings\": {\n",
      "        \"interestRateSettings\": {\n",
      "            \"encodedKey\": \"8a818f9f6cc14d6e016cc2fcdbef4923\",\n",
      "            \"interestChargeFrequency\": \"ANNUALIZED\",\n",
      "            \"interestChargeFrequencyCount\": 1,\n",
      "            \"interestRate\": 24.9,\n",
      "            \"interestRateReviewCount\": 31,\n",
      "            \"interestRateReviewUnit\": \"DAYS\",\n",
      "            \"interestRateSource\": \"INDEX_INTEREST_RATE\",\n",
      "            \"interestRateTerms\": \"FIXED\",\n",
      "            \"interestRateTiers\": [],\n",
      "            \"interestSpread\": 0.0\n",
      "        }\n",
      "    },\n",
      "    \"overdraftSettings\": {\n",
      "        \"allowOverdraft\": true,\n",
      "        \"overdraftExpiryDate\": \"2020-05-02T00:00:00+02:00\",\n",
      "        \"overdraftLimit\": 0.0\n",
      "    },\n",
      "    \"productTypeKey\": \"8a818f5f6cbe6621016cbf4f2db95756\"\n",
      "}\n"
     ]
    }
   ],
   "source": [
    "HEADERS = {'Accept': 'application/vnd.mambu.v2+json'}\n",
    "# Parameters below set up pagination and only returns max 20\n",
    "PARAMS = {'detailsLevel': 'FULL', 'paginationDetails': 'ON','limit': 20}\n",
    "r = GET('{{env4}}/deposits/HRIP331', headers=HEADERS, params=PARAMS)\n",
    "PRINT(r)"
   ]
  },
  {
   "cell_type": "code",
   "execution_count": 178,
   "metadata": {},
   "outputs": [
    {
     "name": "stdout",
     "output_type": "stream",
     "text": [
      "API status: 200\n",
      "JSON Response:\n",
      "{\n",
      "    \"accountArrearsSettings\": {\n",
      "        \"dateCalculationMethod\": \"ACCOUNT_FIRST_WENT_TO_ARREARS\",\n",
      "        \"encodedKey\": \"8a818ece6cd2e07e016cd39ba9ad4f6a\",\n",
      "        \"nonWorkingDaysMethod\": \"EXCLUDED\",\n",
      "        \"toleranceCalculationMethod\": \"ARREARS_TOLERANCE_PERIOD\",\n",
      "        \"tolerancePeriod\": 0\n",
      "    },\n",
      "    \"accountHolderKey\": \"8a818ece6cd2e07e016cd33b94f40832\",\n",
      "    \"accountHolderType\": \"CLIENT\",\n",
      "    \"accountState\": \"PENDING_APPROVAL\",\n",
      "    \"accruedInterest\": 0.0,\n",
      "    \"accruedPenalty\": 0.0,\n",
      "    \"allowOffset\": false,\n",
      "    \"arrearsTolerancePeriod\": 0,\n",
      "    \"assets\": [],\n",
      "    \"assignedBranchKey\": \"8a818f156ccf5fb1016cd2e8e4532b09\",\n",
      "    \"balances\": {\n",
      "        \"feesBalance\": 0.0,\n",
      "        \"feesDue\": 0.0,\n",
      "        \"feesPaid\": 0.0,\n",
      "        \"holdBalance\": 0.0,\n",
      "        \"interestBalance\": 0.0,\n",
      "        \"interestDue\": 0.0,\n",
      "        \"interestFromArrearsBalance\": 0.0,\n",
      "        \"interestFromArrearsDue\": 0.0,\n",
      "        \"interestFromArrearsPaid\": 0.0,\n",
      "        \"interestPaid\": 0.0,\n",
      "        \"penaltyBalance\": 0.0,\n",
      "        \"penaltyDue\": 0.0,\n",
      "        \"penaltyPaid\": 0.0,\n",
      "        \"principalBalance\": 0.0,\n",
      "        \"principalDue\": 0.0,\n",
      "        \"principalPaid\": 0.0,\n",
      "        \"redrawBalance\": 0.0\n",
      "    },\n",
      "    \"creationDate\": \"2019-08-27T17:04:49+02:00\",\n",
      "    \"disbursementDetails\": {\n",
      "        \"encodedKey\": \"8a818ece6cd2e07e016cd399239e4f28\",\n",
      "        \"fees\": []\n",
      "    },\n",
      "    \"encodedKey\": \"8a818ece6cd2e07e016cd399239e4f26\",\n",
      "    \"fundingSources\": [],\n",
      "    \"futurePaymentsAcceptance\": \"NO_FUTURE_PAYMENTS\",\n",
      "    \"guarantors\": [],\n",
      "    \"id\": \"CVFJ335\",\n",
      "    \"interestFromArrearsAccrued\": 0.0,\n",
      "    \"interestSettings\": {\n",
      "        \"accrueInterestAfterMaturity\": false,\n",
      "        \"accrueLateInterest\": true,\n",
      "        \"interestApplicationMethod\": \"REPAYMENT_DUE_DATE\",\n",
      "        \"interestBalanceCalculationMethod\": \"ONLY_PRINCIPAL\",\n",
      "        \"interestCalculationMethod\": \"DECLINING_BALANCE\",\n",
      "        \"interestChargeFrequency\": \"ANNUALIZED\",\n",
      "        \"interestRate\": 24.9,\n",
      "        \"interestRateReviewCount\": 31,\n",
      "        \"interestRateReviewUnit\": \"DAYS\",\n",
      "        \"interestRateSource\": \"INDEX_INTEREST_RATE\",\n",
      "        \"interestSpread\": 0.0,\n",
      "        \"interestType\": \"SIMPLE_INTEREST\"\n",
      "    },\n",
      "    \"lastModifiedDate\": \"2019-08-27T17:04:49+02:00\",\n",
      "    \"latePaymentsRecalculationMethod\": \"OVERDUE_INSTALLMENTS_INCREASE\",\n",
      "    \"loanAmount\": 10000.0,\n",
      "    \"loanName\": \"Credit Card - Purchases Bucket\",\n",
      "    \"paymentMethod\": \"HORIZONTAL\",\n",
      "    \"penaltySettings\": {\n",
      "        \"loanPenaltyCalculationMethod\": \"NONE\"\n",
      "    },\n",
      "    \"prepaymentSettings\": {\n",
      "        \"applyInterestOnPrepaymentMethod\": \"AUTOMATIC\",\n",
      "        \"prepaymentRecalculationMethod\": \"NO_RECALCULATION\",\n",
      "        \"principalPaidInstallmentStatus\": \"PARTIALLY_PAID\"\n",
      "    },\n",
      "    \"principalPaymentSettings\": {\n",
      "        \"encodedKey\": \"8a818ece6cd2e07e016cd399239e4f27\",\n",
      "        \"includeFeesInFloorAmount\": false,\n",
      "        \"includeInterestInFloorAmount\": false,\n",
      "        \"percentage\": 3.0,\n",
      "        \"totalDuePayment\": \"TOTAL_BALANCE_PERCENTAGE\"\n",
      "    },\n",
      "    \"productTypeKey\": \"8a818f5f6cbe6621016cbf6d66075e54\",\n",
      "    \"scheduleSettings\": {\n",
      "        \"fixedDaysOfMonth\": [\n",
      "            1\n",
      "        ],\n",
      "        \"gracePeriod\": 0,\n",
      "        \"gracePeriodType\": \"NONE\",\n",
      "        \"hasCustomSchedule\": false,\n",
      "        \"paymentPlan\": [],\n",
      "        \"periodicPayment\": 0.0,\n",
      "        \"principalRepaymentInterval\": 1,\n",
      "        \"repaymentInstallments\": 0,\n",
      "        \"repaymentPeriodCount\": 0,\n",
      "        \"repaymentPeriodUnit\": \"DAYS\",\n",
      "        \"repaymentScheduleMethod\": \"DYNAMIC\",\n",
      "        \"scheduleDueDatesMethod\": \"FIXED_DAYS_OF_MONTH\",\n",
      "        \"shortMonthHandlingMethod\": \"LAST_DAY_IN_MONTH\"\n",
      "    },\n",
      "    \"tranches\": []\n",
      "}\n"
     ]
    }
   ],
   "source": [
    "\n",
    "HEADERS = {'Accept': 'application/vnd.mambu.v2+json'}\n",
    "# Parameters below set up pagination and only returns max 20\n",
    "PARAMS = {'detailsLevel': 'FULL', 'paginationDetails': 'ON','limit': 20}\n",
    "r = GET('{{env4}}/loans/CVFJ335', headers=HEADERS, params=PARAMS)\n",
    "PRINT(r)"
   ]
  },
  {
   "cell_type": "code",
   "execution_count": null,
   "metadata": {},
   "outputs": [],
   "source": []
  }
 ],
 "metadata": {
  "kernelspec": {
   "display_name": "Python 3",
   "language": "python",
   "name": "python3"
  },
  "language_info": {
   "codemirror_mode": {
    "name": "ipython",
    "version": 3
   },
   "file_extension": ".py",
   "mimetype": "text/x-python",
   "name": "python",
   "nbconvert_exporter": "python",
   "pygments_lexer": "ipython3",
   "version": "3.7.1"
  }
 },
 "nbformat": 4,
 "nbformat_minor": 2
}
