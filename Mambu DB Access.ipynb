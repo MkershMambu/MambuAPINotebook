{
 "cells": [
  {
   "cell_type": "code",
   "execution_count": 3,
   "metadata": {},
   "outputs": [],
   "source": [
    "%run ENV.py\n",
    "import mysql.connector"
   ]
  },
  {
   "cell_type": "code",
   "execution_count": 4,
   "metadata": {},
   "outputs": [],
   "source": [
    "\n",
    "\n",
    "cnx = mysql.connector.connect(user=DB['user'], password=DB['password'],\n",
    "                              host='localhost',\n",
    "                              database='mambu')\n",
    "\n"
   ]
  },
  {
   "cell_type": "code",
   "execution_count": 5,
   "metadata": {},
   "outputs": [
    {
     "name": "stdout",
     "output_type": "stream",
     "text": [
      "('Bob', 'Diamond')\n",
      "('MK1', 'Kershaw')\n",
      "('Currency', 'Tester')\n",
      "('Jim', 'Smith')\n",
      "('Alex', 'Yen')\n",
      "('Dominic', 'Smith')\n",
      "('Dominic', 'Giles22')\n",
      "('Mark', 'Kershaw')\n",
      "('Sharon', 'Kershaw')\n",
      "('Harry', 'Styles')\n",
      "('NewSME', 'Business')\n",
      "('MPO Test Cust1', 'Tester3334455')\n",
      "('MPO Test', 'James')\n"
     ]
    }
   ],
   "source": [
    "cursor = cnx.cursor()\n",
    "\n",
    "query = (\"SELECT FIRSTNAME, LASTNAME from CLIENT \")\n",
    "\n",
    "cursor.execute(query)\n",
    "\n",
    "for it in cursor:\n",
    "  print(it)"
   ]
  },
  {
   "cell_type": "code",
   "execution_count": 40,
   "metadata": {},
   "outputs": [],
   "source": [
    "cnx.close()"
   ]
  },
  {
   "cell_type": "code",
   "execution_count": 29,
   "metadata": {},
   "outputs": [
    {
     "name": "stdout",
     "output_type": "stream",
     "text": [
      "Overwriting SQLFILE\n"
     ]
    }
   ],
   "source": [
    "%%writefile SQLFILE\n",
    "CREATE TABLE table_name(\n",
    "   Field1 varchar(14) NOT NULL,\n",
    "   PRIMARY KEY( Field1 )\n",
    ");"
   ]
  },
  {
   "cell_type": "code",
   "execution_count": 30,
   "metadata": {},
   "outputs": [],
   "source": [
    "cursor = cnx.cursor()\n",
    "\n",
    "sqlToExec = readFile(\"SQLFILE\")\n",
    "query = (sqlToExec)\n",
    "\n",
    "cursor.execute(query)\n",
    "\n",
    "for it in cursor:\n",
    "  print(it)"
   ]
  },
  {
   "cell_type": "code",
   "execution_count": 38,
   "metadata": {},
   "outputs": [],
   "source": [
    "query = ('insert into table_name (Field1) values (\"three\")')\n",
    "\n",
    "cursor.execute(query)\n",
    "\n",
    "for it in cursor:\n",
    "  print(it)"
   ]
  },
  {
   "cell_type": "code",
   "execution_count": 39,
   "metadata": {},
   "outputs": [
    {
     "name": "stdout",
     "output_type": "stream",
     "text": [
      "('one',)\n",
      "('three',)\n",
      "('two',)\n"
     ]
    }
   ],
   "source": [
    "query = ('select * from table_name ')\n",
    "\n",
    "cursor.execute(query)\n",
    "\n",
    "for it in cursor:\n",
    "  print(it)"
   ]
  },
  {
   "cell_type": "code",
   "execution_count": 6,
   "metadata": {},
   "outputs": [],
   "source": [
    "cnx = mysql.connector.connect(user=DB['user'], password=DB['password'],\n",
    "                              host='localhost',\n",
    "                              database='world')\n",
    "cursor = cnx.cursor()"
   ]
  },
  {
   "cell_type": "code",
   "execution_count": 14,
   "metadata": {},
   "outputs": [],
   "source": [
    "cursor.execute('select Name, Continent, Population, LifeExpectancy, GNP from Country');\n",
    "rows = cursor.fetchall()\n",
    "\n",
    "country_names = []\n",
    "for it in rows:\n",
    "    country_names.append(it[0])\n"
   ]
  },
  {
   "cell_type": "code",
   "execution_count": 15,
   "metadata": {},
   "outputs": [],
   "source": [
    "import pandas as pd\n",
    "df = pd.DataFrame( [[ij for ij in i] for i in rows] )\n",
    "df.rename(columns={0: 'Name', 1: 'Continent', 2: 'Population', 3: 'LifeExpectancy', 4:'GNP'}, inplace=True)\n",
    "df = df.sort_values(['LifeExpectancy'], ascending=[1])"
   ]
  },
  {
   "cell_type": "code",
   "execution_count": 23,
   "metadata": {},
   "outputs": [
    {
     "data": {
      "text/html": [
       "<iframe id=\"igraph\" scrolling=\"no\" style=\"border:none;\" seamless=\"seamless\" src=\"https://plot.ly/~mkersh/6.embed\" height=\"525px\" width=\"100%\"></iframe>"
      ],
      "text/plain": [
       "<chart_studio.tools.PlotlyDisplay object>"
      ]
     },
     "execution_count": 23,
     "metadata": {},
     "output_type": "execute_result"
    }
   ],
   "source": [
    "import plotly.plotly as py\n",
    "from plotly.graph_objs import *\n",
    " \n",
    "trace1 = Scatter(\n",
    "     x=df['LifeExpectancy'],\n",
    "     y=df['GNP'],\n",
    "     text=country_names,\n",
    "     mode='markers'\n",
    ")\n",
    "layout = Layout(\n",
    "     xaxis=layout.XAxis( title='Life Expectancy' ),\n",
    "     yaxis=layout.YAxis( type='log', title='GNP' )\n",
    ")\n",
    "data = Data([trace1])\n",
    "fig = Figure(data=data, layout=layout)\n",
    "# py.iplot(fig, filename='world GNP vs life expectancy')\n",
    "py.iplot(fig)"
   ]
  },
  {
   "cell_type": "code",
   "execution_count": 19,
   "metadata": {},
   "outputs": [],
   "source": [
    "import plotly \n",
    "plotly.tools.set_credentials_file(username='mkersh', api_key='3tFdhtzmZrnfBu3eKKrq')"
   ]
  },
  {
   "cell_type": "code",
   "execution_count": 26,
   "metadata": {},
   "outputs": [
    {
     "data": {
      "text/html": [
       "<iframe id=\"igraph\" scrolling=\"no\" style=\"border:none;\" seamless=\"seamless\" src=\"https://plot.ly/~mkersh/12.embed\" height=\"525px\" width=\"100%\"></iframe>"
      ],
      "text/plain": [
       "<chart_studio.tools.PlotlyDisplay object>"
      ]
     },
     "execution_count": 26,
     "metadata": {},
     "output_type": "execute_result"
    }
   ],
   "source": [
    "import plotly.plotly as py\n",
    "import plotly.graph_objs as go\n",
    "\n",
    "trace0 = go.Scatter(\n",
    "    x=[1, 2, 3, 4, 5],\n",
    "    y=[10, 11, 12, 13, 14],\n",
    "    mode='markers',\n",
    "    marker=dict(\n",
    "        size=[40, 60, 80, 100, 20],\n",
    "    )\n",
    ")\n",
    "\n",
    "data = [trace0]\n",
    "py.iplot(data)"
   ]
  },
  {
   "cell_type": "code",
   "execution_count": 41,
   "metadata": {},
   "outputs": [
    {
     "data": {
      "text/html": [
       "<iframe id=\"igraph\" scrolling=\"no\" style=\"border:none;\" seamless=\"seamless\" src=\"https://plot.ly/~mkersh/20.embed\" height=\"525px\" width=\"100%\"></iframe>"
      ],
      "text/plain": [
       "<chart_studio.tools.PlotlyDisplay object>"
      ]
     },
     "execution_count": 41,
     "metadata": {},
     "output_type": "execute_result"
    }
   ],
   "source": [
    "import plotly.plotly as py\n",
    "from plotly.graph_objs import *\n",
    " \n",
    "trace1 = Scatter(\n",
    "     x=df['LifeExpectancy'],\n",
    "     y=df['GNP'],\n",
    "     text=country_names,\n",
    "     mode='markers',\n",
    "     marker=dict(\n",
    "        size=df['GNP']/100000,)\n",
    ")\n",
    "layout = Layout(\n",
    "     xaxis=layout.XAxis( title='Life Expectancy' ),\n",
    "     yaxis=layout.YAxis( type='log', title='GNP' )\n",
    ")\n",
    "data = Data([trace1])\n",
    "fig = Figure(data=data, layout=layout)\n",
    "# py.iplot(fig, filename='world GNP vs life expectancy')\n",
    "py.iplot(fig)"
   ]
  },
  {
   "cell_type": "code",
   "execution_count": 38,
   "metadata": {},
   "outputs": [
    {
     "data": {
      "text/plain": [
       "237       33.77\n",
       "143       28.91\n",
       "148       16.87\n",
       "238       59.51\n",
       "2         66.48\n",
       "35        48.34\n",
       "182       20.36\n",
       "201       12.06\n",
       "153       17.06\n",
       "151       31.01\n",
       "219       63.13\n",
       "36        10.54\n",
       "68        63.53\n",
       "42       113.45\n",
       "191        7.46\n",
       "80        23.52\n",
       "1         59.76\n",
       "211        0.00\n",
       "17         9.03\n",
       "194        9.35\n",
       "20        24.25\n",
       "138       26.42\n",
       "45        21.08\n",
       "111       92.17\n",
       "44        69.64\n",
       "83         2.93\n",
       "96        34.59\n",
       "65         0.60\n",
       "75        54.93\n",
       "19        23.57\n",
       "         ...   \n",
       "79         2.58\n",
       "106    11617.55\n",
       "37      5988.62\n",
       "104       82.55\n",
       "92      1664.48\n",
       "200     2264.92\n",
       "39      2644.78\n",
       "14      3511.82\n",
       "186      865.03\n",
       "109    37870.42\n",
       "193        5.10\n",
       "129       57.49\n",
       "5         16.30\n",
       "11         0.00\n",
       "12         0.00\n",
       "34         0.00\n",
       "38         0.00\n",
       "52         0.00\n",
       "71         0.00\n",
       "93         0.00\n",
       "100        0.00\n",
       "154        0.00\n",
       "157        0.00\n",
       "166        0.00\n",
       "187        0.00\n",
       "189        0.00\n",
       "209        0.00\n",
       "221        0.00\n",
       "225        0.09\n",
       "232        0.00\n",
       "Name: GNP, Length: 239, dtype: float64"
      ]
     },
     "execution_count": 38,
     "metadata": {},
     "output_type": "execute_result"
    }
   ],
   "source": [
    "df['GNP']/100"
   ]
  },
  {
   "cell_type": "code",
   "execution_count": 42,
   "metadata": {},
   "outputs": [
    {
     "data": {
      "text/plain": [
       "'3.8.1'"
      ]
     },
     "execution_count": 42,
     "metadata": {},
     "output_type": "execute_result"
    }
   ],
   "source": []
  },
  {
   "cell_type": "code",
   "execution_count": null,
   "metadata": {},
   "outputs": [],
   "source": []
  }
 ],
 "metadata": {
  "kernelspec": {
   "display_name": "Python 3",
   "language": "python",
   "name": "python3"
  },
  "language_info": {
   "codemirror_mode": {
    "name": "ipython",
    "version": 3
   },
   "file_extension": ".py",
   "mimetype": "text/x-python",
   "name": "python",
   "nbconvert_exporter": "python",
   "pygments_lexer": "ipython3",
   "version": "3.7.1"
  }
 },
 "nbformat": 4,
 "nbformat_minor": 2
}
