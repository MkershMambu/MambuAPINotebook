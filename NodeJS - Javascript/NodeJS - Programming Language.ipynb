{
 "cells": [
  {
   "cell_type": "markdown",
   "metadata": {},
   "source": [
    "<a id=\"section0\"></a>\n",
    "# Topics\n",
    "* [Install nodeJS for Jupyter notebooks](#section1)\n",
    "* [import NodeJS module](#section2)\n",
    "* [First simple nodeJS example](#section3)\n",
    "* [Functions](#section4)\n",
    "    * [Global named functions](#section4a)\n",
    "    * [Anonymous functions in Javascript](#section4b)"
   ]
  },
  {
   "cell_type": "markdown",
   "metadata": {},
   "source": [
    "[back](#section0)\n",
    "<a id=\"section1\"></a>\n",
    "## Install nodeJS for Jupyter notebooks\n",
    "You need to install the following python modules. This will then allow you to run nodeJS from within a Jupyter notebook.\n",
    "NOTE: This is a once only operation - you do NOT have to repeat this every time you use the notebook\n",
    "\n",
    "See [&lt;here&gt;](https://medium.com/codait/nodebooks-node-js-data-science-notebooks-aa140bea21ba) for more details"
   ]
  },
  {
   "cell_type": "code",
   "execution_count": null,
   "metadata": {},
   "outputs": [],
   "source": [
    "!pip install pixiedust\n",
    "!pip install pixiedust_node"
   ]
  },
  {
   "cell_type": "markdown",
   "metadata": {},
   "source": [
    "[back](#section0)\n",
    "<a id=\"section2\"></a>\n",
    "## import NodeJS module\n",
    "You need to do this everytime to start this notebook.\n",
    "This will then allow you to create cells that start with %%node, that indicates they are nodeJS cells"
   ]
  },
  {
   "cell_type": "code",
   "execution_count": 1,
   "metadata": {},
   "outputs": [
    {
     "name": "stdout",
     "output_type": "stream",
     "text": [
      "Pixiedust database opened successfully\n"
     ]
    },
    {
     "data": {
      "text/html": [
       "\n",
       "        <div style=\"margin:10px\">\n",
       "            <a href=\"https://github.com/ibm-watson-data-lab/pixiedust\" target=\"_new\">\n",
       "                <img src=\"https://github.com/ibm-watson-data-lab/pixiedust/raw/master/docs/_static/pd_icon32.png\" style=\"float:left;margin-right:10px\"/>\n",
       "            </a>\n",
       "            <span>Pixiedust version 1.1.18</span>\n",
       "        </div>\n",
       "        "
      ],
      "text/plain": [
       "<IPython.core.display.HTML object>"
      ]
     },
     "metadata": {},
     "output_type": "display_data"
    },
    {
     "data": {
      "text/html": [
       "\n",
       "            <div style=\"margin:10px\"> \n",
       "            <a href=\"https://github.com/ibm-cds-labs/pixiedust_node\" target=\"_new\"> \n",
       "            <img src=\"https://github.com/ibm-cds-labs/pixiedust_node/raw/master/docs/_images/pdn_icon32.png\" style=\"float:left;margin-right:10px\"/> \n",
       "            </a> \n",
       "            <span>Pixiedust Node.js</span> \n",
       "            </div> \n"
      ],
      "text/plain": [
       "<IPython.core.display.HTML object>"
      ]
     },
     "metadata": {},
     "output_type": "display_data"
    },
    {
     "name": "stdout",
     "output_type": "stream",
     "text": [
      "pixiedust_node 0.2.5 started. Cells starting '%%node' may contain Node.js code.\n"
     ]
    }
   ],
   "source": [
    "import pixiedust_node"
   ]
  },
  {
   "cell_type": "markdown",
   "metadata": {},
   "source": [
    "[back](#section0)\n",
    "<a id=\"section3\"></a>\n",
    "## First simple nodeJS example\n",
    "* Creates a date and prints it out\n",
    "* Then show that the variable is accessible into another cell"
   ]
  },
  {
   "cell_type": "code",
   "execution_count": 3,
   "metadata": {},
   "outputs": [
    {
     "name": "stdout",
     "output_type": "stream",
     "text": [
      "\"2020-05-09T07:56:38.142Z\"\n"
     ]
    }
   ],
   "source": [
    "%%node\n",
    "var date = new Date();\n",
    "print(date);"
   ]
  },
  {
   "cell_type": "code",
   "execution_count": 8,
   "metadata": {},
   "outputs": [
    {
     "name": "stdout",
     "output_type": "stream",
     "text": [
      "\"2020-05-09T07:56:38.142Z\"\n"
     ]
    }
   ],
   "source": [
    "%%node\n",
    "print(date)"
   ]
  },
  {
   "cell_type": "markdown",
   "metadata": {},
   "source": [
    "[back](#section0)\n",
    "<a id=\"section4\"></a>\n",
    "## Functions\n",
    "There are a number of ways to define functions in javascript"
   ]
  },
  {
   "cell_type": "markdown",
   "metadata": {},
   "source": [
    "[back](#section0)\n",
    "<a id=\"section4a\"></a>\n",
    "### Global function"
   ]
  },
  {
   "cell_type": "code",
   "execution_count": 19,
   "metadata": {},
   "outputs": [
    {
     "name": "stdout",
     "output_type": "stream",
     "text": [
      "... ...\n"
     ]
    }
   ],
   "source": [
    "%%node\n",
    "\n",
    "function namedFunction (param1){\n",
    "    print(param1)\n",
    "}"
   ]
  },
  {
   "cell_type": "code",
   "execution_count": 20,
   "metadata": {},
   "outputs": [
    {
     "name": "stdout",
     "output_type": "stream",
     "text": [
      "\"Test it\"\n"
     ]
    }
   ],
   "source": [
    "%%node\n",
    "\n",
    "namedFunction(\"Test it\");\n"
   ]
  },
  {
   "cell_type": "markdown",
   "metadata": {},
   "source": [
    "### Hiding functions in a closure\n",
    "Which doesn't seem to work. The inner declared function is still available globally"
   ]
  },
  {
   "cell_type": "code",
   "execution_count": 24,
   "metadata": {},
   "outputs": [
    {
     "name": "stdout",
     "output_type": "stream",
     "text": [
      "Uncaught\n",
      "... ...\n",
      "\"Only available within this closurenamedFunction2 called \"\n",
      "Uncaught\n"
     ]
    }
   ],
   "source": [
    "%%node\n",
    "function(){\n",
    "function namedFunction2 (param1){\n",
    "    print(\"Only available within this closure\" + param1)\n",
    "}\n",
    "namedFunction2(\"namedFunction2 called \")\n",
    "}();"
   ]
  },
  {
   "cell_type": "code",
   "execution_count": 26,
   "metadata": {},
   "outputs": [
    {
     "name": "stdout",
     "output_type": "stream",
     "text": [
      "\"Only available within this closurenamedFunction2 called \"\n"
     ]
    }
   ],
   "source": [
    "%%node\n",
    "namedFunction2(\"namedFunction2 called \")"
   ]
  },
  {
   "cell_type": "markdown",
   "metadata": {},
   "source": [
    "[back](#section0)\n",
    "<a id=\"section4b\"></a>\n",
    "### Anonymous functions in Javascript"
   ]
  },
  {
   "cell_type": "markdown",
   "metadata": {},
   "source": [
    "#### Method 1"
   ]
  },
  {
   "cell_type": "code",
   "execution_count": 30,
   "metadata": {},
   "outputs": [
    {
     "name": "stdout",
     "output_type": "stream",
     "text": [
      "\"Hello world!!\"\n"
     ]
    }
   ],
   "source": [
    "%%node\n",
    "var func = function (msg){print(msg)}\n",
    "\n",
    "func(\"Hello world!!\")"
   ]
  },
  {
   "cell_type": "markdown",
   "metadata": {},
   "source": [
    "#### Method 2\n",
    "Dropping the function keyword and using => instead\n",
    "\n",
    "Anonymous functions created using \"function\" v \"=>\" are not exactly the same.\n",
    "See [&lt;here&gt;](https://stackoverflow.com/questions/34361379/are-arrow-functions-and-functions-equivalent-exchangeable) for differences."
   ]
  },
  {
   "cell_type": "code",
   "execution_count": 32,
   "metadata": {},
   "outputs": [
    {
     "name": "stdout",
     "output_type": "stream",
     "text": [
      "\"Hello world!!\"\n"
     ]
    }
   ],
   "source": [
    "%%node\n",
    "var func2 = (msg)=>{print(msg)}\n",
    "\n",
    "func2(\"Hello world!!\")"
   ]
  },
  {
   "cell_type": "markdown",
   "metadata": {},
   "source": [
    "[back](#section0)\n",
    "<a id=\"section5\"></a>\n",
    "## Asynchronous v Synchronous\n",
    "Each javascipt COMPUTE node (i.e. VM) is a single-thread application.\n",
    "This means that any significant programs have to be written in an Asynchronous style.\n",
    "    \n",
    "An Asynchronous design allows for a single-threaded nodeJS program to have many tasks being performed \n",
    "at the same time without the need for multiple threads (like in other programming languages).\n",
    "\n",
    "This approach has proved to be very successful and other languages (like python) are not adding asynchronous support into their language. The main reason for the success if that an asynchronous program tends to be a lot more scalable than one written in other languages (that utilises multiple threads).\n",
    "\n",
    "The only issue is that writing and understanding asynchronous programs is harder than for synchronous programs.\n"
   ]
  },
  {
   "cell_type": "markdown",
   "metadata": {},
   "source": [
    "### 3 Methods for defining Asynchronous programs in Javascript"
   ]
  },
  {
   "cell_type": "markdown",
   "metadata": {},
   "source": [
    "#### Plain Javascript approach"
   ]
  },
  {
   "cell_type": "code",
   "execution_count": 40,
   "metadata": {},
   "outputs": [
    {
     "name": "stdout",
     "output_type": "stream",
     "text": [
      "... ... ... ... ... ...\n"
     ]
    }
   ],
   "source": [
    "%%node\n",
    "\n",
    "function asyncFunc1(callback) {\n",
    "    // console.log(\"asyncFunc1 start\");\n",
    "    // Do some work and then return result or error to the callback\n",
    "    result = \"Test result\"\n",
    "    callback(null,result)\n",
    "    return result\n",
    "}"
   ]
  },
  {
   "cell_type": "code",
   "execution_count": 46,
   "metadata": {},
   "outputs": [
    {
     "name": "stdout",
     "output_type": "stream",
     "text": [
      "Here 2\n",
      "\"received Test result\"\n"
     ]
    }
   ],
   "source": [
    "%%node\n",
    "//Use setTimeout to call the function asynchronously\n",
    "setTimeout(function(){asyncFunc1((err,data)=>{print(\"received \" + data)})}, 2000)\n",
    "console.log(\"Here 2\");"
   ]
  },
  {
   "cell_type": "markdown",
   "metadata": {},
   "source": [
    "#### Javascript Promises"
   ]
  },
  {
   "cell_type": "code",
   "execution_count": 5,
   "metadata": {},
   "outputs": [
    {
     "name": "stdout",
     "output_type": "stream",
     "text": [
      "... ... Uncaught\n",
      "immediate logging\n",
      "immediate logging2\n",
      "immediate logging3\n",
      "asynchronous logging has val: 777\n",
      "asynchronous logging has val2222: 777\n"
     ]
    }
   ],
   "source": [
    "%%node\n",
    "\n",
    "const promiseA = new Promise( (resolutionFunc,rejectionFunc) => {\n",
    "    resolutionFunc(777);\n",
    "});\n",
    "\n",
    "// At this point, \"promiseA\" is already settled.\n",
    "promiseA.then( (val) => console.log(\"asynchronous logging has val:\",val) );\n",
    "promiseA.then( (val) => console.log(\"asynchronous logging has val2222:\",val) );\n",
    "console.log(\"immediate logging\");\n",
    "console.log(\"immediate logging2\");\n",
    "console.log(\"immediate logging3\");"
   ]
  },
  {
   "cell_type": "code",
   "execution_count": 8,
   "metadata": {},
   "outputs": [
    {
     "name": "stdout",
     "output_type": "stream",
     "text": [
      "... ..... ..... ..... ..... ... ..... ..... ..... ... ...\n",
      "Exception caught Exception333\n"
     ]
    }
   ],
   "source": [
    "%%node\n",
    "\n",
    "promiseB = new Promise( (resolutionFunc,rejectionFunc) => {\n",
    "    try{\n",
    "        throw \"333\";\n",
    "        //resolutionFunc(111);\n",
    "        //rejectionFunc(888)\n",
    "    }\n",
    "    catch (err){\n",
    "        //console.log(\"In catch\")\n",
    "        rejectionFunc(\"Exception\"+err);\n",
    "    }\n",
    "                             \n",
    "});\n",
    "\n",
    "// It looks like you only get one catch with a promise\n",
    "promiseB.then( (val) => console.log(\"Resolved:\",val)).catch((val) => console.log(\"Exception caught\",val)).catch((val) => console.log(\"Exception caught 2222\",val));"
   ]
  },
  {
   "cell_type": "markdown",
   "metadata": {},
   "source": [
    "#### Chaining then actions to a promise\n",
    "Few things to observe in the next test:\n",
    "* You can't start chained lines with .then in this Jupyter notebook. Need to put . on previous line\n",
    "* then(...) need to return the next value to use"
   ]
  },
  {
   "cell_type": "code",
   "execution_count": 30,
   "metadata": {},
   "outputs": [
    {
     "name": "stdout",
     "output_type": "stream",
     "text": [
      "... ... ...\n",
      "Resolved: 777\n",
      "Resolved 2222: 1554\n",
      "Resolved 3333: 1554\n"
     ]
    }
   ],
   "source": [
    "%%node\n",
    "promiseA.then( (val) => {console.log(\"Resolved:\",val); return val*2} ).\n",
    "then( (val) => {console.log(\"Resolved 2222:\",val);return val}).\n",
    "then( (val) => {console.log(\"Resolved 3333:\",val);return val}).\n",
    "catch((val) => console.log(\"Exception caught\",val))"
   ]
  },
  {
   "cell_type": "markdown",
   "metadata": {},
   "source": [
    "#### async / await keywords\n",
    "\n",
    "These provide an alternative way to create asynchronous programs.\n",
    "An async function is a promise and can be used with promise attachments.\n",
    "\n",
    "An await into an async function is a non-blocking wait for the statement (which could be a promise to complete).\n",
    "\n",
    "They provide a way to define an asynchronous function in a more synchronous manner.\n"
   ]
  },
  {
   "cell_type": "code",
   "execution_count": 38,
   "metadata": {},
   "outputs": [
    {
     "name": "stdout",
     "output_type": "stream",
     "text": [
      "... ... ...\n"
     ]
    }
   ],
   "source": [
    "%%node\n",
    "async function testAsync1(msg){\n",
    "    await promiseA.then( (val) => {console.log(\"PromiseA:\",val); return val*2} );\n",
    "    return \"777: \" + msg\n",
    "}"
   ]
  },
  {
   "cell_type": "code",
   "execution_count": 39,
   "metadata": {},
   "outputs": [
    {
     "name": "stdout",
     "output_type": "stream",
     "text": [
      "PromiseA: 777\n",
      "Resolved 2222: 777: hello\n"
     ]
    }
   ],
   "source": [
    "%%node\n",
    "testAsync1(\"hello\").then((val) => {console.log(\"Resolved 2222:\",val);return val})"
   ]
  },
  {
   "cell_type": "code",
   "execution_count": 73,
   "metadata": {},
   "outputs": [
    {
     "name": "stdout",
     "output_type": "stream",
     "text": [
      "... ..... ..... ..... ..... ... ...\n",
      "... ..... ..... ...\n"
     ]
    }
   ],
   "source": [
    "%%node\n",
    "\n",
    "// You need to declare the i variable with local scope else the same global i will be shared across the 2 async functions\n",
    "// And the loops will not work as you expect\n",
    "async function testAsync2(){\n",
    "    for (var i = 0; i < 10; i++) {\n",
    "        // With the await infront this will relinquish control until the loop cycle\n",
    "        // Hence allowing other function to make progress\n",
    "        await console.log(\"testAsync2\", i)\n",
    "    }\n",
    "    return \"testAsync2 finished\"\n",
    "}\n",
    "\n",
    "async function testAsync3(){\n",
    "    for (var i = 0; i < 10; i++) {\n",
    "        await console.log(\"testAsync3\", i)\n",
    "    }\n",
    "}"
   ]
  },
  {
   "cell_type": "code",
   "execution_count": 78,
   "metadata": {},
   "outputs": [
    {
     "name": "stdout",
     "output_type": "stream",
     "text": [
      "testAsync2 0\n",
      "testAsync3 0\n",
      "testAsync2 1\n",
      "testAsync3 1\n",
      "testAsync2 2\n",
      "testAsync3 2\n",
      "testAsync2 3\n",
      "testAsync3 3\n",
      "testAsync2 4\n",
      "testAsync3 4\n",
      "testAsync2 5\n",
      "testAsync3 5\n",
      "testAsync2 6\n",
      "testAsync3 6\n",
      "testAsync2 7\n",
      "testAsync3 7\n",
      "testAsync2 8\n",
      "testAsync3 8\n",
      "testAsync2 9\n",
      "testAsync3 9\n"
     ]
    }
   ],
   "source": [
    "%%node\n",
    " testAsync2()\n",
    " testAsync3()\n"
   ]
  },
  {
   "cell_type": "code",
   "execution_count": null,
   "metadata": {},
   "outputs": [],
   "source": []
  }
 ],
 "metadata": {
  "kernelspec": {
   "display_name": "Python 3",
   "language": "python",
   "name": "python3"
  },
  "language_info": {
   "codemirror_mode": {
    "name": "ipython",
    "version": 3
   },
   "file_extension": ".py",
   "mimetype": "text/x-python",
   "name": "python",
   "nbconvert_exporter": "python",
   "pygments_lexer": "ipython3",
   "version": "3.7.1"
  }
 },
 "nbformat": 4,
 "nbformat_minor": 2
}
