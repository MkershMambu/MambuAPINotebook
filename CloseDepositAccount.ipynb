{
 "cells": [
  {
   "cell_type": "markdown",
   "metadata": {},
   "source": [
    "## Investigating problems closing a deposit account\n",
    "\n",
    "GitHub: https://github.com/MkershMambu/MambuAPINotebook/blob/master/CloseDepositAccount.ipynb\n",
    "\n",
    "Viewer: [https://nbviewer.jupyter.org/github/MkershMambu/MambuAPINotebook/blob/master/CloseDepositAccount.ipynb](https://nbviewer.jupyter.org/github/MkershMambu/MambuAPINotebook/blob/master/CloseDepositAccount.ipynb?flush_cache=true)"
   ]
  },
  {
   "cell_type": "code",
   "execution_count": 2,
   "metadata": {},
   "outputs": [],
   "source": [
    "%run API.py\n",
    "%run ENV.py\n",
    "from IPython.core.display import HTML\n",
    "setENV(ENV)"
   ]
  },
  {
   "cell_type": "markdown",
   "metadata": {},
   "source": [
    "### First lets create a new deposit account"
   ]
  },
  {
   "cell_type": "code",
   "execution_count": 92,
   "metadata": {},
   "outputs": [
    {
     "name": "stdout",
     "output_type": "stream",
     "text": [
      "Overwriting JSONBODY\n"
     ]
    }
   ],
   "source": [
    "%%writefile JSONBODY\n",
    "{\n",
    "  \"overdraftSettings\": {\n",
    "\t\"allowOverdraft\": true,\n",
    "\t\"overdraftLimit\": 0\n",
    "  },\n",
    "  \"accountType\": \"CURRENT_ACCOUNT\",\n",
    "  \"name\": \"MKCurTest222\",\n",
    "  \"accountHolderKey\": \"8a8186ac692678910169288509c606bc\",\n",
    "  \"productTypeKey\": \"8a8186aa69491c25016949888aeb10d2\",\n",
    "  \"currencyCode\": \"EUR\",\n",
    "  \"accountHolderType\": \"CLIENT\"\n",
    "}"
   ]
  },
  {
   "cell_type": "code",
   "execution_count": 93,
   "metadata": {},
   "outputs": [
    {
     "name": "stdout",
     "output_type": "stream",
     "text": [
      "API status:\n",
      "201\n",
      "Now the JSON:\n",
      "{\"encodedKey\":\"8a8187176a121bc2016a128877a501a4\",\"creationDate\":\"2019-04-12T19:11:34+02:00\",\"lastModifiedDate\":\"2019-04-12T19:11:34+02:00\",\"id\":\"VBHX672\",\"name\":\"MKCurTest222\",\"accountHolderType\":\"CLIENT\",\"accountHolderKey\":\"8a8186ac692678910169288509c606bc\",\"accountState\":\"PENDING_APPROVAL\",\"productTypeKey\":\"8a8186aa69491c25016949888aeb10d2\",\"accountType\":\"CURRENT_ACCOUNT\",\"currencyCode\":\"EUR\",\"assignedBranchKey\":\"8a8186ac692678910169287cf43606af\",\"internalControls\":{},\"overdraftSettings\":{\"allowOverdraft\":true,\"overdraftLimit\":0},\"interestSettings\":{\"interestPaymentSettings\":{\"interestPaymentDates\":[]}},\"overdraftInterestSettings\":{\"interestRateSettings\":{\"encodedKey\":\"8a8187176a121bc2016a128877a501a5\",\"interestRate\":0E-20,\"interestChargeFrequency\":\"ANNUALIZED\",\"interestChargeFrequencyCount\":1,\"interestRateTiers\":[],\"interestRateTerms\":\"FIXED\",\"interestRateSource\":\"FIXED_INTEREST_RATE\"}},\"balances\":{\"overdraftAmount\":0,\"technicalOverdraftAmount\":0,\"lockedBalance\":0,\"availableBalance\":0,\"holdBalance\":0,\"overdraftInterestDue\":0,\"technicalOverdraftInterestDue\":0,\"feesDue\":0},\"accruedAmounts\":{\"interestAccrued\":0,\"overdraftInterestAccrued\":0,\"technicalOverdraftInterestAccrued\":0}}\n"
     ]
    }
   ],
   "source": [
    "HEADERS = {'Accept': 'application/vnd.mambu.v2+json','Content-Type': 'application/json'}\n",
    "PARAMS = {}\n",
    "r = POST('{{env1}}/deposits', headers=HEADERS, params=PARAMS, body=\"JSONBODY\")\n",
    "print (\"API status:\")\n",
    "print(r.status_code)\n",
    "print(\"Now the JSON:\")\n",
    "print(r.text)\n",
    "encodedKey = r.json()['encodedKey']"
   ]
  },
  {
   "cell_type": "markdown",
   "metadata": {},
   "source": [
    "### Deposit money into the account"
   ]
  },
  {
   "cell_type": "code",
   "execution_count": 94,
   "metadata": {},
   "outputs": [
    {
     "name": "stdout",
     "output_type": "stream",
     "text": [
      "Overwriting JSONBODY\n"
     ]
    }
   ],
   "source": [
    "%%writefile JSONBODY\n",
    "{\n",
    "  \"transactionDetails\": {\n",
    "    \"transactionChannelId\": \"8a818e74677a2e9201677ec2b4c336a6\"\n",
    "  },\n",
    "  \"amount\": 500,\n",
    "  \"notes\": \"some notes\",\n",
    "  \"paymentOrderId\": \"MK1204_1\",\n",
    "  \"externalId\": \"MK1204_1\"\n",
    "}"
   ]
  },
  {
   "cell_type": "code",
   "execution_count": 95,
   "metadata": {},
   "outputs": [
    {
     "name": "stdout",
     "output_type": "stream",
     "text": [
      "API status:\n",
      "400\n",
      "Now the JSON:\n",
      "{\"errors\":[{\"errorCode\":3305,\"errorReason\":\"EXTERNAL_ID_ALREADY_EXISTS\"}]}\n"
     ]
    }
   ],
   "source": [
    "\n",
    "HEADERS = {'Accept': 'application/vnd.mambu.v2+json','Content-Type': 'application/json'}\n",
    "PARAMS = {}\n",
    "url = \"{{env1}}\" + \"/deposits/{0}/deposit-transactions\".format(encodedKey)\n",
    "r = POST(url, headers=HEADERS, params=PARAMS, body=\"JSONBODY\")\n",
    "print (\"API status:\")\n",
    "print(r.status_code)\n",
    "print(\"Now the JSON:\")\n",
    "print(r.text)"
   ]
  },
  {
   "cell_type": "markdown",
   "metadata": {},
   "source": [
    "### We need to approve the deposit account before we can deposit into it"
   ]
  },
  {
   "cell_type": "code",
   "execution_count": 96,
   "metadata": {},
   "outputs": [
    {
     "name": "stdout",
     "output_type": "stream",
     "text": [
      "Overwriting JSONBODY\n"
     ]
    }
   ],
   "source": [
    "%%writefile JSONBODY\n",
    "{\n",
    "  \"action\": \"APPROVE\",\n",
    "  \"notes\": \"more notes\"\n",
    "}"
   ]
  },
  {
   "cell_type": "code",
   "execution_count": 97,
   "metadata": {},
   "outputs": [
    {
     "name": "stdout",
     "output_type": "stream",
     "text": [
      "API status:\n",
      "200\n",
      "Now the JSON:\n",
      "{\"encodedKey\":\"8a8187176a121bc2016a128877a501a4\",\"creationDate\":\"2019-04-12T19:11:34+02:00\",\"lastModifiedDate\":\"2019-04-12T19:11:49+02:00\",\"id\":\"VBHX672\",\"name\":\"MKCurTest222\",\"accountHolderType\":\"CLIENT\",\"accountHolderKey\":\"8a8186ac692678910169288509c606bc\",\"accountState\":\"APPROVED\",\"productTypeKey\":\"8a8186aa69491c25016949888aeb10d2\",\"accountType\":\"CURRENT_ACCOUNT\",\"approvedDate\":\"2019-04-12T19:11:49+02:00\",\"currencyCode\":\"EUR\",\"assignedBranchKey\":\"8a8186ac692678910169287cf43606af\",\"internalControls\":{},\"overdraftSettings\":{\"allowOverdraft\":true,\"overdraftLimit\":0E-10},\"interestSettings\":{\"interestPaymentSettings\":{\"interestPaymentDates\":[]}},\"overdraftInterestSettings\":{\"interestRateSettings\":{\"encodedKey\":\"8a8187176a121bc2016a128877a501a5\",\"interestRate\":0E-20,\"interestChargeFrequency\":\"ANNUALIZED\",\"interestChargeFrequencyCount\":1,\"interestRateTiers\":[],\"interestRateTerms\":\"FIXED\",\"interestRateSource\":\"FIXED_INTEREST_RATE\"}},\"balances\":{\"overdraftAmount\":0E-10,\"technicalOverdraftAmount\":0E-10,\"lockedBalance\":0E-10,\"availableBalance\":0E-10,\"holdBalance\":0E-10,\"overdraftInterestDue\":0E-10,\"technicalOverdraftInterestDue\":0E-10,\"feesDue\":0E-10},\"accruedAmounts\":{\"interestAccrued\":0E-10,\"overdraftInterestAccrued\":0E-10,\"technicalOverdraftInterestAccrued\":0E-10}}\n"
     ]
    }
   ],
   "source": [
    "HEADERS = {'Accept': 'application/vnd.mambu.v2+json','Content-Type': 'application/json'}\n",
    "PARAMS = {}\n",
    "url = \"{{env1}}\" + \"/deposits/{0}:changeState\".format(encodedKey)\n",
    "r = POST(url, headers=HEADERS, params=PARAMS, body=\"JSONBODY\")\n",
    "print (\"API status:\")\n",
    "print(r.status_code)\n",
    "print(\"Now the JSON:\")\n",
    "print(r.text)"
   ]
  },
  {
   "cell_type": "markdown",
   "metadata": {},
   "source": [
    "### Now we should be able to deposit"
   ]
  },
  {
   "cell_type": "code",
   "execution_count": 100,
   "metadata": {},
   "outputs": [
    {
     "name": "stdout",
     "output_type": "stream",
     "text": [
      "Overwriting JSONBODY\n"
     ]
    }
   ],
   "source": [
    "%%writefile JSONBODY\n",
    "{\n",
    "  \"transactionDetails\": {\n",
    "    \"transactionChannelId\": \"8a818e74677a2e9201677ec2b4c336a6\"\n",
    "  },\n",
    "  \"amount\": 500,\n",
    "  \"notes\": \"some notes\",\n",
    "  \"paymentOrderId\": \"MK1204_6\",\n",
    "  \"externalId\": \"MK1204_7\"\n",
    "}"
   ]
  },
  {
   "cell_type": "code",
   "execution_count": 101,
   "metadata": {},
   "outputs": [
    {
     "name": "stdout",
     "output_type": "stream",
     "text": [
      "API status:\n",
      "201\n",
      "Now the JSON:\n",
      "{\"encodedKey\":\"8a8187176a121bc2016a128877a501a8\",\"id\":\"92\",\"externalId\":\"MK1204_7\",\"paymentOrderId\":\"MK1204_6\",\"creationDate\":\"2019-04-12T19:12:14+02:00\",\"valueDate\":\"2019-04-12T19:12:14+02:00\",\"notes\":\"some notes\",\"parentAccountKey\":\"8a8187176a121bc2016a128877a501a4\",\"type\":\"DEPOSIT\",\"amount\":500,\"currencyCode\":\"EUR\",\"affectedAmounts\":{\"fundsAmount\":500.0000000000,\"interestAmount\":0,\"feesAmount\":0,\"overdraftAmount\":0E-10,\"overdraftFeesAmount\":0E-10,\"overdraftInterestAmount\":0E-10,\"technicalOverdraftAmount\":0E-10,\"technicalOverdraftInterestAmount\":0E-10,\"fractionAmount\":0},\"taxes\":{},\"accountBalances\":{\"totalBalance\":500.0000000000},\"userKey\":\"8a8186ac69267891016928db604e0735\",\"branchKey\":\"8a8186ac692678910169287cf43606af\",\"terms\":{\"interestSettings\":{},\"overdraftInterestSettings\":{\"interestRate\":0E-20},\"overdraftSettings\":{\"overdraftLimit\":0E-10}},\"transactionDetails\":{\"transactionChannelKey\":\"8a818e74677a2e9201677ec2b4c336a6\",\"transactionChannelId\":\"cash\"},\"transferDetails\":{},\"fees\":[]}\n"
     ]
    }
   ],
   "source": [
    "HEADERS = {'Accept': 'application/vnd.mambu.v2+json','Content-Type': 'application/json'}\n",
    "PARAMS = {}\n",
    "url = \"{{env1}}\" + \"/deposits/{0}/deposit-transactions\".format(encodedKey)\n",
    "r = POST(url, headers=HEADERS, params=PARAMS, body=\"JSONBODY\")\n",
    "print (\"API status:\")\n",
    "print(r.status_code)\n",
    "print(\"Now the JSON:\")\n",
    "print(r.text)"
   ]
  },
  {
   "cell_type": "markdown",
   "metadata": {},
   "source": [
    "### Now let's see if we can DELETE"
   ]
  },
  {
   "cell_type": "code",
   "execution_count": 102,
   "metadata": {},
   "outputs": [
    {
     "name": "stdout",
     "output_type": "stream",
     "text": [
      "API status:\n",
      "400\n",
      "Now the JSON:\n",
      "{\"errors\":[{\"errorCode\":105,\"errorReason\":\"INVALID_ACCOUNT_STATE\"}]}\n"
     ]
    }
   ],
   "source": [
    "\n",
    "HEADERS = {'Accept': 'application/vnd.mambu.v2+json','Content-Type': 'application/json'}\n",
    "PARAMS = {}\n",
    "url = \"{{env1}}\" + \"/deposits/{0}\".format(encodedKey)\n",
    "r = DELETE(url, headers=HEADERS, params=PARAMS)\n",
    "print (\"API status:\")\n",
    "print(r.status_code)\n",
    "print(\"Now the JSON:\")\n",
    "print(r.text)"
   ]
  },
  {
   "cell_type": "markdown",
   "metadata": {},
   "source": [
    "### Get Account in a state where we can DELETE\n",
    "\n",
    "You can't delete whilst there are funds in the account. So Let's change balance to 0"
   ]
  },
  {
   "cell_type": "code",
   "execution_count": 103,
   "metadata": {},
   "outputs": [
    {
     "name": "stdout",
     "output_type": "stream",
     "text": [
      "Overwriting JSONBODY\n"
     ]
    }
   ],
   "source": [
    "%%writefile JSONBODY\n",
    "{\n",
    "  \"transactionDetails\": {\n",
    "    \"transactionChannelId\": \"8a818e74677a2e9201677ec2b4c336a6\"\n",
    "  },\n",
    "  \"amount\": 500,\n",
    "  \"notes\": \"some notes\",\n",
    "  \"paymentOrderId\": \"MK1204_9\",\n",
    "  \"externalId\": \"MK1204_91\"\n",
    "}"
   ]
  },
  {
   "cell_type": "code",
   "execution_count": 104,
   "metadata": {},
   "outputs": [
    {
     "name": "stdout",
     "output_type": "stream",
     "text": [
      "API status:\n",
      "201\n",
      "Now the JSON:\n",
      "{\"encodedKey\":\"8a8186656a125bbb016a126f4dc80058\",\"id\":\"93\",\"externalId\":\"MK1204_91\",\"paymentOrderId\":\"MK1204_9\",\"creationDate\":\"2019-04-12T19:12:35+02:00\",\"valueDate\":\"2019-04-12T19:12:35+02:00\",\"notes\":\"some notes\",\"parentAccountKey\":\"8a8187176a121bc2016a128877a501a4\",\"type\":\"WITHDRAWAL\",\"amount\":-500,\"currencyCode\":\"EUR\",\"affectedAmounts\":{\"fundsAmount\":500.0000000000,\"interestAmount\":0,\"feesAmount\":0,\"overdraftAmount\":0E-10,\"overdraftFeesAmount\":0,\"overdraftInterestAmount\":0,\"technicalOverdraftAmount\":0E-10,\"technicalOverdraftInterestAmount\":0,\"fractionAmount\":0},\"taxes\":{},\"accountBalances\":{\"totalBalance\":0E-10},\"userKey\":\"8a8186ac69267891016928db604e0735\",\"branchKey\":\"8a8186ac692678910169287cf43606af\",\"terms\":{\"interestSettings\":{},\"overdraftInterestSettings\":{},\"overdraftSettings\":{}},\"transactionDetails\":{\"transactionChannelKey\":\"8a818e74677a2e9201677ec2b4c336a6\",\"transactionChannelId\":\"cash\"},\"transferDetails\":{},\"fees\":[]}\n"
     ]
    }
   ],
   "source": [
    "HEADERS = {'Accept': 'application/vnd.mambu.v2+json','Content-Type': 'application/json'}\n",
    "PARAMS = {}\n",
    "url = \"{{env1}}\" + \"/deposits/{0}/withdrawal-transactions\".format(encodedKey)\n",
    "r = POST(url, headers=HEADERS, params=PARAMS, body=\"JSONBODY\")\n",
    "print (\"API status:\")\n",
    "print(r.status_code)\n",
    "print(\"Now the JSON:\")\n",
    "print(r.text)"
   ]
  },
  {
   "cell_type": "markdown",
   "metadata": {},
   "source": [
    "### Now let's see if we can DELETE now"
   ]
  },
  {
   "cell_type": "code",
   "execution_count": 105,
   "metadata": {},
   "outputs": [
    {
     "name": "stdout",
     "output_type": "stream",
     "text": [
      "API status:\n",
      "400\n",
      "Now the JSON:\n",
      "{\"errors\":[{\"errorCode\":105,\"errorReason\":\"INVALID_ACCOUNT_STATE\"}]}\n"
     ]
    }
   ],
   "source": [
    "HEADERS = {'Accept': 'application/vnd.mambu.v2+json','Content-Type': 'application/json'}\n",
    "PARAMS = {}\n",
    "url = \"{{env1}}\" + \"/deposits/{0}\".format(encodedKey)\n",
    "r = DELETE(url, headers=HEADERS, params=PARAMS)\n",
    "print (\"API status:\")\n",
    "print(r.status_code)\n",
    "print(\"Now the JSON:\")\n",
    "print(r.text)"
   ]
  },
  {
   "cell_type": "markdown",
   "metadata": {},
   "source": [
    "No we can't DELETE. Once account has been approved and had activity on it you can no longer DELETE.\n",
    "See [https://support.mambu.com/docs/deposit-accounts-life-cycle-and-states](https://support.mambu.com/docs/deposit-accounts-life-cycle-and-states)\n",
    "\n",
    "We can certainly close from the Mambu UI and this changes \"accountState\": \"CLOSED\".\n",
    "\n",
    "Can we change state to closed using \"/deposits/{depositID}:changeState\" function?\n",
    "* No the only actions that you can pass to this are (APPROVE, UNDO_APPROVE, LOCK) See [here](https://api.mambu.com/#tocSdepositaccountaction)\n",
    "* Can we update the account (with a PUT). No See below"
   ]
  },
  {
   "cell_type": "code",
   "execution_count": 60,
   "metadata": {},
   "outputs": [
    {
     "name": "stdout",
     "output_type": "stream",
     "text": [
      "Overwriting JSONBODY\n"
     ]
    }
   ],
   "source": [
    "%%writefile JSONBODY\n",
    "{\n",
    "    \"accountHolderKey\": \"8a8186ac692678910169288509c606bc\",\n",
    "    \"accountHolderType\": \"CLIENT\",\n",
    "    \"accountState\": \"CLOSED\",\n",
    "    \"accountType\": \"CURRENT_ACCOUNT\",\n",
    "    \"accruedAmounts\": {\n",
    "        \"interestAccrued\": 0.0,\n",
    "        \"overdraftInterestAccrued\": 0.0,\n",
    "        \"technicalOverdraftInterestAccrued\": 0.0\n",
    "    },\n",
    "    \"activationDate\": \"2019-04-12T18:44:57+02:00\",\n",
    "    \"approvedDate\": \"2019-04-12T18:44:22+02:00\",\n",
    "    \"assignedBranchKey\": \"8a8186ac692678910169287cf43606af\",\n",
    "    \"balances\": {\n",
    "        \"availableBalance\": 0.0,\n",
    "        \"feesDue\": 0.0,\n",
    "        \"holdBalance\": 0.0,\n",
    "        \"lockedBalance\": 0.0,\n",
    "        \"overdraftAmount\": 0.0,\n",
    "        \"overdraftInterestDue\": 0.0,\n",
    "        \"technicalOverdraftAmount\": 0.0,\n",
    "        \"technicalOverdraftInterestDue\": 0.0\n",
    "    },\n",
    "    \"creationDate\": \"2019-04-12T18:44:05+02:00\",\n",
    "    \"currencyCode\": \"EUR\",\n",
    "    \"encodedKey\": \"8a8186656a125bbb016a126f4dc80055\",\n",
    "    \"id\": \"BSGX467\",\n",
    "    \"interestSettings\": {\n",
    "        \"interestPaymentSettings\": {\n",
    "            \"interestPaymentDates\": []\n",
    "        }\n",
    "    },\n",
    "    \"internalControls\": {},\n",
    "    \"lastModifiedDate\": \"2019-04-12T18:45:39+02:00\",\n",
    "    \"name\": \"MKCurTest222\",\n",
    "    \"overdraftInterestSettings\": {\n",
    "        \"interestRateSettings\": {\n",
    "            \"encodedKey\": \"8a8186656a125bbb016a126f4dc80056\",\n",
    "            \"interestChargeFrequency\": \"ANNUALIZED\",\n",
    "            \"interestChargeFrequencyCount\": 1,\n",
    "            \"interestRate\": 0.0,\n",
    "            \"interestRateSource\": \"FIXED_INTEREST_RATE\",\n",
    "            \"interestRateTerms\": \"FIXED\",\n",
    "            \"interestRateTiers\": []\n",
    "        }\n",
    "    },\n",
    "    \"overdraftSettings\": {\n",
    "        \"allowOverdraft\": true,\n",
    "        \"overdraftLimit\": 0.0\n",
    "    },\n",
    "    \"productTypeKey\": \"8a8186aa69491c25016949888aeb10d2\"\n",
    "}"
   ]
  },
  {
   "cell_type": "code",
   "execution_count": 61,
   "metadata": {},
   "outputs": [
    {
     "name": "stdout",
     "output_type": "stream",
     "text": [
      "API status:\n",
      "400\n",
      "Now the JSON:\n",
      "{\"errors\":[{\"errorCode\":2813,\"errorSource\":\"The account state cannot be changed\",\"errorReason\":\"DEPOSIT_ACCOUNT_FIELD_NOT_EDITABLE\"}]}\n"
     ]
    }
   ],
   "source": [
    "HEADERS = {'Accept': 'application/vnd.mambu.v2+json','Content-Type': 'application/json'}\n",
    "PARAMS = {}\n",
    "url = \"{{env1}}\" + \"/deposits/{0}\".format(encodedKey)\n",
    "r = PUT(url, headers=HEADERS, params=PARAMS, body=\"JSONBODY\")\n",
    "print (\"API status:\")\n",
    "print(r.status_code)\n",
    "print(\"Now the JSON:\")\n",
    "print(r.text)"
   ]
  },
  {
   "cell_type": "markdown",
   "metadata": {},
   "source": [
    "### Can we PATCH to make the change"
   ]
  },
  {
   "cell_type": "code",
   "execution_count": 79,
   "metadata": {},
   "outputs": [
    {
     "name": "stdout",
     "output_type": "stream",
     "text": [
      "Overwriting JSONBODY\n"
     ]
    }
   ],
   "source": [
    "%%writefile JSONBODY\n",
    "[\n",
    "  {\n",
    "    \"op\": \"REPLACE\",\n",
    "    \"path\": \"accountState\",\n",
    "    \"value\": \"CLOSED\"\n",
    "  }\n",
    "]"
   ]
  },
  {
   "cell_type": "code",
   "execution_count": 80,
   "metadata": {},
   "outputs": [
    {
     "name": "stdout",
     "output_type": "stream",
     "text": [
      "API status:\n",
      "400\n",
      "Now the JSON:\n",
      "{\"errors\":[{\"errorCode\":2001,\"errorSource\":\"Field cannot be patched: /accountState\",\"errorReason\":\"FIELD_NOT_ALLOWED\"}]}\n"
     ]
    }
   ],
   "source": [
    "HEADERS = {'Accept': 'application/vnd.mambu.v2+json','Content-Type': 'application/json'}\n",
    "PARAMS = {}\n",
    "url = \"{{env1}}\" + \"/deposits/{0}\".format(encodedKey)\n",
    "r = PATCH(url, headers=HEADERS, params=PARAMS, body=\"JSONBODY\")\n",
    "print (\"API status:\")\n",
    "print(r.status_code)\n",
    "print(\"Now the JSON:\")\n",
    "print(r.text)"
   ]
  },
  {
   "cell_type": "markdown",
   "metadata": {},
   "source": [
    "Testing that my PATCH works for other attributes\n",
    "\n",
    "It does I tested with the following:"
   ]
  },
  {
   "cell_type": "code",
   "execution_count": 77,
   "metadata": {},
   "outputs": [
    {
     "name": "stdout",
     "output_type": "stream",
     "text": [
      "Overwriting JSONBODY\n"
     ]
    }
   ],
   "source": [
    "%%writefile JSONBODY\n",
    "[\n",
    "  {\n",
    "    \"op\": \"REPLACE\",\n",
    "    \"path\": \"name\",\n",
    "    \"value\": \"MKCurTest222YYYYY\"\n",
    "  }\n",
    "]"
   ]
  },
  {
   "cell_type": "markdown",
   "metadata": {},
   "source": [
    "### Is there anything in API 1.0 to do this \n",
    "[https://support.mambu.com/docs/savings-products-api](https://support.mambu.com/docs/savings-products-api)\n",
    "\n",
    "Nothing obvious. Let's to try a DELETE in API 1.0 to see if it behaves differently thena API 2.0"
   ]
  },
  {
   "cell_type": "code",
   "execution_count": 106,
   "metadata": {},
   "outputs": [
    {
     "name": "stdout",
     "output_type": "stream",
     "text": [
      "API status:\n",
      "400\n",
      "Now the JSON:\n",
      "{\"returnCode\":416,\"returnStatus\":\"INVALID_SAVINGS_ACCOUNT_STATE_TRANSITION\"}\n"
     ]
    }
   ],
   "source": [
    "HEADERS = {}\n",
    "PARAMS = {}\n",
    "url = \"{{env1}}\" + \"/savings/{0}\".format(encodedKey)\n",
    "r = DELETE(url, headers=HEADERS, params=PARAMS)\n",
    "print (\"API status:\")\n",
    "print(r.status_code)\n",
    "print(\"Now the JSON:\")\n",
    "print(r.text)"
   ]
  },
  {
   "cell_type": "code",
   "execution_count": null,
   "metadata": {},
   "outputs": [],
   "source": []
  },
  {
   "cell_type": "code",
   "execution_count": null,
   "metadata": {},
   "outputs": [],
   "source": []
  },
  {
   "cell_type": "code",
   "execution_count": null,
   "metadata": {},
   "outputs": [],
   "source": []
  },
  {
   "cell_type": "code",
   "execution_count": null,
   "metadata": {},
   "outputs": [],
   "source": []
  },
  {
   "cell_type": "code",
   "execution_count": null,
   "metadata": {},
   "outputs": [],
   "source": []
  },
  {
   "cell_type": "code",
   "execution_count": null,
   "metadata": {},
   "outputs": [],
   "source": []
  },
  {
   "cell_type": "markdown",
   "metadata": {},
   "source": [
    "### Call to check the current state of the Account"
   ]
  },
  {
   "cell_type": "code",
   "execution_count": 91,
   "metadata": {},
   "outputs": [
    {
     "name": "stdout",
     "output_type": "stream",
     "text": [
      "API status: 404\n",
      "JSON Response:\n",
      "{\n",
      "    \"errors\": [\n",
      "        {\n",
      "            \"errorCode\": 428,\n",
      "            \"errorReason\": \"INVALID_DEPOSIT_ACCOUNT_ID\"\n",
      "        }\n",
      "    ]\n",
      "}\n"
     ]
    }
   ],
   "source": [
    "HEADERS = {'Accept': 'application/vnd.mambu.v2+json'}\n",
    "# Parameters below set up pagination and only returns max 20\n",
    "# url = \"{{env1}}/deposits/NSUX690\"\n",
    "url = \"{{env1}}\" + \"/deposits/{0}\".format(encodedKey)\n",
    "PARAMS = {'detailsLevel': 'FULL', 'paginationDetails': 'ON','limit': 20}\n",
    "r = GET(url, headers=HEADERS, params=PARAMS)\n",
    "PRINT(r)"
   ]
  },
  {
   "cell_type": "code",
   "execution_count": null,
   "metadata": {},
   "outputs": [],
   "source": []
  }
 ],
 "metadata": {
  "kernelspec": {
   "display_name": "Python 3",
   "language": "python",
   "name": "python3"
  },
  "language_info": {
   "codemirror_mode": {
    "name": "ipython",
    "version": 3
   },
   "file_extension": ".py",
   "mimetype": "text/x-python",
   "name": "python",
   "nbconvert_exporter": "python",
   "pygments_lexer": "ipython3",
   "version": "3.7.1"
  }
 },
 "nbformat": 4,
 "nbformat_minor": 2
}
