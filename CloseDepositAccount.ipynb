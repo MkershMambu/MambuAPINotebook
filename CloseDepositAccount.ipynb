{
 "cells": [
  {
   "cell_type": "markdown",
   "metadata": {},
   "source": [
    "## Investigating problems closing a deposit account\n",
    "\n",
    "GitHub: https://github.com/MkershMambu/MambuAPINotebook/blob/master/CloseDepositAccount.ipynb\n",
    "\n",
    "Viewer: [https://nbviewer.jupyter.org/github/MkershMambu/MambuAPINotebook/blob/master/CloseDepositAccount.ipynb](https://nbviewer.jupyter.org/github/MkershMambu/MambuAPINotebook/blob/master/CloseDepositAccount.ipynb?flush_cache=true)\n",
    "\n",
    "The below is my investigation to duplicate the problem, attempt to find a way to do it with API 2.0 and finally to the solution using an API 1.0 functions.\n",
    "\n",
    "**To jump straight to the solution [Click Here](#solution)**"
   ]
  },
  {
   "cell_type": "code",
   "execution_count": 177,
   "metadata": {},
   "outputs": [],
   "source": [
    "%run API.py\n",
    "%run ENV.py\n",
    "from IPython.core.display import HTML\n",
    "setENV(ENV)"
   ]
  },
  {
   "cell_type": "markdown",
   "metadata": {},
   "source": [
    "### First lets create a new deposit account"
   ]
  },
  {
   "cell_type": "code",
   "execution_count": 131,
   "metadata": {},
   "outputs": [
    {
     "name": "stdout",
     "output_type": "stream",
     "text": [
      "Overwriting JSONBODY\n"
     ]
    }
   ],
   "source": [
    "%%writefile JSONBODY\n",
    "{\n",
    "  \"overdraftSettings\": {\n",
    "\t\"allowOverdraft\": true,\n",
    "\t\"overdraftLimit\": 0\n",
    "  },\n",
    "  \"accountType\": \"CURRENT_ACCOUNT\",\n",
    "  \"name\": \"MKCurTest222\",\n",
    "  \"accountHolderKey\": \"8a8186ac692678910169288509c606bc\",\n",
    "  \"productTypeKey\": \"8a8186aa69491c25016949888aeb10d2\",\n",
    "  \"currencyCode\": \"EUR\",\n",
    "  \"accountHolderType\": \"CLIENT\"\n",
    "}"
   ]
  },
  {
   "cell_type": "code",
   "execution_count": 132,
   "metadata": {},
   "outputs": [
    {
     "name": "stdout",
     "output_type": "stream",
     "text": [
      "API status:\n",
      "201\n",
      "Now the JSON:\n",
      "{\"encodedKey\":\"8a8186e36a167f22016a16dce3e70032\",\"creationDate\":\"2019-04-13T15:22:16+02:00\",\"lastModifiedDate\":\"2019-04-13T15:22:16+02:00\",\"id\":\"MEUK590\",\"name\":\"MKCurTest222\",\"accountHolderType\":\"CLIENT\",\"accountHolderKey\":\"8a8186ac692678910169288509c606bc\",\"accountState\":\"PENDING_APPROVAL\",\"productTypeKey\":\"8a8186aa69491c25016949888aeb10d2\",\"accountType\":\"CURRENT_ACCOUNT\",\"currencyCode\":\"EUR\",\"assignedBranchKey\":\"8a8186ac692678910169287cf43606af\",\"internalControls\":{},\"overdraftSettings\":{\"allowOverdraft\":true,\"overdraftLimit\":0},\"interestSettings\":{\"interestPaymentSettings\":{\"interestPaymentDates\":[]}},\"overdraftInterestSettings\":{\"interestRateSettings\":{\"encodedKey\":\"8a8186e36a167f22016a16dce3e70033\",\"interestRate\":0E-20,\"interestChargeFrequency\":\"ANNUALIZED\",\"interestChargeFrequencyCount\":1,\"interestRateTiers\":[],\"interestRateTerms\":\"FIXED\",\"interestRateSource\":\"FIXED_INTEREST_RATE\"}},\"balances\":{\"overdraftAmount\":0,\"technicalOverdraftAmount\":0,\"lockedBalance\":0,\"availableBalance\":0,\"holdBalance\":0,\"overdraftInterestDue\":0,\"technicalOverdraftInterestDue\":0,\"feesDue\":0},\"accruedAmounts\":{\"interestAccrued\":0,\"overdraftInterestAccrued\":0,\"technicalOverdraftInterestAccrued\":0}}\n"
     ]
    }
   ],
   "source": [
    "HEADERS = {'Accept': 'application/vnd.mambu.v2+json','Content-Type': 'application/json'}\n",
    "PARAMS = {}\n",
    "r = POST('{{env1}}/deposits', headers=HEADERS, params=PARAMS, body=\"JSONBODY\")\n",
    "print (\"API status:\")\n",
    "print(r.status_code)\n",
    "print(\"Now the JSON:\")\n",
    "print(r.text)\n",
    "encodedKey = r.json()['encodedKey']"
   ]
  },
  {
   "cell_type": "markdown",
   "metadata": {},
   "source": [
    "### Deposit money into the account"
   ]
  },
  {
   "cell_type": "code",
   "execution_count": 138,
   "metadata": {},
   "outputs": [
    {
     "name": "stdout",
     "output_type": "stream",
     "text": [
      "Overwriting JSONBODY\n"
     ]
    }
   ],
   "source": [
    "%%writefile JSONBODY\n",
    "{\n",
    "  \"transactionDetails\": {\n",
    "    \"transactionChannelId\": \"8a818e74677a2e9201677ec2b4c336a6\"\n",
    "  },\n",
    "  \"amount\": 500,\n",
    "  \"notes\": \"some notes\",\n",
    "  \"paymentOrderId\": \"{{UniqueID}}\",\n",
    "  \"externalId\": \"{{UniqueID}}\"\n",
    "}"
   ]
  },
  {
   "cell_type": "code",
   "execution_count": 139,
   "metadata": {},
   "outputs": [
    {
     "name": "stdout",
     "output_type": "stream",
     "text": [
      "API status:\n",
      "400\n",
      "Now the JSON:\n",
      "{\"errors\":[{\"errorCode\":407,\"errorReason\":\"INVALID_DEPOSIT_ACCOUNT_STATE\"}]}\n"
     ]
    }
   ],
   "source": [
    "\n",
    "HEADERS = {'Accept': 'application/vnd.mambu.v2+json','Content-Type': 'application/json'}\n",
    "PARAMS = {}\n",
    "BODYPARTS = {'UniqueID': getUUID()}\n",
    "url = \"{{env1}}\" + \"/deposits/{0}/deposit-transactions\".format(encodedKey)\n",
    "r = POST(url, headers=HEADERS, params=PARAMS, body=\"JSONBODY\", bodyparts = BODYPARTS )\n",
    "print (\"API status:\")\n",
    "print(r.status_code)\n",
    "print(\"Now the JSON:\")\n",
    "print(r.text)"
   ]
  },
  {
   "cell_type": "markdown",
   "metadata": {},
   "source": [
    "### We need to approve the deposit account before we can deposit into it"
   ]
  },
  {
   "cell_type": "code",
   "execution_count": 140,
   "metadata": {},
   "outputs": [
    {
     "name": "stdout",
     "output_type": "stream",
     "text": [
      "Overwriting JSONBODY\n"
     ]
    }
   ],
   "source": [
    "%%writefile JSONBODY\n",
    "{\n",
    "  \"action\": \"APPROVE\",\n",
    "  \"notes\": \"more notes\"\n",
    "}"
   ]
  },
  {
   "cell_type": "code",
   "execution_count": 141,
   "metadata": {},
   "outputs": [
    {
     "name": "stdout",
     "output_type": "stream",
     "text": [
      "API status:\n",
      "200\n",
      "Now the JSON:\n",
      "{\"encodedKey\":\"8a8186e36a167f22016a16dce3e70032\",\"creationDate\":\"2019-04-13T15:22:16+02:00\",\"lastModifiedDate\":\"2019-04-13T15:30:31+02:00\",\"id\":\"MEUK590\",\"name\":\"MKCurTest222\",\"accountHolderType\":\"CLIENT\",\"accountHolderKey\":\"8a8186ac692678910169288509c606bc\",\"accountState\":\"APPROVED\",\"productTypeKey\":\"8a8186aa69491c25016949888aeb10d2\",\"accountType\":\"CURRENT_ACCOUNT\",\"approvedDate\":\"2019-04-13T15:30:31+02:00\",\"currencyCode\":\"EUR\",\"assignedBranchKey\":\"8a8186ac692678910169287cf43606af\",\"internalControls\":{},\"overdraftSettings\":{\"allowOverdraft\":true,\"overdraftLimit\":0E-10},\"interestSettings\":{\"interestPaymentSettings\":{\"interestPaymentDates\":[]}},\"overdraftInterestSettings\":{\"interestRateSettings\":{\"encodedKey\":\"8a8186e36a167f22016a16dce3e70033\",\"interestRate\":0E-20,\"interestChargeFrequency\":\"ANNUALIZED\",\"interestChargeFrequencyCount\":1,\"interestRateTiers\":[],\"interestRateTerms\":\"FIXED\",\"interestRateSource\":\"FIXED_INTEREST_RATE\"}},\"balances\":{\"overdraftAmount\":0E-10,\"technicalOverdraftAmount\":0E-10,\"lockedBalance\":0E-10,\"availableBalance\":0E-10,\"holdBalance\":0E-10,\"overdraftInterestDue\":0E-10,\"technicalOverdraftInterestDue\":0E-10,\"feesDue\":0E-10},\"accruedAmounts\":{\"interestAccrued\":0E-10,\"overdraftInterestAccrued\":0E-10,\"technicalOverdraftInterestAccrued\":0E-10}}\n"
     ]
    }
   ],
   "source": [
    "HEADERS = {'Accept': 'application/vnd.mambu.v2+json','Content-Type': 'application/json'}\n",
    "PARAMS = {}\n",
    "url = \"{{env1}}\" + \"/deposits/{0}:changeState\".format(encodedKey)\n",
    "r = POST(url, headers=HEADERS, params=PARAMS, body=\"JSONBODY\")\n",
    "print (\"API status:\")\n",
    "print(r.status_code)\n",
    "print(\"Now the JSON:\")\n",
    "print(r.text)"
   ]
  },
  {
   "cell_type": "markdown",
   "metadata": {},
   "source": [
    "### Now we should be able to deposit"
   ]
  },
  {
   "cell_type": "code",
   "execution_count": 142,
   "metadata": {},
   "outputs": [
    {
     "name": "stdout",
     "output_type": "stream",
     "text": [
      "Overwriting JSONBODY\n"
     ]
    }
   ],
   "source": [
    "%%writefile JSONBODY\n",
    "{\n",
    "  \"transactionDetails\": {\n",
    "    \"transactionChannelId\": \"8a818e74677a2e9201677ec2b4c336a6\"\n",
    "  },\n",
    "  \"amount\": 500,\n",
    "  \"notes\": \"some notes\",\n",
    "  \"paymentOrderId\": \"{{UniqueID}}\",\n",
    "  \"externalId\": \"{{UniqueID}}\"\n",
    "}"
   ]
  },
  {
   "cell_type": "code",
   "execution_count": 143,
   "metadata": {},
   "outputs": [
    {
     "name": "stdout",
     "output_type": "stream",
     "text": [
      "API status:\n",
      "201\n",
      "Now the JSON:\n",
      "{\"encodedKey\":\"8a81862d6a16e587016a16e587f00001\",\"id\":\"94\",\"externalId\":\"090f393f-20be-4f34-8f89-cf609efc0ac2\",\"paymentOrderId\":\"090f393f-20be-4f34-8f89-cf609efc0ac2\",\"creationDate\":\"2019-04-13T15:31:43+02:00\",\"valueDate\":\"2019-04-13T15:31:41+02:00\",\"notes\":\"some notes\",\"parentAccountKey\":\"8a8186e36a167f22016a16dce3e70032\",\"type\":\"DEPOSIT\",\"amount\":500,\"currencyCode\":\"EUR\",\"affectedAmounts\":{\"fundsAmount\":500.0000000000,\"interestAmount\":0,\"feesAmount\":0,\"overdraftAmount\":0E-10,\"overdraftFeesAmount\":0E-10,\"overdraftInterestAmount\":0E-10,\"technicalOverdraftAmount\":0E-10,\"technicalOverdraftInterestAmount\":0E-10,\"fractionAmount\":0},\"taxes\":{},\"accountBalances\":{\"totalBalance\":500.0000000000},\"userKey\":\"8a8186ac69267891016928db604e0735\",\"branchKey\":\"8a8186ac692678910169287cf43606af\",\"terms\":{\"interestSettings\":{},\"overdraftInterestSettings\":{\"interestRate\":0E-20},\"overdraftSettings\":{\"overdraftLimit\":0E-10}},\"transactionDetails\":{\"transactionChannelKey\":\"8a818e74677a2e9201677ec2b4c336a6\",\"transactionChannelId\":\"cash\"},\"transferDetails\":{},\"fees\":[]}\n"
     ]
    }
   ],
   "source": [
    "HEADERS = {'Accept': 'application/vnd.mambu.v2+json','Content-Type': 'application/json'}\n",
    "PARAMS = {}\n",
    "BODYPARTS = {'UniqueID': getUUID()}\n",
    "url = \"{{env1}}\" + \"/deposits/{0}/deposit-transactions\".format(encodedKey)\n",
    "r = POST(url, headers=HEADERS, params=PARAMS, body=\"JSONBODY\", bodyparts=BODYPARTS)\n",
    "print (\"API status:\")\n",
    "print(r.status_code)\n",
    "print(\"Now the JSON:\")\n",
    "print(r.text)"
   ]
  },
  {
   "cell_type": "markdown",
   "metadata": {},
   "source": [
    "### Now let's see if we can DELETE"
   ]
  },
  {
   "cell_type": "code",
   "execution_count": 144,
   "metadata": {},
   "outputs": [
    {
     "name": "stdout",
     "output_type": "stream",
     "text": [
      "API status:\n",
      "400\n",
      "Now the JSON:\n",
      "{\"errors\":[{\"errorCode\":105,\"errorReason\":\"INVALID_ACCOUNT_STATE\"}]}\n"
     ]
    }
   ],
   "source": [
    "\n",
    "HEADERS = {'Accept': 'application/vnd.mambu.v2+json','Content-Type': 'application/json'}\n",
    "PARAMS = {}\n",
    "url = \"{{env1}}\" + \"/deposits/{0}\".format(encodedKey)\n",
    "r = DELETE(url, headers=HEADERS, params=PARAMS)\n",
    "print (\"API status:\")\n",
    "print(r.status_code)\n",
    "print(\"Now the JSON:\")\n",
    "print(r.text)"
   ]
  },
  {
   "cell_type": "markdown",
   "metadata": {},
   "source": [
    "### Get Account in a state where we can DELETE\n",
    "\n",
    "You can't delete whilst there are funds in the account. So Let's change balance to 0"
   ]
  },
  {
   "cell_type": "code",
   "execution_count": 145,
   "metadata": {},
   "outputs": [
    {
     "name": "stdout",
     "output_type": "stream",
     "text": [
      "Overwriting JSONBODY\n"
     ]
    }
   ],
   "source": [
    "%%writefile JSONBODY\n",
    "{\n",
    "  \"transactionDetails\": {\n",
    "    \"transactionChannelId\": \"8a818e74677a2e9201677ec2b4c336a6\"\n",
    "  },\n",
    "  \"amount\": 500,\n",
    "  \"notes\": \"some notes\",\n",
    "  \"paymentOrderId\": \"{{UniqueID}}\",\n",
    "  \"externalId\": \"{{UniqueID}}\"\n",
    "}"
   ]
  },
  {
   "cell_type": "code",
   "execution_count": 146,
   "metadata": {},
   "outputs": [
    {
     "name": "stdout",
     "output_type": "stream",
     "text": [
      "API status:\n",
      "201\n",
      "Now the JSON:\n",
      "{\"encodedKey\":\"8a81862d6a16e587016a16e587f00003\",\"id\":\"95\",\"externalId\":\"edad1e05-fc7b-4d2f-942c-12f8e2d2f610\",\"paymentOrderId\":\"edad1e05-fc7b-4d2f-942c-12f8e2d2f610\",\"creationDate\":\"2019-04-13T15:33:37+02:00\",\"valueDate\":\"2019-04-13T15:33:37+02:00\",\"notes\":\"some notes\",\"parentAccountKey\":\"8a8186e36a167f22016a16dce3e70032\",\"type\":\"WITHDRAWAL\",\"amount\":-500,\"currencyCode\":\"EUR\",\"affectedAmounts\":{\"fundsAmount\":500.0000000000,\"interestAmount\":0,\"feesAmount\":0,\"overdraftAmount\":0E-10,\"overdraftFeesAmount\":0,\"overdraftInterestAmount\":0,\"technicalOverdraftAmount\":0E-10,\"technicalOverdraftInterestAmount\":0,\"fractionAmount\":0},\"taxes\":{},\"accountBalances\":{\"totalBalance\":0E-10},\"userKey\":\"8a8186ac69267891016928db604e0735\",\"branchKey\":\"8a8186ac692678910169287cf43606af\",\"terms\":{\"interestSettings\":{},\"overdraftInterestSettings\":{},\"overdraftSettings\":{}},\"transactionDetails\":{\"transactionChannelKey\":\"8a818e74677a2e9201677ec2b4c336a6\",\"transactionChannelId\":\"cash\"},\"transferDetails\":{},\"fees\":[]}\n"
     ]
    }
   ],
   "source": [
    "HEADERS = {'Accept': 'application/vnd.mambu.v2+json','Content-Type': 'application/json'}\n",
    "PARAMS = {}\n",
    "BODYPARTS = {'UniqueID': getUUID()}\n",
    "url = \"{{env1}}\" + \"/deposits/{0}/withdrawal-transactions\".format(encodedKey)\n",
    "r = POST(url, headers=HEADERS, params=PARAMS, body=\"JSONBODY\", bodyparts=BODYPARTS)\n",
    "print (\"API status:\")\n",
    "print(r.status_code)\n",
    "print(\"Now the JSON:\")\n",
    "print(r.text)"
   ]
  },
  {
   "cell_type": "markdown",
   "metadata": {},
   "source": [
    "### Now let's see if we can DELETE now"
   ]
  },
  {
   "cell_type": "code",
   "execution_count": 147,
   "metadata": {},
   "outputs": [
    {
     "name": "stdout",
     "output_type": "stream",
     "text": [
      "API status:\n",
      "400\n",
      "Now the JSON:\n",
      "{\"errors\":[{\"errorCode\":105,\"errorReason\":\"INVALID_ACCOUNT_STATE\"}]}\n"
     ]
    }
   ],
   "source": [
    "HEADERS = {'Accept': 'application/vnd.mambu.v2+json','Content-Type': 'application/json'}\n",
    "PARAMS = {}\n",
    "url = \"{{env1}}\" + \"/deposits/{0}\".format(encodedKey)\n",
    "r = DELETE(url, headers=HEADERS, params=PARAMS)\n",
    "print (\"API status:\")\n",
    "print(r.status_code)\n",
    "print(\"Now the JSON:\")\n",
    "print(r.text)"
   ]
  },
  {
   "cell_type": "markdown",
   "metadata": {},
   "source": [
    "No we can't DELETE. Once account has been approved and had activity on it you can no longer DELETE.\n",
    "See [https://support.mambu.com/docs/deposit-accounts-life-cycle-and-states](https://support.mambu.com/docs/deposit-accounts-life-cycle-and-states)\n",
    "\n",
    "We can certainly close from the Mambu UI and this changes \"accountState\": \"CLOSED\".\n",
    "\n",
    "Can we change state to closed using \"/deposits/{depositID}:changeState\" function?\n",
    "* No the only actions that you can pass to this are (APPROVE, UNDO_APPROVE, LOCK) See [here](https://api.mambu.com/#tocSdepositaccountaction)\n",
    "* Can we update the account (with a PUT). No See below"
   ]
  },
  {
   "cell_type": "code",
   "execution_count": 178,
   "metadata": {},
   "outputs": [],
   "source": [
    "HEADERS = {'Accept': 'application/vnd.mambu.v2+json'}\n",
    "# Parameters below set up pagination and only returns max 20\n",
    "# url = \"{{env1}}/deposits/NSUX690\"\n",
    "url = \"{{env1}}\" + \"/deposits/{0}\".format(encodedKey)\n",
    "PARAMS = {'detailsLevel': 'FULL', 'paginationDetails': 'ON','limit': 20}\n",
    "r = GET(url, headers=HEADERS, params=PARAMS)\n",
    "\n",
    "accountDetails = r.json()\n",
    "accountDetails['accountState'] = \"CLOSED\"\n",
    "writeFile(accountDetails,\"JSONBODY\")"
   ]
  },
  {
   "cell_type": "code",
   "execution_count": 179,
   "metadata": {},
   "outputs": [
    {
     "name": "stdout",
     "output_type": "stream",
     "text": [
      "API status:\n",
      "400\n",
      "Now the JSON:\n",
      "{\"errors\":[{\"errorCode\":2813,\"errorSource\":\"The account state cannot be changed\",\"errorReason\":\"DEPOSIT_ACCOUNT_FIELD_NOT_EDITABLE\"}]}\n"
     ]
    }
   ],
   "source": [
    "HEADERS = {'Accept': 'application/vnd.mambu.v2+json','Content-Type': 'application/json'}\n",
    "PARAMS = {}\n",
    "url = \"{{env1}}\" + \"/deposits/{0}\".format(encodedKey)\n",
    "r = PUT(url, headers=HEADERS, params=PARAMS, body=\"JSONBODY\")\n",
    "print (\"API status:\")\n",
    "print(r.status_code)\n",
    "print(\"Now the JSON:\")\n",
    "print(r.text)"
   ]
  },
  {
   "cell_type": "markdown",
   "metadata": {},
   "source": [
    "### Can we PATCH to make the change"
   ]
  },
  {
   "cell_type": "code",
   "execution_count": 180,
   "metadata": {},
   "outputs": [
    {
     "name": "stdout",
     "output_type": "stream",
     "text": [
      "Overwriting JSONBODY\n"
     ]
    }
   ],
   "source": [
    "%%writefile JSONBODY\n",
    "[\n",
    "  {\n",
    "    \"op\": \"REPLACE\",\n",
    "    \"path\": \"accountState\",\n",
    "    \"value\": \"CLOSED\"\n",
    "  }\n",
    "]"
   ]
  },
  {
   "cell_type": "code",
   "execution_count": 181,
   "metadata": {},
   "outputs": [
    {
     "name": "stdout",
     "output_type": "stream",
     "text": [
      "API status:\n",
      "400\n",
      "Now the JSON:\n",
      "{\"errors\":[{\"errorCode\":2001,\"errorSource\":\"Field cannot be patched: /accountState\",\"errorReason\":\"FIELD_NOT_ALLOWED\"}]}\n"
     ]
    }
   ],
   "source": [
    "HEADERS = {'Accept': 'application/vnd.mambu.v2+json','Content-Type': 'application/json'}\n",
    "PARAMS = {}\n",
    "url = \"{{env1}}\" + \"/deposits/{0}\".format(encodedKey)\n",
    "r = PATCH(url, headers=HEADERS, params=PARAMS, body=\"JSONBODY\")\n",
    "print (\"API status:\")\n",
    "print(r.status_code)\n",
    "print(\"Now the JSON:\")\n",
    "print(r.text)"
   ]
  },
  {
   "cell_type": "markdown",
   "metadata": {},
   "source": [
    "Testing that my PATCH works for other attributes\n",
    "\n",
    "It does I tested with the following:"
   ]
  },
  {
   "cell_type": "code",
   "execution_count": 77,
   "metadata": {},
   "outputs": [
    {
     "name": "stdout",
     "output_type": "stream",
     "text": [
      "Overwriting JSONBODY\n"
     ]
    }
   ],
   "source": [
    "%%writefile JSONBODY\n",
    "[\n",
    "  {\n",
    "    \"op\": \"REPLACE\",\n",
    "    \"path\": \"name\",\n",
    "    \"value\": \"MKCurTest222YYYYY\"\n",
    "  }\n",
    "]"
   ]
  },
  {
   "cell_type": "markdown",
   "metadata": {},
   "source": [
    "### Is there anything in API 1.0 to do this \n",
    "[https://support.mambu.com/docs/savings-products-api](https://support.mambu.com/docs/savings-products-api)\n",
    "\n",
    "Let's to try a DELETE in API 1.0 to see if it behaves differently thena API 2.0"
   ]
  },
  {
   "cell_type": "code",
   "execution_count": 182,
   "metadata": {},
   "outputs": [
    {
     "name": "stdout",
     "output_type": "stream",
     "text": [
      "API status:\n",
      "400\n",
      "Now the JSON:\n",
      "{\"returnCode\":416,\"returnStatus\":\"INVALID_SAVINGS_ACCOUNT_STATE_TRANSITION\"}\n"
     ]
    }
   ],
   "source": [
    "HEADERS = {}\n",
    "PARAMS = {}\n",
    "url = \"{{env1}}\" + \"/savings/{0}\".format(encodedKey)\n",
    "r = DELETE(url, headers=HEADERS, params=PARAMS)\n",
    "print (\"API status:\")\n",
    "print(r.status_code)\n",
    "print(\"Now the JSON:\")\n",
    "print(r.text)"
   ]
  },
  {
   "cell_type": "markdown",
   "metadata": {},
   "source": [
    "<a id=\"solution\"></a>\n",
    "### Solution to the problem\n",
    "A colleague (Rogrigo Ocampo) in my SE team pointed me to the solution:\n",
    "https://support.mambu.com/docs/loan-transactions-api#post-transactions\n",
    "\n",
    "You need to use the API 1.0 \"/savings/{ID}/transactions\" functions\n"
   ]
  },
  {
   "cell_type": "code",
   "execution_count": 183,
   "metadata": {},
   "outputs": [
    {
     "name": "stdout",
     "output_type": "stream",
     "text": [
      "Overwriting JSONBODY\n"
     ]
    }
   ],
   "source": [
    "%%writefile JSONBODY\n",
    "{\n",
    "    \"type\": \"CLOSE\",\n",
    "    \"notes\": 'account closed via API'\n",
    "}\n"
   ]
  },
  {
   "cell_type": "code",
   "execution_count": 184,
   "metadata": {},
   "outputs": [
    {
     "name": "stdout",
     "output_type": "stream",
     "text": [
      "API status:\n",
      "200\n",
      "Now the JSON:\n",
      "{\"encodedKey\":\"8a8186e36a167f22016a16dce3e70032\",\"id\":\"MEUK590\",\"accountHolderKey\":\"8a8186ac692678910169288509c606bc\",\"accountHolderType\":\"CLIENT\",\"name\":\"MKCurTest222\",\"creationDate\":\"2019-04-13T13:22:16+0000\",\"approvedDate\":\"2019-04-13T15:30:31+0000\",\"activationDate\":\"2019-04-13T15:31:41+0000\",\"lastModifiedDate\":\"2019-04-13T14:02:30+0000\",\"closedDate\":\"2019-04-13T16:02:29+0000\",\"productTypeKey\":\"8a8186aa69491c25016949888aeb10d2\",\"accountType\":\"CURRENT_ACCOUNT\",\"accountState\":\"CLOSED\",\"balance\":\"0\",\"accruedInterest\":\"0\",\"overdraftInterestAccrued\":\"0\",\"technicalOverdraftInterestAccrued\":\"0\",\"overdraftAmount\":\"0\",\"technicalOverdraftAmount\":\"0\",\"overdraftInterestSettings\":{\"interestRate\":\"0\",\"encodedKey\":\"8a8186e36a167f22016a16dce3e70033\",\"interestChargeFrequency\":\"ANNUALIZED\",\"interestChargeFrequencyCount\":1,\"interestRateSource\":\"FIXED_INTEREST_RATE\",\"interestRateTerms\":\"FIXED\",\"accrueInterestAfterMaturity\":false},\"interestDue\":\"0\",\"technicalInterestDue\":\"0\",\"feesDue\":\"0\",\"overdraftLimit\":\"0\",\"allowOverdraft\":true,\"assignedBranchKey\":\"8a8186ac692678910169287cf43606af\",\"lockedBalance\":\"0\",\"holdBalance\":\"0\",\"currencyCode\":\"EUR\",\"currency\":{\"code\":\"EUR\",\"name\":\"Euro\",\"symbol\":\"€\",\"digitsAfterDecimal\":2,\"currencySymbolPosition\":\"BEFORE_NUMBER\",\"isBaseCurrency\":true,\"creationDate\":\"2018-12-05T14:25:48+0000\",\"lastModifiedDate\":\"2018-12-05T14:25:48+0000\"}}\n"
     ]
    }
   ],
   "source": [
    "HEADERS = {'Content-Type': 'application/json'}\n",
    "PARAMS = {}\n",
    "url = \"{{env1}}\" + \"/savings/{0}/transactions\".format(encodedKey)\n",
    "r = POST(url, headers=HEADERS, params=PARAMS, body=\"JSONBODY\")\n",
    "print (\"API status:\")\n",
    "print(r.status_code)\n",
    "print(\"Now the JSON:\")\n",
    "print(r.text)"
   ]
  },
  {
   "cell_type": "code",
   "execution_count": null,
   "metadata": {},
   "outputs": [],
   "source": []
  }
 ],
 "metadata": {
  "kernelspec": {
   "display_name": "Python 3",
   "language": "python",
   "name": "python3"
  },
  "language_info": {
   "codemirror_mode": {
    "name": "ipython",
    "version": 3
   },
   "file_extension": ".py",
   "mimetype": "text/x-python",
   "name": "python",
   "nbconvert_exporter": "python",
   "pygments_lexer": "ipython3",
   "version": "3.7.1"
  }
 },
 "nbformat": 4,
 "nbformat_minor": 2
}
